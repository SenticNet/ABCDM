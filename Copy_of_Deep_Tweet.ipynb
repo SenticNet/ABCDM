{
  "nbformat": 4,
  "nbformat_minor": 0,
  "metadata": {
    "colab": {
      "name": "Copy of Deep_Tweet.ipynb",
      "provenance": [],
      "collapsed_sections": [
        "J0pT37WS1Uk9",
        "2fBd6kkV1ZSt",
        "k22Q0RS3Dftf",
        "uKt0DnoXPmJD",
        "xWkScUI9_MiW",
        "pRNx5084QGNc",
        "rKxuWwz7tWyQ",
        "kcteM2QtkeVe",
        "raaam6alN97t",
        "88L5iu551hGo",
        "mV4Ocx46Mv9I",
        "8J4weDrkNAXQ",
        "AqUBRCGYD3oE"
      ]
    },
    "kernelspec": {
      "name": "python3",
      "display_name": "Python 3"
    },
    "accelerator": "GPU"
  },
  "cells": [
    {
      "cell_type": "markdown",
      "metadata": {
        "id": "J0pT37WS1Uk9"
      },
      "source": [
        "# Connecting to drive"
      ]
    },
    {
      "cell_type": "code",
      "metadata": {
        "id": "tSn_m9nh00p3"
      },
      "source": [
        "!apt-get install -y -qq software-properties-common python-software-properties module-init-tools\n",
        "!add-apt-repository -y ppa:alessandro-strada/ppa 2>&1 > /dev/null\n",
        "!apt-get update -qq 2>&1 > /dev/null\n",
        "!apt-get -y install -qq google-drive-ocamlfuse fuse\n",
        "from google.colab import auth\n",
        "auth.authenticate_user()\n",
        "from oauth2client.client import GoogleCredentials\n",
        "creds = GoogleCredentials.get_application_default()\n",
        "import getpass\n",
        "!google-drive-ocamlfuse -headless -id={creds.client_id} -secret={creds.client_secret} < /dev/null 2>&1 | grep URL\n",
        "vcode = getpass.getpass()\n",
        "!echo {vcode} | google-drive-ocamlfuse -headless -id={creds.client_id} -secret={creds.client_secret}"
      ],
      "execution_count": null,
      "outputs": []
    },
    {
      "cell_type": "code",
      "metadata": {
        "id": "6e7vJ9Mx1AGr"
      },
      "source": [
        "!mkdir -p drive\n",
        "!google-drive-ocamlfuse drive"
      ],
      "execution_count": null,
      "outputs": []
    },
    {
      "cell_type": "code",
      "metadata": {
        "id": "qr1VJdQ2BgNZ"
      },
      "source": [
        "from google.colab import drive\n",
        "drive.mount('/content/drive', )"
      ],
      "execution_count": null,
      "outputs": []
    },
    {
      "cell_type": "code",
      "metadata": {
        "id": "4M8BsiXe-1Rz",
        "colab": {
          "base_uri": "https://localhost:8080/",
          "height": 34
        },
        "outputId": "b9bcf7d0-9a74-4ae4-dea8-ba734e9a8a44"
      },
      "source": [
        "from google.colab import drive\n",
        "drive.mount(\"/content/drive\", force_remount=True)"
      ],
      "execution_count": null,
      "outputs": [
        {
          "output_type": "stream",
          "text": [
            "Mounted at /content/drive\n"
          ],
          "name": "stdout"
        }
      ]
    },
    {
      "cell_type": "markdown",
      "metadata": {
        "id": "2fBd6kkV1ZSt"
      },
      "source": [
        "# Loading data"
      ]
    },
    {
      "cell_type": "code",
      "metadata": {
        "id": "cvcHH3T91Yjv"
      },
      "source": [
        "XW66Qimport pandas\n",
        "import re\n",
        "from textblob import TextBlob \n",
        "\n",
        "path = 'drive/app/Datasets/Tweets/'\n",
        "\n",
        "def clean_tweet(tweet): \n",
        "        ''' \n",
        "        Utility function to clean tweet text by removing links, special characters \n",
        "        using simple regex statements. \n",
        "        '''\n",
        "        return ' '.join(re.sub(\"(@[A-Za-z0-9]+)|([^0-9A-Za-z \\t])|(\\w+:\\/\\/\\S+)\", \" \", tweet).split()) \n",
        "\n",
        "def get_tweet_sentiment(tweet): \n",
        "        ''' \n",
        "        Utility function to classify sentiment of passed tweet \n",
        "        using textblob's sentiment method \n",
        "        '''\n",
        "        # create TextBlob object of passed tweet text \n",
        "        analysis = TextBlob(clean_tweet(tweet)) \n",
        "        # set sentiment \n",
        "        return analysis.sentiment.polarity\n",
        "        '''if analysis.sentiment.polarity > 0: \n",
        "            return 'positive'\n",
        "        elif analysis.sentiment.polarity == 0: \n",
        "            return 'neutral'\n",
        "        else: \n",
        "            return 'negative'\n",
        "            '''\n",
        "\n",
        "# load data 2015 dataset\n",
        "dataframe = pandas.read_csv(path+\"filtered_dataset2015.csv\",header=None)\n",
        "meta_data = dataframe.values[:,0]\n",
        "tweets = dataframe.values[:,1]\n",
        "\n",
        "sentences_train = [clean_tweet(str(t)) for t in tweets]\n",
        "y_train = [get_tweet_sentiment(t) for t in sentences_train]\n"
      ],
      "execution_count": null,
      "outputs": []
    },
    {
      "cell_type": "code",
      "metadata": {
        "id": "OFgyNhwk-msO",
        "colab": {
          "base_uri": "https://localhost:8080/",
          "height": 51
        },
        "outputId": "798eb9ca-515a-4f99-adc0-339bf21c280d"
      },
      "source": [
        "threshold = 0.5\n",
        "indices = []\n",
        "for i in range(len(y_train)):\n",
        "  if y_train[i] > threshold or y_train[i] < -threshold:\n",
        "    indices.append(i)\n",
        "print(len(indices))\n",
        "print(len(y_train))"
      ],
      "execution_count": null,
      "outputs": [
        {
          "output_type": "stream",
          "text": [
            "907\n",
            "10022\n"
          ],
          "name": "stdout"
        }
      ]
    },
    {
      "cell_type": "markdown",
      "metadata": {
        "id": "k22Q0RS3Dftf"
      },
      "source": [
        "# Stanford Tweets (1.6M)"
      ]
    },
    {
      "cell_type": "code",
      "metadata": {
        "id": "pFF05vtW-arS",
        "colab": {
          "base_uri": "https://localhost:8080/"
        },
        "outputId": "88cc91b1-7843-4bf8-bb93-2519e2d083de"
      },
      "source": [
        "import pandas as pd  \n",
        "import numpy as np\n",
        "import time\n",
        "from ast import literal_eval\n",
        "from operator import add\n",
        "import matplotlib.pyplot as plt\n",
        "from mpl_toolkits.axes_grid1.inset_locator import zoomed_inset_axes\n",
        "from sklearn.model_selection import StratifiedKFold\n",
        "from collections import Counter\n",
        "from sklearn.utils import resample\n",
        "plt.style.use('fivethirtyeight')\n",
        "import re\n",
        "from bs4 import BeautifulSoup\n",
        "from nltk.tokenize import WordPunctTokenizer\n",
        "from keras.models import model_from_json\n",
        "from keras.preprocessing.text import Tokenizer\n",
        "from keras.preprocessing.sequence import pad_sequences\n",
        "from sklearn.preprocessing import LabelEncoder\n",
        "from keras.utils import np_utils\n",
        "from keras.wrappers.scikit_learn import KerasClassifier\n",
        "from keras.models import Sequential\n",
        "from keras import layers\n",
        "from keras.layers import Dense\n",
        "from keras.layers import Dropout, Dense, Embedding, LSTM, SpatialDropout1D, Input, MaxPooling1D, \\\n",
        "Flatten, GRU, Conv2D, Reshape, MaxPool2D, Concatenate, CuDNNLSTM, Bidirectional, GlobalAveragePooling1D, GlobalMaxPooling1D\n",
        "from keras.layers.merge import concatenate\n",
        "from keras.models import Model\n",
        "from keras.utils.vis_utils import plot_model\n",
        "from keras.callbacks import ModelCheckpoint\n",
        "from sklearn.model_selection import train_test_split\n",
        "from sklearn.feature_extraction.text import TfidfVectorizer\n",
        "from sklearn.linear_model import LogisticRegression\n",
        "from keras.layers import Conv1D, GlobalMaxPooling1D\n",
        "from keras.layers import Input, Dense, concatenate, Activation\n",
        "from keras.models import load_model\n",
        "from sklearn.metrics import roc_curve, auc\n",
        "from keras.callbacks import ModelCheckpoint\n",
        "import os\n",
        "import gc\n",
        "import csv\n",
        "from keras.layers import LeakyReLU\n",
        "from nltk import TweetTokenizer\n",
        "from nltk.corpus import stopwords\n",
        "from keras.preprocessing.sequence import pad_sequences\n",
        "from keras.layers import Dense, Input, LSTM, Embedding, Dropout, Activation, Conv1D, GRU, CuDNNGRU, CuDNNLSTM, BatchNormalization\n",
        "from keras.layers import Bidirectional, GlobalMaxPool1D, MaxPooling1D, Add, Flatten, TimeDistributed\n",
        "from keras.layers import GlobalAveragePooling1D, GlobalMaxPooling1D, concatenate, SpatialDropout1D\n",
        "from keras.models import Model, load_model\n",
        "from keras import initializers, regularizers, constraints, optimizers, layers, callbacks\n",
        "from keras import backend as K\n",
        "from keras.engine import InputSpec, Layer\n",
        "from keras.optimizers import Adam\n",
        "from keras.callbacks import ModelCheckpoint, TensorBoard, Callback, EarlyStopping\n",
        "use_gpu=True\n",
        "from keras import backend as K\n",
        "import keras.initializers\n",
        "import keras.regularizers\n",
        "import keras.constraints\n",
        "from sklearn.metrics import f1_score, classification_report, accuracy_score, confusion_matrix\n",
        "from numpy import dstack\n",
        "import tensorflow as tf\n",
        "from keras.layers.core import Lambda"
      ],
      "execution_count": null,
      "outputs": [
        {
          "output_type": "stream",
          "text": [
            "Using TensorFlow backend.\n"
          ],
          "name": "stderr"
        }
      ]
    },
    {
      "cell_type": "markdown",
      "metadata": {
        "id": "dfgjfMmXPikR"
      },
      "source": [
        "**Loading dataset**"
      ]
    },
    {
      "cell_type": "code",
      "metadata": {
        "id": "ZLm0GJqI_L4s"
      },
      "source": [
        "path = 'drive/app/Datasets/Tweets/'\n",
        "cols = ['sentiment','id','date','query_string','user','text']\n",
        "df = pd.read_csv(path + \"training.1600000.processed.noemoticon.csv\", header = None, names = cols, encoding = 'latin-1')\n",
        "df.head()"
      ],
      "execution_count": null,
      "outputs": []
    },
    {
      "cell_type": "code",
      "metadata": {
        "id": "V8wy2GCXp4Gj"
      },
      "source": [
        "csv = 'drive/app/Datasets/Tweets/clean_tweet.csv'\n",
        "df = pd.read_csv(csv,index_col=0)\n",
        "#my_df.head()\n",
        "#dfm = df.melt(var_name='columns')\n",
        "df.target.value_counts()"
      ],
      "execution_count": null,
      "outputs": []
    },
    {
      "cell_type": "markdown",
      "metadata": {
        "id": "t53Ae9BkGoIy"
      },
      "source": [
        "## New Tweet dataset"
      ]
    },
    {
      "cell_type": "code",
      "metadata": {
        "id": "9UR8I7TUCnZv",
        "colab": {
          "base_uri": "https://localhost:8080/",
          "height": 190
        },
        "outputId": "50b16671-1e0d-4802-d42f-1576bca79d21"
      },
      "source": [
        "path = 'drive/app/Datasets/Tweets/'\n",
        "'''\n",
        "dataset_name = 'Airline-Sentiment-2-w-AA.csv'\n",
        "\n",
        "cols = ['airline_sentiment','text']\n",
        "df = pd.read_csv(path + dataset_name, header = None, names = cols, encoding = 'latin-1')\n",
        "df['airline_sentiment'] = df['airline_sentiment'].replace('neutral', 2)\n",
        "df = df[df.airline_sentiment != 2]\n",
        "df['airline_sentiment'] = df['airline_sentiment'].replace('positive', 1)\n",
        "df['airline_sentiment'] = df['airline_sentiment'].replace('negative', 0)\n",
        "df.drop(df.head(1).index, inplace=True)\n",
        "print(Counter(df.airline_sentiment))\n",
        "df['text'] = df['text'].map(lambda text: tweet_cleaner_updated(text))\n",
        "df['airline_sentiment'] = df['airline_sentiment'].astype(int)\n",
        "df.head()\n",
        "\n",
        "x = df.text\n",
        "y = df.airline_sentiment\n",
        "#removing the header column\n",
        "y.drop(y.head(1).index, inplace=True)\n",
        "x.drop(x.head(1).index, inplace=True)\n",
        "y = y.astype(int)\n",
        "'''\n",
        "'''\n",
        "dataset_name = 'Twitter-sentiment-self-drive-DFE.csv'\n",
        "cols = ['sentiment','text']\n",
        "df = pd.read_csv(path + dataset_name, header = None, names = cols, encoding = 'latin-1')\n",
        "\n",
        "df = df[df.sentiment != 'not_relevant']\n",
        "df = df[df.sentiment != '3']\n",
        "\n",
        "df['sentiment'] = df['sentiment'].replace('2', 0)\n",
        "df['sentiment'] = df['sentiment'].replace('1', 0)\n",
        "df['sentiment'] = df['sentiment'].replace('4', 1)\n",
        "df['sentiment'] = df['sentiment'].replace('5', 1)\n",
        "\n",
        "print(Counter(df.sentiment))\n",
        "df['text'] = df['text'].map(lambda text: tweet_cleaner_updated(text))\n",
        "df.head()\n",
        "\n",
        "x = df.text\n",
        "y = df.sentiment\n",
        "#removing the header column\n",
        "y.drop(y.head(1).index, inplace=True)\n",
        "x.drop(x.head(1).index, inplace=True)\n",
        "y = y.astype(int)\n",
        "'''\n",
        "'''\n",
        "dataset_name = 'gender-classifier-DFE-791531.csv'\n",
        "cols = ['gender','text']\n",
        "df = pd.read_csv(path + dataset_name, header = None, names = cols, encoding = 'latin-1')\n",
        "\n",
        "df = df[df.gender != 'unknown']\n",
        "#df = df[df.gender != 'brand']\n",
        "df = df.dropna(subset=['gender'])\n",
        "\n",
        "df['gender'] = df['gender'].replace('male', 0)\n",
        "df['gender'] = df['gender'].replace('female', 0)\n",
        "df['gender'] = df['gender'].replace('brand', 1)\n",
        "\n",
        "print(Counter(df.gender))\n",
        "df['text'] = df['text'].map(lambda text: tweet_cleaner_updated(text))\n",
        "df.drop(df.head(1).index, inplace=True)\n",
        "print(Counter(df.gender))\n",
        "print(df.head())\n",
        "\n",
        "x = df.text\n",
        "y = df.gender\n",
        "y = y.astype(int)\n",
        "'''\n",
        "dataset_name = 't4sa.csv'\n",
        "cols = ['id','text','Max']\n",
        "df = pd.read_csv(path + dataset_name, header = None, names = cols, encoding = 'latin-1')\n",
        "df.drop(df.head(1).index, inplace=True)\n",
        "df.Max = df.Max.astype(int)\n",
        "print(Counter(df.Max))\n",
        "\n",
        "print(df.head())\n",
        "\n",
        "x = df.text\n",
        "y = df.Max\n",
        "y = y.astype(int)"
      ],
      "execution_count": null,
      "outputs": [
        {
          "output_type": "stream",
          "text": [
            "/usr/local/lib/python3.6/dist-packages/IPython/core/interactiveshell.py:2718: DtypeWarning: Columns (0,2) have mixed types. Specify dtype option on import or set low_memory=False.\n",
            "  interactivity=interactivity, compiler=compiler, result=result)\n"
          ],
          "name": "stderr"
        },
        {
          "output_type": "stream",
          "text": [
            "Counter({1: 371341, 0: 179050})\n",
            "                   id                                               text  Max\n",
            "1  768097627686604801  josh jenkins is looking forward to tab breeder...    1\n",
            "2  768097640278089729  rt congratulations pakistan on becoming no tes...    1\n",
            "3  768097627695042560  rt this september is taking you to maine mendo...    1\n",
            "4  768097661237026816  rt newly painted walls thanks million to our c...    1\n",
            "5  768097665418747908  rt excited to announce as of july feschotte la...    1\n"
          ],
          "name": "stdout"
        }
      ]
    },
    {
      "cell_type": "code",
      "metadata": {
        "id": "POAArEo1aLA8",
        "colab": {
          "base_uri": "https://localhost:8080/",
          "height": 34
        },
        "outputId": "1b085836-ef3b-4f72-b91d-49c24eec0c18"
      },
      "source": [
        "############## Noise Addition\n",
        "df_majority = df[df.Max == 1]\n",
        "df_minority = df[df.Max == 0]\n",
        "\n",
        "difference = df_majority.shape[0] - df_minority.shape[0]\n",
        "df_minority = df_minority.append(df_majority.tail(5000),ignore_index=False)\n",
        "df_majority = df_majority.head(df_minority.shape[0])\n",
        "df_minority.Max = 0\n",
        "df_downsampled = pd.concat([df_majority, df_minority])\n",
        "df_downsampled.text=df_downsampled.text.astype(str)\n",
        "print('Training class distributions summary: {}'.format(Counter(df_downsampled.Max)))\n",
        "\n",
        "x = df_downsampled.text\n",
        "y = df_downsampled.Max\n",
        "y = y.astype(int)"
      ],
      "execution_count": null,
      "outputs": [
        {
          "output_type": "stream",
          "text": [
            "Training class distributions summary: Counter({1: 184050, 0: 184050})\n"
          ],
          "name": "stdout"
        }
      ]
    },
    {
      "cell_type": "code",
      "metadata": {
        "id": "1WTIo3nwoW6P"
      },
      "source": [
        "from sklearn.utils.multiclass import type_of_target\n",
        "type_of_target(y)\n",
        "#df.reset_index(drop=True,inplace=True)\n",
        "#df[df.airline_sentiment == 0]"
      ],
      "execution_count": null,
      "outputs": []
    },
    {
      "cell_type": "markdown",
      "metadata": {
        "id": "MFQgPR5iRGz5"
      },
      "source": [
        "**Balancing the data set**"
      ]
    },
    {
      "cell_type": "code",
      "metadata": {
        "id": "-bIbtKRw3gvr",
        "colab": {
          "base_uri": "https://localhost:8080/",
          "height": 51
        },
        "outputId": "d0927066-de26-4eeb-8e94-5c84539cf99f"
      },
      "source": [
        "df_majority = df[df.Max == 1]\n",
        "df_minority = df[df.Max == 0]\n",
        "\n",
        "print('Training class distributions summary: {}'.format(Counter(df.Max)))\n",
        "df_majority_downsampled = resample(df_majority, replace=False, n_samples=len(df_minority),random_state=123)\n",
        "df_downsampled = pd.concat([df_majority_downsampled, df_minority])\n",
        "df_downsampled.text=df_downsampled.text.astype(str)\n",
        "print('Training class distributions summary: {}'.format(Counter(df_downsampled.Max)))\n",
        "\n",
        "x = df_downsampled.text\n",
        "y = df_downsampled.Max\n",
        "y = y.astype(int)"
      ],
      "execution_count": null,
      "outputs": [
        {
          "output_type": "stream",
          "text": [
            "Training class distributions summary: Counter({1: 371341, 0: 179050})\n",
            "Training class distributions summary: Counter({1: 179050, 0: 179050})\n"
          ],
          "name": "stdout"
        }
      ]
    },
    {
      "cell_type": "code",
      "metadata": {
        "id": "a2RHA31a8t-P"
      },
      "source": [
        "tok = WordPunctTokenizer()\n",
        "\n",
        "pat1 = r'@[A-Za-z0-9_]+'\n",
        "pat2 = r'https?://[^ ]+'\n",
        "combined_pat = r'|'.join((pat1, pat2))\n",
        "www_pat = r'www.[^ ]+'\n",
        "negations_dic = {\"isn't\":\"is not\", \"aren't\":\"are not\", \"wasn't\":\"was not\", \"weren't\":\"were not\",\n",
        "                \"haven't\":\"have not\",\"hasn't\":\"has not\",\"hadn't\":\"had not\",\"won't\":\"will not\",\n",
        "                \"wouldn't\":\"would not\", \"don't\":\"do not\", \"doesn't\":\"does not\",\"didn't\":\"did not\",\n",
        "                \"can't\":\"can not\",\"couldn't\":\"could not\",\"shouldn't\":\"should not\",\"mightn't\":\"might not\",\n",
        "                \"mustn't\":\"must not\"}\n",
        "neg_pattern = re.compile(r'\\b(' + '|'.join(negations_dic.keys()) + r')\\b')\n",
        "\n",
        "def tweet_cleaner_updated(text):\n",
        "    soup = BeautifulSoup(text, 'lxml')\n",
        "    souped = soup.get_text()\n",
        "    try:\n",
        "        bom_removed = souped.decode(\"utf-8-sig\").replace(u\"\\ufffd\", \"?\")\n",
        "    except:\n",
        "        bom_removed = souped\n",
        "    stripped = re.sub(combined_pat, '', bom_removed)\n",
        "    stripped = re.sub(www_pat, '', stripped)\n",
        "    lower_case = stripped.lower()\n",
        "    neg_handled = neg_pattern.sub(lambda x: negations_dic[x.group()], lower_case)\n",
        "    letters_only = re.sub(\"[^a-zA-Z]\", \" \", neg_handled)\n",
        "    # During the letters_only process two lines above, it has created unnecessay white spaces,\n",
        "    # I will tokenize and join together to remove unneccessary white spaces\n",
        "    words = [x for x  in tok.tokenize(letters_only) if len(x) > 1]\n",
        "    return (\" \".join(words)).strip()"
      ],
      "execution_count": null,
      "outputs": []
    },
    {
      "cell_type": "markdown",
      "metadata": {
        "id": "uKt0DnoXPmJD"
      },
      "source": [
        "# **Stanford Cleaning and Saving**"
      ]
    },
    {
      "cell_type": "code",
      "metadata": {
        "id": "ParWO2IrJ9oy"
      },
      "source": [
        "nums = [0,400000,800000,1200000,1600000]\n",
        "print(\"Cleaning and parsing the tweets...\\n\")\n",
        "clean_tweet_texts = []\n",
        "\n",
        "for i in range(nums[0],nums[4]):\n",
        "    if( (i+1)%10000 == 0 ):\n",
        "        print('Tweets %d of %d has been processed' % ( i+1, nums[4] ))\n",
        "    clean_tweet_texts.append(tweet_cleaner(df['text'][i]))\n",
        "\n",
        "clean_df = pd.DataFrame(clean_tweet_texts,columns=['text'])\n",
        "clean_df['target'] = df.sentiment\n",
        "\n",
        "clean_df.dropna(inplace=True)\n",
        "clean_df.reset_index(drop=True,inplace=True)\n",
        "\n",
        "clean_df.to_csv(path+'clean_tweet.csv', encoding='utf-8')\n",
        "\n",
        "csv = path+'clean_tweet.csv'\n",
        "my_df = pd.read_csv(csv,index_col=0)\n",
        "my_df.head()"
      ],
      "execution_count": null,
      "outputs": []
    },
    {
      "cell_type": "markdown",
      "metadata": {
        "id": "zd3SBq0xzCCA"
      },
      "source": [
        "# Word Embedding"
      ]
    },
    {
      "cell_type": "code",
      "metadata": {
        "id": "h9q6ViWtx7Sw"
      },
      "source": [
        "#sentences_train = my_df['text'].values\n",
        "\n",
        "#sentences_train = train_df['review'].values\n",
        "#y_train = train_df['target'].values\n",
        "\n",
        "#tokenizer = Tokenizer(num_words=5000)\n",
        "#tokenizer.fit_on_texts(sentences_train)\n",
        "\n",
        "def create_embedding_matrix(filepath, word_index, embedding_dim):\n",
        "    vocab_size = len(word_index) + 1  # Adding again 1 because of reserved 0 index\n",
        "    embedding_matrix = np.zeros((vocab_size, embedding_dim))\n",
        "\n",
        "    with open(filepath) as f:\n",
        "        for line in f:\n",
        "            word, *vector = line.split()\n",
        "            if word in word_index:\n",
        "                idx = word_index[word] \n",
        "                embedding_matrix[idx] = np.array(\n",
        "                    vector, dtype=np.float32)[:embedding_dim]\n",
        "\n",
        "    return embedding_matrix\n",
        "\n",
        "embedding_dim = 100\n",
        "#embedding_matrix = create_embedding_matrix('drive/app/glove.twitter.27B.100d.txt',tokenizer.word_index, embedding_dim)\n",
        "#embedding_matrix_glove = create_embedding_matrix('drive/app/gensim_glove_vectors_100.txt',tokenizer.word_index, embedding_dim)"
      ],
      "execution_count": null,
      "outputs": []
    },
    {
      "cell_type": "code",
      "metadata": {
        "id": "AhMCY19EjcJC"
      },
      "source": [
        "\n",
        "merged_embeddings = np.zeros((embedding_matrix.shape[0], embedding_matrix.shape[1]*2))\n",
        "\n",
        "for i in range(embedding_matrix_glove.shape[0]):\n",
        "  merged_embeddings[i] = np.append(embedding_matrix_glove[i],embedding_matrix[i])\n",
        "merged_embeddings.shape"
      ],
      "execution_count": null,
      "outputs": []
    },
    {
      "cell_type": "markdown",
      "metadata": {
        "id": "iXruwgyFSw5p"
      },
      "source": [
        "**Removing null text rows**"
      ]
    },
    {
      "cell_type": "code",
      "metadata": {
        "id": "TAE_5v-hOO-u",
        "colab": {
          "base_uri": "https://localhost:8080/",
          "height": 88
        },
        "outputId": "aaf8469e-8202-4bd3-8048-12b5b9dcb942"
      },
      "source": [
        "SEED = 2000\n",
        "\n",
        "#path = 'drive/app/Datasets/imdb_large/'\n",
        "#csv = path+'clean_train.csv'\n",
        "\n",
        "path = 'drive/app/Datasets/Tweets/'\n",
        "dataset_name = 'clean_tweet.csv'\n",
        "csv = path + dataset_name\n",
        "my_df = pd.read_csv(csv,index_col=0)\n",
        "my_df.dropna(inplace=True)\n",
        "my_df.reset_index(drop=True,inplace=True)\n",
        "my_df['target'] = my_df['target'].replace(4, 1)\n",
        "x = my_df.text\n",
        "#x = my_df.review\n",
        "y = my_df.target\n",
        "\n",
        "'''\n",
        "x_train, x_validation_and_test, y_train, y_validation_and_test = train_test_split(x, y, test_size=.2, random_state=SEED)\n",
        "x_validation, x_test, y_validation, y_test = train_test_split(x_validation_and_test, y_validation_and_test, test_size=.5, random_state=SEED)\n",
        "\n",
        "print(\"Train set has total {0} entries with {1:.2f}% negative, {2:.2f}% positive\".format(len(x_train),(len(x_train[y_train == 0]) / (len(x_train)*1.))*100,(len(x_train[y_train == 1]) / (len(x_train)*1.))*100))\n",
        "print(\"Validation set has total {0} entries with {1:.2f}% negative, {2:.2f}% positive\".format(len(x_validation),(len(x_validation[y_validation == 0]) / (len(x_validation)*1.))*100,(len(x_validation[y_validation == 1]) / (len(x_validation)*1.))*100))\n",
        "print(\"Test set has total {0} entries with {1:.2f}% negative, {2:.2f}% positive\".format(len(x_test),(len(x_test[y_test == 0]) / (len(x_test)*1.))*100,(len(x_test[y_test == 1]) / (len(x_test)*1.))*100))\n",
        "\n",
        "'''"
      ],
      "execution_count": null,
      "outputs": [
        {
          "output_type": "stream",
          "text": [
            "/usr/local/lib/python3.6/dist-packages/numpy/lib/arraysetops.py:569: FutureWarning: elementwise comparison failed; returning scalar instead, but in the future will perform elementwise comparison\n",
            "  mask |= (ar1 == a)\n"
          ],
          "name": "stderr"
        },
        {
          "output_type": "execute_result",
          "data": {
            "text/plain": [
              "'\\nx_train, x_validation_and_test, y_train, y_validation_and_test = train_test_split(x, y, test_size=.2, random_state=SEED)\\nx_validation, x_test, y_validation, y_test = train_test_split(x_validation_and_test, y_validation_and_test, test_size=.5, random_state=SEED)\\n\\nprint(\"Train set has total {0} entries with {1:.2f}% negative, {2:.2f}% positive\".format(len(x_train),(len(x_train[y_train == 0]) / (len(x_train)*1.))*100,(len(x_train[y_train == 1]) / (len(x_train)*1.))*100))\\nprint(\"Validation set has total {0} entries with {1:.2f}% negative, {2:.2f}% positive\".format(len(x_validation),(len(x_validation[y_validation == 0]) / (len(x_validation)*1.))*100,(len(x_validation[y_validation == 1]) / (len(x_validation)*1.))*100))\\nprint(\"Test set has total {0} entries with {1:.2f}% negative, {2:.2f}% positive\".format(len(x_test),(len(x_test[y_test == 0]) / (len(x_test)*1.))*100,(len(x_test[y_test == 1]) / (len(x_test)*1.))*100))\\n\\n'"
            ]
          },
          "metadata": {
            "tags": []
          },
          "execution_count": 4
        }
      ]
    },
    {
      "cell_type": "code",
      "metadata": {
        "id": "SzQlsKPM8ey6"
      },
      "source": [
        "tvec = TfidfVectorizer(max_features=100000,ngram_range=(1, 3))\n",
        "tvec.fit(x_train)\n",
        "\n",
        "print('TFiDF fitted!')\n",
        "x_train_tfidf = tvec.transform(x_train)\n",
        "x_test_tfidf = tvec.transform(x_test)\n",
        "\n",
        "lr_with_tfidf = LogisticRegression()\n",
        "lr_with_tfidf.fit(x_train_tfidf,y_train)\n",
        "print('Logistic regression fitted!')"
      ],
      "execution_count": null,
      "outputs": []
    },
    {
      "cell_type": "code",
      "metadata": {
        "id": "0a0kGMcw-Ke0"
      },
      "source": [
        "##################  MAX LEN = 100 or 45 ##################\n",
        "tokenizer = Tokenizer(num_words=100000)\n",
        "tokenizer.fit_on_texts(x_train)\n",
        "\n",
        "print('tokenizer fitted!')\n",
        "sequences = tokenizer.texts_to_sequences(x_train)\n",
        "\n",
        "x_train_seq = pad_sequences(sequences, maxlen= 100)\n",
        "sequences_val = tokenizer.texts_to_sequences(x_validation)\n",
        "x_val_seq = pad_sequences(sequences_val, maxlen= 100)\n"
      ],
      "execution_count": null,
      "outputs": []
    },
    {
      "cell_type": "code",
      "metadata": {
        "id": "DR2xhLyla6GL"
      },
      "source": [
        "maxlen = 45\n",
        "tweet_input = Input(shape=(x_train_seq.shape[1],), dtype='int32')\n",
        "tweet_encoder = Embedding(embedding_matrix.shape[0], embedding_dim, weights=[embedding_matrix], input_length=maxlen, trainable=True)(tweet_input)\n",
        "bigram_branch = Conv1D(filters=100, kernel_size=2, padding='valid', activation='relu', strides=1)(tweet_encoder)\n",
        "bigram_branch = GlobalMaxPooling1D()(bigram_branch)\n",
        "trigram_branch = Conv1D(filters=100, kernel_size=3, padding='valid', activation='relu', strides=1)(tweet_encoder)\n",
        "trigram_branch = GlobalMaxPooling1D()(trigram_branch)\n",
        "fourgram_branch = Conv1D(filters=100, kernel_size=4, padding='valid', activation='relu', strides=1)(tweet_encoder)\n",
        "fourgram_branch = GlobalMaxPooling1D()(fourgram_branch)\n",
        "merged = concatenate([bigram_branch, trigram_branch, fourgram_branch], axis=1)\n",
        "\n",
        "merged = Dense(256, activation='relu')(merged)\n",
        "merged = Dropout(0.2)(merged)\n",
        "merged = Dense(1)(merged)\n",
        "output = Activation('sigmoid')(merged)\n",
        "model = Model(inputs=[tweet_input], outputs=[output])\n",
        "model.compile(loss='binary_crossentropy', optimizer='adam', metrics=['accuracy'])\n",
        "plot_model(model, show_shapes=True, to_file= path + 'CNN_234.png')\n",
        "model.summary()\n",
        "\n",
        "filepath=path+\"CNN_234.hdf5\"\n",
        "checkpoint = ModelCheckpoint(filepath, monitor='val_acc', verbose=1, save_best_only=True, mode='max')\n",
        "early_stop = EarlyStopping(monitor = \"val_acc\", mode = \"max\", patience = 5)\n",
        "\n",
        "model.fit(x_train_seq, y_train, batch_size=256, epochs=50, validation_data=(x_val_seq, y_validation), callbacks = [checkpoint, early_stop])"
      ],
      "execution_count": null,
      "outputs": []
    },
    {
      "cell_type": "code",
      "metadata": {
        "id": "66SvXZwbBOvJ"
      },
      "source": [
        "def build_model1(lr=0.0, lr_d=0.0, units=0, spatial_dr=0.0, kernel_size1=3, kernel_size2=2, dense_units=128, dr=0.1, conv_size=32):\n",
        "    file_path = path + \"CNN_LSTM-2.hdf5\"\n",
        "    check_point = ModelCheckpoint(file_path, monitor = \"val_acc\", verbose = 1,\n",
        "                                  save_best_only = True, mode = \"max\")\n",
        "    early_stop = EarlyStopping(monitor = \"val_acc\", mode = \"max\", patience = 10)\n",
        "    \n",
        "    inp = Input(shape = (max_len,))\n",
        "    x = Embedding(embedding_matrix.shape[0], embedding_dim, weights = [embedding_matrix], trainable = True)(inp)\n",
        "    x1 = SpatialDropout1D(spatial_dr)(x)\n",
        "\n",
        "    x_gru = Bidirectional(CuDNNGRU(units, return_sequences = True))(x1)\n",
        "    x2 = Conv1D(conv_size, kernel_size=kernel_size1, padding='valid', kernel_initializer='he_uniform')(x_gru)\n",
        "    avg_pool1_gru = GlobalAveragePooling1D()(x2)\n",
        "    max_pool1_gru = GlobalMaxPooling1D()(x2)\n",
        "    \n",
        "    x3 = Conv1D(conv_size, kernel_size=kernel_size2, padding='valid', kernel_initializer='he_uniform')(x_gru)\n",
        "    avg_pool3_gru = GlobalAveragePooling1D()(x3)\n",
        "    max_pool3_gru = GlobalMaxPooling1D()(x3)\n",
        "    \n",
        "    x_lstm = Bidirectional(CuDNNLSTM(units, return_sequences = True))(x1)\n",
        "    x1 = Conv1D(conv_size, kernel_size=kernel_size1, padding='valid', kernel_initializer='he_uniform')(x_lstm)\n",
        "    avg_pool1_lstm = GlobalAveragePooling1D()(x1)\n",
        "    max_pool1_lstm = GlobalMaxPooling1D()(x1)\n",
        "    \n",
        "    x3 = Conv1D(conv_size, kernel_size=kernel_size2, padding='valid', kernel_initializer='he_uniform')(x_lstm)\n",
        "    avg_pool3_lstm = GlobalAveragePooling1D()(x3)\n",
        "    max_pool3_lstm = GlobalMaxPooling1D()(x3)\n",
        "    \n",
        "    \n",
        "    x = concatenate([avg_pool1_gru, max_pool1_gru, avg_pool3_gru, max_pool3_gru,\n",
        "                    avg_pool1_lstm, max_pool1_lstm, avg_pool3_lstm, max_pool3_lstm])\n",
        "    x = BatchNormalization()(x)\n",
        "    x = Dropout(dr)(Dense(dense_units, activation='relu') (x))\n",
        "    x = BatchNormalization()(x)\n",
        "    x = Dropout(dr)(Dense(int(dense_units / 2), activation='relu') (x))\n",
        "    x = Dense(1, activation = \"sigmoid\")(x)\n",
        "    model = Model(inputs = inp, outputs = x)\n",
        "    #model.compile(loss = \"binary_crossentropy\", optimizer = Adam(lr = lr, decay = lr_d), metrics = [\"accuracy\"])\n",
        "    model.compile(loss = \"binary_crossentropy\", optimizer = 'adam', metrics = [\"accuracy\"])\n",
        "    plot_model(model, show_shapes=True, to_file= path + 'CNN_LSTM-2.png')\n",
        "    model.summary()\n",
        "    early_stop = EarlyStopping(monitor = \"val_acc\", mode = \"max\", patience = 5)\n",
        "    history = model.fit(x_train_seq, y_train, batch_size = 256, epochs = 50,  validation_data=(x_val_seq, y_validation), \n",
        "                        verbose = 1, callbacks = [check_point, early_stop])\n",
        "    return model"
      ],
      "execution_count": null,
      "outputs": []
    },
    {
      "cell_type": "code",
      "metadata": {
        "id": "u2ZMxUvcB6KO"
      },
      "source": [
        "max_len = 100\n",
        "model = build_model1(lr = 1e-3, lr_d = 1e-10, units = 128, spatial_dr = 0.5, kernel_size1=2, kernel_size2=3, dense_units=64, dr=0.2, conv_size=32)"
      ],
      "execution_count": null,
      "outputs": []
    },
    {
      "cell_type": "code",
      "metadata": {
        "id": "Z9peE8gHDwK5"
      },
      "source": [
        "  def dot_product(x, kernel):\n",
        "      if K.backend() == 'tensorflow':\n",
        "          return K.squeeze(K.dot(x, K.expand_dims(kernel)), axis=-1)\n",
        "      else:\n",
        "          return K.dot(x, kernel)\n",
        "\n",
        "  from keras.layers import Layer\n",
        "\n",
        "  class AttentionWithContext(Layer):\n",
        "\n",
        "    def __init__(self,\n",
        "                W_regularizer=None, u_regularizer=None, b_regularizer=None,\n",
        "                W_constraint=None, u_constraint=None, b_constraint=None,\n",
        "                bias=True, **kwargs):\n",
        "\n",
        "        self.supports_masking = True\n",
        "        self.init = keras.initializers.get('glorot_uniform')\n",
        "\n",
        "        self.W_regularizer = keras.regularizers.get(W_regularizer)\n",
        "        self.u_regularizer = keras.regularizers.get(u_regularizer)\n",
        "        self.b_regularizer = keras.regularizers.get(b_regularizer)\n",
        "\n",
        "        self.W_constraint = keras.constraints.get(W_constraint)\n",
        "        self.u_constraint = keras.constraints.get(u_constraint)\n",
        "        self.b_constraint = keras.constraints.get(b_constraint)\n",
        "\n",
        "        self.bias = bias\n",
        "        super(AttentionWithContext, self).__init__(**kwargs)\n",
        "\n",
        "    def build(self, input_shape):\n",
        "        assert len(input_shape) == 3\n",
        "\n",
        "        self.W = self.add_weight((input_shape[-1], input_shape[-1],),\n",
        "                                initializer=self.init,\n",
        "                                name='{}_W'.format(self.name),\n",
        "                                regularizer=self.W_regularizer,\n",
        "                                constraint=self.W_constraint)\n",
        "        if self.bias:\n",
        "            self.b = self.add_weight((input_shape[-1],),\n",
        "                                    initializer='zero',\n",
        "                                    name='{}_b'.format(self.name),\n",
        "                                    regularizer=self.b_regularizer,\n",
        "                                    constraint=self.b_constraint)\n",
        "\n",
        "        self.u = self.add_weight((input_shape[-1],),\n",
        "                                initializer=self.init,\n",
        "                                name='{}_u'.format(self.name),\n",
        "                                regularizer=self.u_regularizer,\n",
        "                                constraint=self.u_constraint)\n",
        "\n",
        "        super(AttentionWithContext, self).build(input_shape)\n",
        "\n",
        "    def compute_mask(self, input, input_mask=None):\n",
        "        # do not pass the mask to the next layers\n",
        "        return None\n",
        "\n",
        "    def call(self, x, mask=None):\n",
        "        uit = dot_product(x, self.W)\n",
        "\n",
        "        if self.bias:\n",
        "            uit += self.b\n",
        "\n",
        "        uit = K.tanh(uit)\n",
        "        ait = dot_product(uit, self.u)\n",
        "\n",
        "        a = K.exp(ait)\n",
        "\n",
        "        # apply mask after the exp. will be re-normalized next\n",
        "        if mask is not None:\n",
        "            # Cast the mask to floatX to avoid float64 upcasting in theano\n",
        "            a *= K.cast(mask, K.floatx())\n",
        "\n",
        "        # in some cases especially in the early stages of training the sum may be almost zero\n",
        "        # and this results in NaN's. A workaround is to add a very small positive number ε to the sum.\n",
        "        # a /= K.cast(K.sum(a, axis=1, keepdims=True), K.floatx())\n",
        "        a /= K.cast(K.sum(a, axis=1, keepdims=True) + K.epsilon(), K.floatx())\n",
        "\n",
        "        a = K.expand_dims(a)\n",
        "        weighted_input = x * a\n",
        "        return K.sum(weighted_input, axis=1)\n",
        "\n",
        "    def compute_output_shape(self, input_shape):\n",
        "        return input_shape[0], input_shape[-1]\n",
        "      \n",
        "  def createHierarchicalAttentionModel(maxSeq, embWeights=None, embeddingSize = None, vocabSize = None,wordRnnSize=100, sentenceRnnSize=100,dropWordEmb = 0.2, dropWordRnnOut = 0.2, dropSentenceRnnOut = 0.5):\t\n",
        "    '''\n",
        "    maxSeq: maximum size for sentences\n",
        "    '''\n",
        "    # Sentence level logic\n",
        "    wordInp = Input(shape=(maxSeq,),dtype='int32')\t\n",
        "    if embWeights is None:\n",
        "      x = Embedding(vocabSize, embeddingSize, input_length=maxSeq,trainable=True)(wordInp)\n",
        "    else:\n",
        "      x = Embedding(embWeights.shape[0], embWeights.shape[1], weights=[embWeights], trainable=False)(wordInp)    \n",
        "    \n",
        "    # if dropWordEmb!=0.0:\n",
        "    # \tx = Dropout(dropWordEmb)(x)\n",
        "    wordRNN = Bidirectional(CuDNNGRU(wordRnnSize,return_sequences=True))(x)\n",
        "    # if dropWordRnnOut>0.0:\n",
        "    # \twordRNN = Dropout(dropWordRnnOut)(wordRNN)\n",
        "    word_dense = TimeDistributed(Dense(200))(wordRNN)\n",
        "    word_attention = AttentionWithContext()(word_dense)\n",
        "    modelSentEncoder = Model(wordInp,word_attention)\n",
        "\n",
        "\n",
        "    # Document level logic\n",
        "    docInp = Input(shape=(1,maxSeq),dtype='int32')\t\n",
        "    sentEncoder = TimeDistributed(modelSentEncoder)(docInp)\t\n",
        "    sentRNN = Bidirectional(CuDNNGRU(sentenceRnnSize,return_sequences=True))(sentEncoder)\n",
        "    # if dropSentenceRnnOut!=0:\n",
        "    # \tsentRNN = Dropout(dropSentenceRnnOut)(sentRNN)\n",
        "    sent_dense = TimeDistributed(Dense(200))(sentRNN)\n",
        "    sent_attention = AttentionWithContext()(sent_dense)\n",
        "    docOut = Dense(1,activation='sigmoid')(sent_attention)\n",
        "    model = Model(input=docInp,output=docOut)\n",
        "    model.compile(loss='binary_crossentropy',optimizer='adam',metrics=['accuracy'])\n",
        "    plot_model(model, show_shapes=True, to_file='drive/app/han.png')\n",
        "    return model\n"
      ],
      "execution_count": null,
      "outputs": []
    },
    {
      "cell_type": "code",
      "metadata": {
        "id": "fQt-vvUjeD6n"
      },
      "source": [
        "file_path = path + \"Attention.hdf5\"\n",
        "check_point = ModelCheckpoint(file_path, monitor = \"val_loss\", verbose = 1,\n",
        "                              save_best_only = True, mode = \"min\")\n",
        "early_stop = EarlyStopping(monitor = \"val_loss\", mode = \"min\", patience = 3)\n",
        "\n",
        "inp = Input(shape = (maxlen,), name = 'Attention-tweet-inp')\n",
        "x = Embedding(embedding_matrix.shape[0], embedding_dim, weights = [embedding_matrix], trainable = True)(inp)\n",
        "x = Bidirectional(CuDNNLSTM(128, return_sequences=True,name='Attention-tweet_BiLSTM_1'))(x)\n",
        "x = Bidirectional(CuDNNLSTM(64, return_sequences=True,name='Attention-tweet_BiLSTM_2'))(x)\n",
        "\n",
        "x = AttentionWithContext()(x)\n",
        "dense = Dense(64, activation=\"relu\",name='Attention-tweet_dense')(x)\n",
        "x = Dense(1, activation = \"sigmoid\")(x)\n",
        "model = Model(inputs = inp, outputs = x)\n",
        "model.compile(loss = \"binary_crossentropy\", optimizer = 'adam', metrics = [\"accuracy\"])\n",
        "print(model.summary())\n",
        "plot_model(model, show_shapes=True, to_file='drive/app/Attention.png')\n",
        "history = model.fit(x_train_seq, y_train, batch_size = 256, epochs = 10,  validation_data=(x_val_seq, y_validation), \n",
        "                    verbose = 1, callbacks = [check_point, early_stop])"
      ],
      "execution_count": null,
      "outputs": []
    },
    {
      "cell_type": "code",
      "metadata": {
        "id": "x7Kw-AN0s5Uo"
      },
      "source": [
        "#model_our = build_model2(lr = 1e-3, lr_d = 1e-10, units = 128, spatial_dr = 0.5, kernel_size1 = 4, kernel_size2 = 6, dense_units = 64, dr = 0.2, conv_size = 32)\n",
        "#model_our.fit(x_train_seq, y_train, batch_size = bs, epochs= ep, validation_split = 0.2, callbacks = [checkpoint, early_stop])\n",
        "embedding_dim = 100\n",
        "\n",
        "def build_model2(lr=0.0, lr_d=0.0, units=0, spatial_dr=0.0, kernel_size1=3, kernel_size2=2, dense_units=128, dr=0.1, conv_size=32):\n",
        "    file_path = path + \"our_model.hdf5\"\n",
        "    check_point = ModelCheckpoint(file_path, monitor = \"val_acc\", verbose = 1,\n",
        "                                  save_best_only = True, mode = \"max\")\n",
        "    early_stop = EarlyStopping(monitor = \"val_acc\", mode = \"max\", patience = 5)\n",
        "   \n",
        "    \n",
        "    inp = Input(shape = (max_len,), name = 'our-inp')\n",
        "    embd1 = Embedding(embedding_matrix.shape[0], embedding_dim, weights = [embedding_matrix], trainable =True, name = 'our-embd_1')(inp)\n",
        "    embd2 = Embedding(embedding_matrix_glove.shape[0], embedding_dim, weights = [embedding_matrix], trainable = False, name = 'our-embd_2')(inp)\n",
        "    \n",
        "    #embedding_matrix_glove\n",
        "    #embd = concatenate([embd1,embd2])\n",
        "    #x1 = SpatialDropout1D(spatial_dr, name = 'our-spdrop_1')(embd)\n",
        "    x1 = SpatialDropout1D(spatial_dr, name = 'our-spdrop_1')(embd1)\n",
        "    \n",
        "    x4 = SpatialDropout1D(spatial_dr, name = 'our-spdrop_2')(embd2)\n",
        "    \n",
        "    x_gru = Bidirectional(CuDNNGRU(units, return_sequences = True))(x1)\n",
        "    x_gru = Dropout(dr)(x_gru)\n",
        "    x = AttentionWithContext()(x_gru)\n",
        "    \n",
        "    #############################################\n",
        "    x = Lambda(lambda t: tf.expand_dims(t, 2))(x)\n",
        "    #############################################\n",
        "    \n",
        "    x2 = Conv1D(conv_size, kernel_size=kernel_size1, padding='valid', kernel_initializer='he_uniform')(x)\n",
        "    avg_pool1_gru = GlobalAveragePooling1D()(x2)\n",
        "    max_pool1_gru = GlobalMaxPooling1D()(x2)\n",
        "    \n",
        "    x3 = Conv1D(conv_size, kernel_size=kernel_size2, padding='valid', kernel_initializer='he_uniform')(x)\n",
        "    avg_pool3_gru = GlobalAveragePooling1D()(x3)\n",
        "    max_pool3_gru = GlobalMaxPooling1D()(x3)\n",
        "    \n",
        "    #x_lstm = Bidirectional(CuDNNLSTM(units, return_sequences = True))(x1)\n",
        "    x_lstm = Bidirectional(CuDNNLSTM(units, return_sequences = True))(x4)\n",
        "    \n",
        "    x_lstm = Dropout(dr)(x_lstm)\n",
        "    x = AttentionWithContext()(x_lstm)\n",
        "    \n",
        "    #############################################\n",
        "    x = Lambda(lambda t: tf.expand_dims(t, 2))(x)\n",
        "    #############################################\n",
        "    \n",
        "    x1 = Conv1D(conv_size, kernel_size=kernel_size1, padding='valid', kernel_initializer='he_uniform')(x)\n",
        "    avg_pool1_lstm = GlobalAveragePooling1D()(x1)\n",
        "    max_pool1_lstm = GlobalMaxPooling1D()(x1)\n",
        "    \n",
        "    x3 = Conv1D(conv_size, kernel_size=kernel_size2, padding='valid', kernel_initializer='he_uniform')(x)\n",
        "    avg_pool3_lstm = GlobalAveragePooling1D()(x3)\n",
        "    max_pool3_lstm = GlobalMaxPooling1D()(x3)\n",
        "    \n",
        "    #x1 = CuDNNLSTM(64, return_sequences=True,name='SS-BED-LSTM_11')(embd1)\n",
        "    #x1 = CuDNNLSTM(64, return_sequences=True,name='SS-BED-LSTM_12')(x1)\n",
        "    #x1 = CuDNNLSTM(64, return_sequences=False,name='SS-BED-LSTM_13')(x1)\n",
        "\n",
        "    #merged = concatenate([x1, x2], axis=1)\n",
        "\n",
        "    x = concatenate([avg_pool1_gru, max_pool1_gru, avg_pool3_gru, max_pool3_gru, avg_pool1_lstm, max_pool1_lstm,avg_pool3_lstm,max_pool3_lstm])#, x1])\n",
        "    x = BatchNormalization()(x)\n",
        "   \n",
        "    x = Dropout(dr)(Dense(dense_units, activation='relu') (x))\n",
        "    x = BatchNormalization()(x)\n",
        "    x = Dropout(dr)(x)\n",
        "    x = Dense(int(dense_units / 2), activation='relu') (x)\n",
        "    x = Dense(1, activation = \"sigmoid\")(x)\n",
        "    model = Model(inputs = inp, outputs = x)\n",
        "    model.compile(loss = \"binary_crossentropy\", optimizer = Adam(lr = lr, decay = lr_d), metrics = [\"accuracy\"])\n",
        "   # model.compile(loss = \"binary_crossentropy\", optimizer = 'adam', metrics = [\"accuracy\"])\n",
        "    \n",
        "    \n",
        "    #print(model.summary())\n",
        "    plot_model(model, show_shapes=True, to_file= path + 'our_model.png')\n",
        "    #history = model.fit(x_train_seq, y_train, batch_size = 256, epochs = 50,  validation_data=(x_val_seq, y_validation), \n",
        "     #                   verbose = 1, callbacks = [check_point, early_stop])\n",
        "    return model"
      ],
      "execution_count": null,
      "outputs": []
    },
    {
      "cell_type": "code",
      "metadata": {
        "id": "u1RG0oHDtiAV",
        "colab": {
          "base_uri": "https://localhost:8080/",
          "height": 530
        },
        "outputId": "f63c237d-e592-4e41-eace-2df7efa8ad72"
      },
      "source": [
        "max_len = 100\n",
        "model = build_model2(lr = 1e-3, lr_d = 1e-10, units = 128, spatial_dr = 0.5, kernel_size1 = 4, kernel_size2 = 6, dense_units = 64, dr = 0.2, conv_size = 32)#conv_size=32"
      ],
      "execution_count": null,
      "outputs": [
        {
          "output_type": "stream",
          "text": [
            "Train on 91436 samples, validate on 11430 samples\n",
            "Epoch 1/50\n",
            "91436/91436 [==============================] - 77s 837us/step - loss: 0.4178 - acc: 0.7971 - val_loss: 0.2712 - val_acc: 0.8950\n",
            "\n",
            "Epoch 00001: val_acc improved from -inf to 0.89501, saving model to drive/app/Datasets/our_model.hdf5\n",
            "Epoch 2/50\n",
            "91436/91436 [==============================] - 68s 744us/step - loss: 0.2495 - acc: 0.9010 - val_loss: 0.2210 - val_acc: 0.9211\n",
            "\n",
            "Epoch 00002: val_acc improved from 0.89501 to 0.92108, saving model to drive/app/Datasets/our_model.hdf5\n",
            "Epoch 3/50\n",
            " 6400/91436 [=>............................] - ETA: 1:03 - loss: 0.2215 - acc: 0.9158"
          ],
          "name": "stdout"
        },
        {
          "output_type": "error",
          "ename": "KeyboardInterrupt",
          "evalue": "ignored",
          "traceback": [
            "\u001b[0;31m---------------------------------------------------------------------------\u001b[0m",
            "\u001b[0;31mKeyboardInterrupt\u001b[0m                         Traceback (most recent call last)",
            "\u001b[0;32m<ipython-input-113-e9d32a167a3f>\u001b[0m in \u001b[0;36m<module>\u001b[0;34m()\u001b[0m\n\u001b[1;32m      1\u001b[0m \u001b[0mmax_len\u001b[0m \u001b[0;34m=\u001b[0m \u001b[0;36m100\u001b[0m\u001b[0;34m\u001b[0m\u001b[0;34m\u001b[0m\u001b[0m\n\u001b[0;32m----> 2\u001b[0;31m \u001b[0mmodel\u001b[0m \u001b[0;34m=\u001b[0m \u001b[0mbuild_model2\u001b[0m\u001b[0;34m(\u001b[0m\u001b[0mlr\u001b[0m \u001b[0;34m=\u001b[0m \u001b[0;36m1e-3\u001b[0m\u001b[0;34m,\u001b[0m \u001b[0mlr_d\u001b[0m \u001b[0;34m=\u001b[0m \u001b[0;36m1e-10\u001b[0m\u001b[0;34m,\u001b[0m \u001b[0munits\u001b[0m \u001b[0;34m=\u001b[0m \u001b[0;36m128\u001b[0m\u001b[0;34m,\u001b[0m \u001b[0mspatial_dr\u001b[0m \u001b[0;34m=\u001b[0m \u001b[0;36m0.5\u001b[0m\u001b[0;34m,\u001b[0m \u001b[0mkernel_size1\u001b[0m \u001b[0;34m=\u001b[0m \u001b[0;36m4\u001b[0m\u001b[0;34m,\u001b[0m \u001b[0mkernel_size2\u001b[0m \u001b[0;34m=\u001b[0m \u001b[0;36m6\u001b[0m\u001b[0;34m,\u001b[0m \u001b[0mdense_units\u001b[0m \u001b[0;34m=\u001b[0m \u001b[0;36m64\u001b[0m\u001b[0;34m,\u001b[0m \u001b[0mdr\u001b[0m \u001b[0;34m=\u001b[0m \u001b[0;36m0.2\u001b[0m\u001b[0;34m,\u001b[0m \u001b[0mconv_size\u001b[0m \u001b[0;34m=\u001b[0m \u001b[0;36m32\u001b[0m\u001b[0;34m)\u001b[0m\u001b[0;31m#conv_size=32\u001b[0m\u001b[0;34m\u001b[0m\u001b[0;34m\u001b[0m\u001b[0m\n\u001b[0m",
            "\u001b[0;32m<ipython-input-112-1987ba0abc92>\u001b[0m in \u001b[0;36mbuild_model2\u001b[0;34m(lr, lr_d, units, spatial_dr, kernel_size1, kernel_size2, dense_units, dr, conv_size)\u001b[0m\n\u001b[1;32m     73\u001b[0m     \u001b[0;31m#plot_model(model, show_shapes=True, to_file= path + 'our_model.png')\u001b[0m\u001b[0;34m\u001b[0m\u001b[0;34m\u001b[0m\u001b[0;34m\u001b[0m\u001b[0m\n\u001b[1;32m     74\u001b[0m     history = model.fit(x_train_seq, y_train, batch_size = 256, epochs = 50,  validation_data=(x_val_seq, y_validation), \n\u001b[0;32m---> 75\u001b[0;31m                         verbose = 1, callbacks = [check_point, early_stop])\n\u001b[0m\u001b[1;32m     76\u001b[0m     \u001b[0;32mreturn\u001b[0m \u001b[0mmodel\u001b[0m\u001b[0;34m\u001b[0m\u001b[0;34m\u001b[0m\u001b[0m\n",
            "\u001b[0;32m/usr/local/lib/python3.6/dist-packages/keras/engine/training.py\u001b[0m in \u001b[0;36mfit\u001b[0;34m(self, x, y, batch_size, epochs, verbose, callbacks, validation_split, validation_data, shuffle, class_weight, sample_weight, initial_epoch, steps_per_epoch, validation_steps, **kwargs)\u001b[0m\n\u001b[1;32m   1037\u001b[0m                                         \u001b[0minitial_epoch\u001b[0m\u001b[0;34m=\u001b[0m\u001b[0minitial_epoch\u001b[0m\u001b[0;34m,\u001b[0m\u001b[0;34m\u001b[0m\u001b[0;34m\u001b[0m\u001b[0m\n\u001b[1;32m   1038\u001b[0m                                         \u001b[0msteps_per_epoch\u001b[0m\u001b[0;34m=\u001b[0m\u001b[0msteps_per_epoch\u001b[0m\u001b[0;34m,\u001b[0m\u001b[0;34m\u001b[0m\u001b[0;34m\u001b[0m\u001b[0m\n\u001b[0;32m-> 1039\u001b[0;31m                                         validation_steps=validation_steps)\n\u001b[0m\u001b[1;32m   1040\u001b[0m \u001b[0;34m\u001b[0m\u001b[0m\n\u001b[1;32m   1041\u001b[0m     def evaluate(self, x=None, y=None,\n",
            "\u001b[0;32m/usr/local/lib/python3.6/dist-packages/keras/engine/training_arrays.py\u001b[0m in \u001b[0;36mfit_loop\u001b[0;34m(model, f, ins, out_labels, batch_size, epochs, verbose, callbacks, val_f, val_ins, shuffle, callback_metrics, initial_epoch, steps_per_epoch, validation_steps)\u001b[0m\n\u001b[1;32m    197\u001b[0m                     \u001b[0mins_batch\u001b[0m\u001b[0;34m[\u001b[0m\u001b[0mi\u001b[0m\u001b[0;34m]\u001b[0m \u001b[0;34m=\u001b[0m \u001b[0mins_batch\u001b[0m\u001b[0;34m[\u001b[0m\u001b[0mi\u001b[0m\u001b[0;34m]\u001b[0m\u001b[0;34m.\u001b[0m\u001b[0mtoarray\u001b[0m\u001b[0;34m(\u001b[0m\u001b[0;34m)\u001b[0m\u001b[0;34m\u001b[0m\u001b[0;34m\u001b[0m\u001b[0m\n\u001b[1;32m    198\u001b[0m \u001b[0;34m\u001b[0m\u001b[0m\n\u001b[0;32m--> 199\u001b[0;31m                 \u001b[0mouts\u001b[0m \u001b[0;34m=\u001b[0m \u001b[0mf\u001b[0m\u001b[0;34m(\u001b[0m\u001b[0mins_batch\u001b[0m\u001b[0;34m)\u001b[0m\u001b[0;34m\u001b[0m\u001b[0;34m\u001b[0m\u001b[0m\n\u001b[0m\u001b[1;32m    200\u001b[0m                 \u001b[0mouts\u001b[0m \u001b[0;34m=\u001b[0m \u001b[0mto_list\u001b[0m\u001b[0;34m(\u001b[0m\u001b[0mouts\u001b[0m\u001b[0;34m)\u001b[0m\u001b[0;34m\u001b[0m\u001b[0;34m\u001b[0m\u001b[0m\n\u001b[1;32m    201\u001b[0m                 \u001b[0;32mfor\u001b[0m \u001b[0ml\u001b[0m\u001b[0;34m,\u001b[0m \u001b[0mo\u001b[0m \u001b[0;32min\u001b[0m \u001b[0mzip\u001b[0m\u001b[0;34m(\u001b[0m\u001b[0mout_labels\u001b[0m\u001b[0;34m,\u001b[0m \u001b[0mouts\u001b[0m\u001b[0;34m)\u001b[0m\u001b[0;34m:\u001b[0m\u001b[0;34m\u001b[0m\u001b[0;34m\u001b[0m\u001b[0m\n",
            "\u001b[0;32m/usr/local/lib/python3.6/dist-packages/keras/backend/tensorflow_backend.py\u001b[0m in \u001b[0;36m__call__\u001b[0;34m(self, inputs)\u001b[0m\n\u001b[1;32m   2713\u001b[0m                 \u001b[0;32mreturn\u001b[0m \u001b[0mself\u001b[0m\u001b[0;34m.\u001b[0m\u001b[0m_legacy_call\u001b[0m\u001b[0;34m(\u001b[0m\u001b[0minputs\u001b[0m\u001b[0;34m)\u001b[0m\u001b[0;34m\u001b[0m\u001b[0;34m\u001b[0m\u001b[0m\n\u001b[1;32m   2714\u001b[0m \u001b[0;34m\u001b[0m\u001b[0m\n\u001b[0;32m-> 2715\u001b[0;31m             \u001b[0;32mreturn\u001b[0m \u001b[0mself\u001b[0m\u001b[0;34m.\u001b[0m\u001b[0m_call\u001b[0m\u001b[0;34m(\u001b[0m\u001b[0minputs\u001b[0m\u001b[0;34m)\u001b[0m\u001b[0;34m\u001b[0m\u001b[0;34m\u001b[0m\u001b[0m\n\u001b[0m\u001b[1;32m   2716\u001b[0m         \u001b[0;32melse\u001b[0m\u001b[0;34m:\u001b[0m\u001b[0;34m\u001b[0m\u001b[0;34m\u001b[0m\u001b[0m\n\u001b[1;32m   2717\u001b[0m             \u001b[0;32mif\u001b[0m \u001b[0mpy_any\u001b[0m\u001b[0;34m(\u001b[0m\u001b[0mis_tensor\u001b[0m\u001b[0;34m(\u001b[0m\u001b[0mx\u001b[0m\u001b[0;34m)\u001b[0m \u001b[0;32mfor\u001b[0m \u001b[0mx\u001b[0m \u001b[0;32min\u001b[0m \u001b[0minputs\u001b[0m\u001b[0;34m)\u001b[0m\u001b[0;34m:\u001b[0m\u001b[0;34m\u001b[0m\u001b[0;34m\u001b[0m\u001b[0m\n",
            "\u001b[0;32m/usr/local/lib/python3.6/dist-packages/keras/backend/tensorflow_backend.py\u001b[0m in \u001b[0;36m_call\u001b[0;34m(self, inputs)\u001b[0m\n\u001b[1;32m   2673\u001b[0m             \u001b[0mfetched\u001b[0m \u001b[0;34m=\u001b[0m \u001b[0mself\u001b[0m\u001b[0;34m.\u001b[0m\u001b[0m_callable_fn\u001b[0m\u001b[0;34m(\u001b[0m\u001b[0;34m*\u001b[0m\u001b[0marray_vals\u001b[0m\u001b[0;34m,\u001b[0m \u001b[0mrun_metadata\u001b[0m\u001b[0;34m=\u001b[0m\u001b[0mself\u001b[0m\u001b[0;34m.\u001b[0m\u001b[0mrun_metadata\u001b[0m\u001b[0;34m)\u001b[0m\u001b[0;34m\u001b[0m\u001b[0;34m\u001b[0m\u001b[0m\n\u001b[1;32m   2674\u001b[0m         \u001b[0;32melse\u001b[0m\u001b[0;34m:\u001b[0m\u001b[0;34m\u001b[0m\u001b[0;34m\u001b[0m\u001b[0m\n\u001b[0;32m-> 2675\u001b[0;31m             \u001b[0mfetched\u001b[0m \u001b[0;34m=\u001b[0m \u001b[0mself\u001b[0m\u001b[0;34m.\u001b[0m\u001b[0m_callable_fn\u001b[0m\u001b[0;34m(\u001b[0m\u001b[0;34m*\u001b[0m\u001b[0marray_vals\u001b[0m\u001b[0;34m)\u001b[0m\u001b[0;34m\u001b[0m\u001b[0;34m\u001b[0m\u001b[0m\n\u001b[0m\u001b[1;32m   2676\u001b[0m         \u001b[0;32mreturn\u001b[0m \u001b[0mfetched\u001b[0m\u001b[0;34m[\u001b[0m\u001b[0;34m:\u001b[0m\u001b[0mlen\u001b[0m\u001b[0;34m(\u001b[0m\u001b[0mself\u001b[0m\u001b[0;34m.\u001b[0m\u001b[0moutputs\u001b[0m\u001b[0;34m)\u001b[0m\u001b[0;34m]\u001b[0m\u001b[0;34m\u001b[0m\u001b[0;34m\u001b[0m\u001b[0m\n\u001b[1;32m   2677\u001b[0m \u001b[0;34m\u001b[0m\u001b[0m\n",
            "\u001b[0;32m/usr/local/lib/python3.6/dist-packages/tensorflow/python/client/session.py\u001b[0m in \u001b[0;36m__call__\u001b[0;34m(self, *args, **kwargs)\u001b[0m\n\u001b[1;32m   1456\u001b[0m         ret = tf_session.TF_SessionRunCallable(self._session._session,\n\u001b[1;32m   1457\u001b[0m                                                \u001b[0mself\u001b[0m\u001b[0;34m.\u001b[0m\u001b[0m_handle\u001b[0m\u001b[0;34m,\u001b[0m \u001b[0margs\u001b[0m\u001b[0;34m,\u001b[0m\u001b[0;34m\u001b[0m\u001b[0;34m\u001b[0m\u001b[0m\n\u001b[0;32m-> 1458\u001b[0;31m                                                run_metadata_ptr)\n\u001b[0m\u001b[1;32m   1459\u001b[0m         \u001b[0;32mif\u001b[0m \u001b[0mrun_metadata\u001b[0m\u001b[0;34m:\u001b[0m\u001b[0;34m\u001b[0m\u001b[0;34m\u001b[0m\u001b[0m\n\u001b[1;32m   1460\u001b[0m           \u001b[0mproto_data\u001b[0m \u001b[0;34m=\u001b[0m \u001b[0mtf_session\u001b[0m\u001b[0;34m.\u001b[0m\u001b[0mTF_GetBuffer\u001b[0m\u001b[0;34m(\u001b[0m\u001b[0mrun_metadata_ptr\u001b[0m\u001b[0;34m)\u001b[0m\u001b[0;34m\u001b[0m\u001b[0;34m\u001b[0m\u001b[0m\n",
            "\u001b[0;31mKeyboardInterrupt\u001b[0m: "
          ]
        }
      ]
    },
    {
      "cell_type": "code",
      "metadata": {
        "id": "lD66rVNeSX45"
      },
      "source": [
        "embedding_dim = 100\n",
        "\n",
        "spatial_dr = 0.5\n",
        "file_path = path + \"our_test_model.hdf5\"\n",
        "check_point = ModelCheckpoint(file_path, monitor = \"val_acc\", verbose = 1,\n",
        "                              save_best_only = True, mode = \"max\")\n",
        "early_stop = EarlyStopping(monitor = \"val_acc\", mode = \"max\", patience = 5)\n",
        "m_name = 'our_test_'\n",
        "inp = Input(shape = (max_len,), name = m_name+'inp')\n",
        "embd = Embedding(embedding_matrix.shape[0], embedding_dim, weights = [embedding_matrix], trainable = True, name = 'our-embd_1')(inp)\n",
        "x1 = SpatialDropout1D(spatial_dr, name = 'our-spdrop_1')(embd)\n",
        "# channel 1\n",
        "conv1 = layers.Conv1D(filters=64, kernel_size=4, activation='relu',name=m_name+'conv_1')(embd)\n",
        "drop1 = Dropout(0.5,name=m_name+'drop_11')(conv1)\n",
        "pool1 = layers.MaxPooling1D(pool_size=2,name=m_name+'pool_1')(drop1)\n",
        "GRU1 = CuDNNGRU(units = 20,name=m_name+'gru_1')(drop1)\n",
        "drop1 = Dropout(0.2,name=m_name+'drop_12')(GRU1)\n",
        "# channel 2\n",
        "conv2 = layers.Conv1D(filters=64, kernel_size=6, activation='relu',name=m_name+'conv_2')(embd)\n",
        "drop2 = Dropout(0.5,name=m_name+'drop_21')(conv2)\n",
        "pool2 = layers.MaxPooling1D(pool_size=2,name=m_name+'pool_2')(drop2)\n",
        "GRU2 = CuDNNGRU(units = 15, name=m_name+'gru_2')(drop2)\n",
        "drop2 = Dropout(0.2,name=m_name+'drop_22')(GRU2)\n",
        "# channel 3\n",
        "conv3 = layers.Conv1D(filters=64, kernel_size=8, activation='relu',name=m_name+'conv_3')(embd)\n",
        "drop3 = Dropout(0.5,name=m_name+'drop_31')(conv3)\n",
        "pool3 = layers.MaxPooling1D(pool_size=2,name=m_name+'pool_3')(drop3)\n",
        "GRU3 = CuDNNGRU(units = 10, name=m_name+'gru_3')(drop3)\n",
        "drop3 = Dropout(0.2,name=m_name+'drop_32')(GRU3)\n",
        "# merge\n",
        "merged = concatenate([drop1, drop2, drop3],name=m_name+'concat')\n",
        "# interpretation\n",
        "dense1 = Dense(64, activation='relu',name=m_name+'dense')(merged)\n",
        "x = Dense(1, activation = \"sigmoid\",name=m_name+'out')(dense1)\n",
        "\n",
        "model = Model(inputs = inp, outputs = x)\n",
        "model.compile(loss = \"binary_crossentropy\", optimizer = 'adam', metrics = [\"accuracy\"])\n",
        "# summarize\n",
        "print(model.summary())\n",
        "plot_model(model, show_shapes=True, to_file=path+'our_test.png')\n",
        "history = model.fit(x_train_seq, y_train, batch_size = 256, epochs = 50,  validation_data=(x_val_seq, y_validation), \n",
        "                        verbose = 1, callbacks = [check_point, early_stop])"
      ],
      "execution_count": null,
      "outputs": []
    },
    {
      "cell_type": "code",
      "metadata": {
        "id": "OmPj2GhILI1f",
        "colab": {
          "base_uri": "https://localhost:8080/",
          "height": 289
        },
        "outputId": "c1f4c542-9006-420f-d096-546646e3d4d1"
      },
      "source": [
        "!wget https://github.com/MaxGhenis/random/raw/master/Roboto-Regular.ttf -P /usr/local/lib/python3.6/dist-packages/matplotlib/mpl-data/fonts/ttf\n",
        "import matplotlib as mpl\n",
        "mpl.font_manager._rebuild()\n",
        "mpl.rc('font', family='Roboto')"
      ],
      "execution_count": null,
      "outputs": [
        {
          "output_type": "stream",
          "text": [
            "--2019-07-27 09:14:29--  https://github.com/MaxGhenis/random/raw/master/Roboto-Regular.ttf\n",
            "Resolving github.com (github.com)... 140.82.113.3\n",
            "Connecting to github.com (github.com)|140.82.113.3|:443... connected.\n",
            "HTTP request sent, awaiting response... 302 Found\n",
            "Location: https://raw.githubusercontent.com/MaxGhenis/random/master/Roboto-Regular.ttf [following]\n",
            "--2019-07-27 09:14:30--  https://raw.githubusercontent.com/MaxGhenis/random/master/Roboto-Regular.ttf\n",
            "Resolving raw.githubusercontent.com (raw.githubusercontent.com)... 151.101.0.133, 151.101.64.133, 151.101.128.133, ...\n",
            "Connecting to raw.githubusercontent.com (raw.githubusercontent.com)|151.101.0.133|:443... connected.\n",
            "HTTP request sent, awaiting response... 200 OK\n",
            "Length: 145348 (142K) [application/octet-stream]\n",
            "Saving to: ‘/usr/local/lib/python3.6/dist-packages/matplotlib/mpl-data/fonts/ttf/Roboto-Regular.ttf’\n",
            "\n",
            "Roboto-Regular.ttf  100%[===================>] 141.94K  --.-KB/s    in 0.04s   \n",
            "\n",
            "2019-07-27 09:14:30 (3.82 MB/s) - ‘/usr/local/lib/python3.6/dist-packages/matplotlib/mpl-data/fonts/ttf/Roboto-Regular.ttf’ saved [145348/145348]\n",
            "\n"
          ],
          "name": "stdout"
        }
      ]
    },
    {
      "cell_type": "code",
      "metadata": {
        "id": "lPuGMr5Aft-L"
      },
      "source": [
        "#path = 'drive/app/Datasets/dataset-amazon/'\n",
        "#path = 'drive/app/Datasets/'#Tweets/'#Saved_models/'\n",
        "max_len = 100\n",
        "dataset_name = 'CD'\n",
        "\n",
        "loaded_our_model = load_model(path+'our_model.hdf5', custom_objects={'AttentionWithContext': AttentionWithContext , \"tf\": tf})\n",
        "print('Our model loaded')\n",
        "#loaded_SSBED_model = load_model(path +  'SS-BED.hdf5')\n",
        "print('SS-BED model loaded')\n",
        "#loaded_ARC_model = load_model(path + 'ARC.hdf5', custom_objects={'AttentionWithContext': AttentionWithContext , \"tf\": tf})\n",
        "print('ARC model loaded')\n",
        "#loaded_HAN_model = load_model(path  + 'HAN.hdf5', custom_objects={'AttentionWithContext': AttentionWithContext})\n",
        "print('HAN model loaded')\n",
        "#loaded_CRNN_model = load_model(path  + 'CRNN.hdf5')\n",
        "print('CRNN model loaded')\n",
        "#loaded_IWV_model = load_model(path  + 'IWV.hdf5')\n",
        "print('IWV model loaded')\n",
        "#loaded_ACBiLSTM_model = load_model(path  + 'AC_BiLSTM.hdf5', custom_objects={'AttentionWithContext': AttentionWithContext})\n",
        "print('AC-BiLSTM model loaded')\n",
        "\n",
        "sequences_test = tokenizer.texts_to_sequences(x_test)\n",
        "x_test_seq = pad_sequences(sequences_test, maxlen=max_len)\n",
        "\n",
        "yhat_our = loaded_our_model.predict(x_test_seq)\n",
        "print('our model complete!')\n",
        "\n",
        "#yhat_ssbed = loaded_SSBED_model.predict(x_test_seq)\n",
        "print('SS-BED model complete!')\n",
        "\n",
        "#yhat_arc = loaded_ARC_model.predict(x_test_seq)\n",
        "print('ARC model complete!')\n",
        "\n",
        "################################################################################\n",
        "x_test_seq_exp = np.expand_dims(x_test_seq, axis=1)\n",
        "y_test_exp = np.expand_dims(y_test, axis=1)\n",
        "\n",
        "#yhat_han = loaded_HAN_model.predict(x_test_seq_exp)\n",
        "print('HAN model complete!')\n",
        "################################################################################\n",
        "#yhat_crnn = loaded_CRNN_model.predict(x_test_seq)\n",
        "print('CRNN model complete!')\n",
        "\n",
        "#yhat_iwv = loaded_IWV_model.predict(x_test_seq)\n",
        "print('IWV model complete!')\n",
        "\n",
        "#yhat_acbilstm = loaded_ACBiLSTM_model.predict(x_test_seq)\n",
        "print('ACBiLSTM model complete!')\n",
        "\n",
        "fpr_our, tpr_our, threshold = roc_curve(y_test, yhat_our)\n",
        "roc_auc_our = auc(fpr_our, tpr_our)\n",
        "\n",
        "fpr_ssbed, tpr_ssbed, threshold = roc_curve(y_test, yhat_ssbed)\n",
        "roc_auc_ssbed = auc(fpr_ssbed, tpr_ssbed)\n",
        "\n",
        "fpr_arc, tpr_arc, threshold = roc_curve(y_test, yhat_arc)\n",
        "roc_auc_arc = auc(fpr_arc, tpr_arc)\n",
        "\n",
        "fpr_han, tpr_han, threshold = roc_curve(y_test_exp, yhat_han)\n",
        "roc_auc_han = auc(fpr_han, tpr_han)\n",
        "\n",
        "fpr_crn, tpr_crn, threshold = roc_curve(y_test, yhat_crnn)\n",
        "roc_auc_crn = auc(fpr_crn, tpr_crn)\n",
        "\n",
        "fpr_iwv, tpr_iwv, threshold = roc_curve(y_test, yhat_iwv)\n",
        "roc_auc_iwv = auc(fpr_iwv, tpr_iwv)\n",
        "\n",
        "fpr_acbilstm, tpr_acbilstm, threshold = roc_curve(y_test, yhat_acbilstm)\n",
        "roc_auc_acbilstm = auc(fpr_acbilstm, tpr_acbilstm)\n",
        "\n",
        "#############################3333\n",
        "fpr_stacked, tpr_stacked, threshold = roc_curve(y_test, yhat[:,1])\n",
        "roc_auc_stacked = auc(fpr_stacked, tpr_stacked)\n",
        "#################################3\n",
        "\n",
        "fig, ax = plt.subplots(figsize=(8,7)) # create a new figure with a default 111 subplot\n",
        "#plt.gcf().set_facecolor('white')\n",
        "ax.plot(fpr_our, tpr_our, label='Our Model (area = %0.3f)' % roc_auc_our, linewidth=2, color = 'red')\n",
        "ax.plot(fpr_ssbed, tpr_ssbed, label='SS-BED (area = %0.3f)' % roc_auc_ssbed, linewidth=2)\n",
        "ax.plot(fpr_arc, tpr_arc, label='ARC (area = %0.3f)' % roc_auc_arc, linewidth=2)\n",
        "ax.plot(fpr_han, tpr_han, label='HAN (area = %0.3f)' % roc_auc_han, linewidth=2)\n",
        "ax.plot(fpr_crn, tpr_crn, label='CRNN (area = %0.3f)' % roc_auc_crn, linewidth=2)\n",
        "ax.plot(fpr_iwv, tpr_iwv, label='IWV (area = %0.3f)' % roc_auc_iwv, linewidth=2)\n",
        "ax.plot(fpr_acbilstm, tpr_acbilstm, label='AC-BiLSTM (area = %0.3f)' % roc_auc_acbilstm, linewidth=2)\n",
        "\n",
        "ax.plot(fpr_stacked, tpr_stacked, label='Stacked (area = %0.3f)' % roc_auc_stacked, linewidth=2)\n",
        "\n",
        "#ax.plot([0, 1], [0, 1], 'k--', linewidth=2)\n",
        "#ax.set_facecolor('white')\n",
        "ax.set_xlabel('False Positive Rate', fontsize=18)\n",
        "ax.set_ylabel('True Positive Rate')\n",
        "ax.set_title('Receiver operating characteristic')\n",
        "ax.legend(loc='lower left',  ncol = 2,bbox_to_anchor=(0.05, 0.0, 0.0, 0.0),framealpha= 0.2)\n",
        "\n",
        "\n",
        "axins = zoomed_inset_axes(ax, 1.5, loc = 'center right') # zoom-factor: 2.5, location: upper-left\n",
        "\n",
        "axins.plot(fpr_our, tpr_our, label='Our Model (area = %0.3f)' % roc_auc_our, linewidth=2, color = 'red')\n",
        "axins.plot(fpr_ssbed, tpr_ssbed, label='SS-BED (area = %0.3f)' % roc_auc_ssbed, linewidth=2)\n",
        "axins.plot(fpr_arc, tpr_arc, label='ARC (area = %0.3f)' % roc_auc_arc, linewidth=2)\n",
        "axins.plot(fpr_han, tpr_han, label='HAN (area = %0.3f)' % roc_auc_han, linewidth=2)\n",
        "axins.plot(fpr_crn, tpr_crn, label='CRNN (area = %0.3f)' % roc_auc_crn, linewidth=2)\n",
        "axins.plot(fpr_iwv, tpr_iwv, label='IWV (area = %0.3f)' % roc_auc_iwv, linewidth=2)\n",
        "axins.plot(fpr_acbilstm, tpr_acbilstm, label='AC-BiLSTM (area = %0.3f)' % roc_auc_acbilstm, linewidth=2)\n",
        "\n",
        "\n",
        "axins.plot(fpr_stacked, tpr_stacked, label='Stacked (area = %0.3f)' % roc_auc_stacked, linewidth=2)\n",
        "#axins.legend(loc='best', bbox_to_anchor=(0.95, 0.0, 0.43, 0.3), fancybox=True, framealpha=0.5)\n",
        "\n",
        "axins.patch.set_facecolor('white')\n",
        "axins.patch.set_alpha(0.3)\n",
        "\n",
        "axins.spines['bottom'].set_color('0.7')\n",
        "axins.spines['bottom'].set_linewidth('1')\n",
        "axins.spines['bottom'].set_linestyle('--')\n",
        "axins.spines['top'].set_color('0.7')\n",
        "axins.spines['top'].set_linewidth('1')\n",
        "axins.spines['top'].set_linestyle('--')\n",
        "axins.spines['right'].set_color('0.7')\n",
        "axins.spines['right'].set_linewidth('1')\n",
        "axins.spines['right'].set_linestyle('--')\n",
        "axins.spines['left'].set_color('0.7')\n",
        "axins.spines['left'].set_linewidth('1') \n",
        "axins.spines['left'].set_linestyle('--')  \n",
        "\n",
        "x1, x2, y1, y2 = 0, 0.3, 0.7, 1 # specify the limits\n",
        "#x1, x2, y1, y2 = 0.2, 0.5, 0.6, 0.9 # specify the limits\n",
        "\n",
        "axins.set_xlim(x1, x2) # apply the x-limits\n",
        "axins.set_ylim(y1, y2) # apply the y-limits\n",
        "\n",
        "plt.yticks(visible=False)\n",
        "plt.xticks(visible=False)\n",
        "plt.grid(visible=False)\n",
        "\n",
        "from mpl_toolkits.axes_grid1.inset_locator import mark_inset\n",
        "mark_inset(ax, axins, loc1=1, loc2=3, fc=\"white\", ec=\"0.3\", alpha = 0.3, ls = '-.')\n",
        "\n",
        "plt.savefig(path+ dataset_name + '-AUC.png',dpi=300,bbox_inches = 'tight',pad_inches = 0.1)"
      ],
      "execution_count": null,
      "outputs": []
    },
    {
      "cell_type": "code",
      "metadata": {
        "id": "mZbKOcNNaMCp",
        "colab": {
          "base_uri": "https://localhost:8080/",
          "height": 306
        },
        "outputId": "79fb6dbf-0dae-4525-a9d4-ddc5e07aeb0e"
      },
      "source": [
        "classifiers = [yhat_our, yhat_ssbed,yhat_arc, yhat_han, yhat_crnn, yhat_iwv, yhat_acbilstm, yhat[:,1]]#[yhat_ssbed, yhat_cnn, yhat_lstm]\n",
        "classifiers_name = ['Our -' ,'Our +','SS-BED - ','SS-BED +','ARC -', 'ARC +','HAN -', 'HAN +','CRNN -', 'CRNN +','IWV -', 'IWV +','AC-BiLSTM -','AC-BiLSTM +','Stacked -','Stacked +']#SS-BED', 'CNN']#\n",
        "dataset_name = 'CD'\n",
        "\n",
        "y_test_list = y_test.tolist()\n",
        "results = []\n",
        "for c,i in zip(classifiers,range(len(classifiers))):\n",
        "  labels = (c > 0.5).astype(np.int)\n",
        "  labels = labels.flatten().tolist()\n",
        "  \n",
        "  data = []\n",
        "  cnf_matrix = confusion_matrix(y_test_list, labels)\n",
        "\n",
        "  FP = cnf_matrix.sum(axis=0) - np.diag(cnf_matrix)  \n",
        "  FN = cnf_matrix.sum(axis=1) - np.diag(cnf_matrix)\n",
        "  TP = np.diag(cnf_matrix)\n",
        "  TN = cnf_matrix.sum() - (FP + FN + TP)\n",
        "  \n",
        "\n",
        "  FP = FP.astype(float)\n",
        "  FN = FN.astype(float)\n",
        "  TP = TP.astype(float)\n",
        "  TN = TN.astype(float)\n",
        "\n",
        "  # Sensitivity, hit rate, recall, or true positive rate\n",
        "  TPR = TP/(TP+FN)\n",
        "  # Specificity or true negative rate\n",
        "  TNR = TN/(TN+FP) \n",
        "  # Precision or positive predictive value\n",
        "  PPV = TP/(TP+FP)\n",
        "  # Negative predictive value\n",
        "  NPV = TN/(TN+FN)\n",
        "  # Fall out or false positive rate\n",
        "  FPR = FP/(FP+TN)\n",
        "  # False negative rate\n",
        "  FNR = FN/(TP+FN)\n",
        "  # False discovery rate\n",
        "  FDR = FP/(TP+FP)\n",
        "  # Overall accuracy\n",
        "  ACC = (TP+TN)/(TP+FP+FN+TN)\n",
        "  F1 = (2 * TPR * PPV)/(TPR + PPV)\n",
        "  data.append(TPR)\n",
        "  data.append(TNR)\n",
        "  data.append(PPV)\n",
        "  #data.append(NPV)\n",
        "  #data.append(FPR)\n",
        "  #data.append(FDR)\n",
        "  data.append(F1)\n",
        "  data.append(ACC)\n",
        "  \n",
        "  results.append([round(d[0],4) for d in data])\n",
        "  results.append([round(d[1],4) for d in data])\n",
        "\n",
        "print(\"\\t Recall, Specifity, Precision, F1, Accuracy\")\n",
        "for r,name in zip(results,classifiers_name):\n",
        "  print(name,': ',r)\n",
        "with open(path + dataset_name + \"-Results.txt\", \"w\") as filehandle:  \n",
        "    filehandle.writelines(f\"{name} %s\\n\" %r for r,name in zip(results,classifiers_name))"
      ],
      "execution_count": null,
      "outputs": [
        {
          "output_type": "stream",
          "text": [
            "\t Recall, Specifity, Precision, F1, Accuracy\n",
            "Our - :  [0.9188, 0.9162, 0.916, 0.9174, 0.9175]\n",
            "Our + :  [0.9162, 0.9188, 0.9189, 0.9176, 0.9175]\n",
            "SS-BED -  :  [0.8964, 0.9085, 0.907, 0.9016, 0.9024]\n",
            "SS-BED + :  [0.9085, 0.8964, 0.8981, 0.9032, 0.9024]\n",
            "ARC - :  [0.8835, 0.8715, 0.8725, 0.878, 0.8775]\n",
            "ARC + :  [0.8715, 0.8835, 0.8826, 0.877, 0.8775]\n",
            "HAN - :  [0.9007, 0.9052, 0.9044, 0.9025, 0.903]\n",
            "HAN + :  [0.9052, 0.9007, 0.9016, 0.9034, 0.903]\n",
            "CRNN - :  [0.8699, 0.8896, 0.8869, 0.8783, 0.8797]\n",
            "CRNN + :  [0.8896, 0.8699, 0.8729, 0.8812, 0.8797]\n",
            "IWV - :  [0.8968, 0.8524, 0.8581, 0.877, 0.8746]\n",
            "IWV + :  [0.8524, 0.8968, 0.8925, 0.872, 0.8746]\n",
            "AC-BiLSTM - :  [0.9102, 0.8686, 0.8733, 0.8914, 0.8893]\n",
            "AC-BiLSTM + :  [0.8686, 0.9102, 0.9067, 0.8872, 0.8893]\n",
            "Stacked - :  [0.9277, 0.9239, 0.9239, 0.9258, 0.9258]\n",
            "Stacked + :  [0.9239, 0.9277, 0.9277, 0.9258, 0.9258]\n"
          ],
          "name": "stdout"
        }
      ]
    },
    {
      "cell_type": "code",
      "metadata": {
        "id": "o1SwcAijvZB7"
      },
      "source": [
        "# Zoom in view of the upper left corner.\n",
        "\n",
        "plt.figure(figsize=(8,7))\n",
        "plt.xlim(0, 0.2)\n",
        "plt.ylim(0.8, 1)\n",
        "plt.plot([0, 1], [0, 1], 'k--')\n",
        "\n",
        "plt.plot(fpr_our, tpr_our, label='OUR (area = %0.3f)' % roc_auc_our, linewidth=2)\n",
        "plt.plot(fpr_ssbed, tpr_ssbed, label='SS-BED (area = %0.3f)' % roc_auc_ssbed, linewidth=2)\n",
        "plt.plot(fpr_arc, tpr_arc, label='ARC (area = %0.3f)' % roc_auc_arc, linewidth=2)\n",
        "plt.plot(fpr_han, tpr_han, label='HAN (area = %0.3f)' % roc_auc_han, linewidth=2)\n",
        "plt.plot(fpr_crn, tpr_crn, label='CRNN (area = %0.3f)' % roc_auc_crn, linewidth=2)\n",
        "plt.plot(fpr_iwv, tpr_iwv, label='IWV (area = %0.3f)' % roc_auc_iwv, linewidth=2)\n",
        "plt.plot(fpr_acbilstm, tpr_acbilstm, label='AC-BiLSTM (area = %0.3f)' % roc_auc_acbilstm, linewidth=2)\n",
        "\n",
        "plt.xlabel('False positive rate')\n",
        "plt.ylabel('True positive rate')\n",
        "plt.title('ROC curve (zoomed in at top left)')\n",
        "plt.legend(loc='best')\n",
        "plt.show()"
      ],
      "execution_count": null,
      "outputs": []
    },
    {
      "cell_type": "code",
      "metadata": {
        "id": "aNm5W5MqZDvM",
        "colab": {
          "base_uri": "https://localhost:8080/",
          "height": 54
        },
        "outputId": "1a6c0fdd-3be2-4c48-e481-646077ca8bee"
      },
      "source": [
        "print(FP, FN, TP, TN, TPR,TNR,PPV,NPV,FPR,FDR,ACC)"
      ],
      "execution_count": null,
      "outputs": [
        {
          "output_type": "stream",
          "text": [
            "657.0 1222.0 11146.0 11595.0 0.9011966364812419 0.9463761018609207 0.944336185715496 0.9046578762580947 0.053623898139079335 0.05566381428450394 0.9236799350121853\n"
          ],
          "name": "stdout"
        }
      ]
    },
    {
      "cell_type": "markdown",
      "metadata": {
        "id": "xWkScUI9_MiW"
      },
      "source": [
        "# Ensemble\n"
      ]
    },
    {
      "cell_type": "code",
      "metadata": {
        "id": "JbAskkM8Ei3K",
        "colab": {
          "base_uri": "https://localhost:8080/"
        },
        "outputId": "cd0ff991-586e-4c4c-ba75-738b851adc31"
      },
      "source": [
        "from keras.models import load_model\n",
        "import numpy as np\n",
        "import pandas as pd\n",
        "\n",
        "model_names = ['CNN_best_weights.02-0.8266.hdf5','best_tweet_model.hdf5','Attention-tweet.hdf5','best_tweet_attention_model.hdf5']\n",
        "def load_all_models():\n",
        "  all_models = list()\n",
        "  for filename in model_names:\n",
        "    if 'attention' in filename.lower():\n",
        "      model = load_model(path+filename, custom_objects={'AttentionWithContext': AttentionWithContext})\n",
        "    else:\n",
        "      model = load_model(path+filename)\n",
        "    print('>loaded %s' % filename)\n",
        "    all_models.append(model)\n",
        "  return all_models\n",
        "\n",
        "#members = load_all_models()\n",
        "print('Loaded %d models' % len(members))\n",
        "for model in members:\n",
        "    _, acc = model.evaluate(x_test_seq, y_test, verbose=2)\n",
        "    pred = model.predict(x_test_seq)\n",
        "    print('Model Accuracy: %.3f' % acc)\n",
        "\n",
        "# create stacked model input dataset as outputs from the ensemble\n",
        "def stacked_dataset(members, inputX):\n",
        "  stackX = None\n",
        "  for model in members:\n",
        "    # make prediction\n",
        "    yhat = model.predict(inputX, verbose=0)\n",
        "    # stack predictions into [rows, members, probabilities]\n",
        "    if stackX is None:\n",
        "      stackX = yhat\n",
        "    else:\n",
        "      stackX = dstack((stackX, yhat))\n",
        "  # flatten predictions to [rows, members x probabilities]\n",
        "  stackX = stackX.reshape((stackX.shape[0], stackX.shape[1]*stackX.shape[2]))\n",
        "  return stackX\n",
        "\n",
        "# fit a model based on the outputs from the ensemble members\n",
        "def fit_stacked_model(members, inputX, inputy):\n",
        "  # create dataset using ensemble\n",
        "  stackedX = stacked_dataset(members, inputX)\n",
        "  # fit standalone model\n",
        "  model = LogisticRegression()\n",
        "  model.fit(stackedX, inputy)\n",
        "  return model\n",
        "\n",
        "# fit stacked model using the ensemble\n",
        "#model = fit_stacked_model(members, x_test_seq, y_test)\n",
        "\n",
        "def stacked_prediction(members, model, inputX):\n",
        "\t# create dataset using ensemble\n",
        "\tstackedX = stacked_dataset(members, inputX)\n",
        "\t# make a prediction\n",
        "\tyhat = model.predict(stackedX)\n",
        "\treturn yhat\n",
        "# evaluate model on test set\n",
        "#yhat = stacked_prediction(members, model, x_test_seq)\n",
        "#acc = accuracy_score(y_test, yhat)\n",
        "print('Stacked Test Accuracy: %.3f' % acc)"
      ],
      "execution_count": null,
      "outputs": [
        {
          "output_type": "error",
          "ename": "NameError",
          "evalue": "ignored",
          "traceback": [
            "\u001b[0;31m---------------------------------------------------------------------------\u001b[0m",
            "\u001b[0;31mNameError\u001b[0m                                 Traceback (most recent call last)",
            "\u001b[0;32m<ipython-input-7-718c835375ae>\u001b[0m in \u001b[0;36m<module>\u001b[0;34m()\u001b[0m\n\u001b[1;32m     16\u001b[0m \u001b[0;34m\u001b[0m\u001b[0m\n\u001b[1;32m     17\u001b[0m \u001b[0;31m#members = load_all_models()\u001b[0m\u001b[0;34m\u001b[0m\u001b[0;34m\u001b[0m\u001b[0;34m\u001b[0m\u001b[0m\n\u001b[0;32m---> 18\u001b[0;31m \u001b[0mprint\u001b[0m\u001b[0;34m(\u001b[0m\u001b[0;34m'Loaded %d models'\u001b[0m \u001b[0;34m%\u001b[0m \u001b[0mlen\u001b[0m\u001b[0;34m(\u001b[0m\u001b[0mmembers\u001b[0m\u001b[0;34m)\u001b[0m\u001b[0;34m)\u001b[0m\u001b[0;34m\u001b[0m\u001b[0;34m\u001b[0m\u001b[0m\n\u001b[0m\u001b[1;32m     19\u001b[0m \u001b[0;32mfor\u001b[0m \u001b[0mmodel\u001b[0m \u001b[0;32min\u001b[0m \u001b[0mmembers\u001b[0m\u001b[0;34m:\u001b[0m\u001b[0;34m\u001b[0m\u001b[0;34m\u001b[0m\u001b[0m\n\u001b[1;32m     20\u001b[0m     \u001b[0m_\u001b[0m\u001b[0;34m,\u001b[0m \u001b[0macc\u001b[0m \u001b[0;34m=\u001b[0m \u001b[0mmodel\u001b[0m\u001b[0;34m.\u001b[0m\u001b[0mevaluate\u001b[0m\u001b[0;34m(\u001b[0m\u001b[0mx_test_seq\u001b[0m\u001b[0;34m,\u001b[0m \u001b[0my_test\u001b[0m\u001b[0;34m,\u001b[0m \u001b[0mverbose\u001b[0m\u001b[0;34m=\u001b[0m\u001b[0;36m2\u001b[0m\u001b[0;34m)\u001b[0m\u001b[0;34m\u001b[0m\u001b[0;34m\u001b[0m\u001b[0m\n",
            "\u001b[0;31mNameError\u001b[0m: name 'members' is not defined"
          ]
        }
      ]
    },
    {
      "cell_type": "markdown",
      "metadata": {
        "id": "pRNx5084QGNc"
      },
      "source": [
        "# Papers' Implementation"
      ]
    },
    {
      "cell_type": "markdown",
      "metadata": {
        "id": "T8UOxO6y8eDT"
      },
      "source": [
        "## Liu, G. and Guo, J., 2019. Bidirectional LSTM with attention mechanism and convolutional layer for text classification. Neurocomputing."
      ]
    },
    {
      "cell_type": "code",
      "metadata": {
        "id": "NKBrfE3WQFWi"
      },
      "source": [
        "def build_ACBiLSTM(emb_mat):\n",
        "  tweet_input = Input(shape=(x_train_seq.shape[1],), dtype='int32', name = 'AC-BiLSTM_inp')\n",
        "  tweet_encoder = Embedding(emb_mat.shape[0], embedding_dim, weights=[emb_mat], input_length=max_len, trainable=False,name = 'AC-BiLSTM_enc')(tweet_input)\n",
        "  x = Conv1D(filters=100, kernel_size=3, padding='valid', activation='relu',name = 'AC-BiLSTM_conv')(tweet_encoder)\n",
        "  x = Bidirectional(CuDNNLSTM(64, return_sequences=True,name= 'AC-BiLSTM_BiLSTM'))(x)\n",
        "  x = Dropout(0.7,name = 'AC-BiLSTM_drop')(x)\n",
        "  x = AttentionWithContext()(x)\n",
        "  x = Dense(1,name = 'AC-BiLSTM_out')(x)\n",
        "  output = Activation('sigmoid')(x)\n",
        "  model = Model(inputs=[tweet_input], outputs=[output])\n",
        "  model.compile(loss='binary_crossentropy', optimizer='adam', metrics=['accuracy'])\n",
        "  return model"
      ],
      "execution_count": null,
      "outputs": []
    },
    {
      "cell_type": "markdown",
      "metadata": {
        "id": "UOGnPneLkEnT"
      },
      "source": [
        "## Rezaeinia, S.M., Rahmani, R., Ghodsi, A. and Veisi, H., 2019. Sentiment analysis based on improved pre-trained word embeddings. Expert Systems with Applications, 117, pp.139-147."
      ]
    },
    {
      "cell_type": "code",
      "metadata": {
        "id": "H6sTYPo_QEKx"
      },
      "source": [
        "def build_IWV(emb_mat):\n",
        "  tweet_input = Input(shape=(x_train_seq.shape[1],), dtype='int32', name = 'IWV_inp')\n",
        "  tweet_encoder = Embedding(emb_mat.shape[0], embedding_dim, weights=[emb_mat], input_length=max_len, trainable=False,name = 'IWV_enc')(tweet_input)\n",
        "  x = Conv1D(filters=100, kernel_size=3, padding='valid', activation='relu',name = 'IWV_conv_1')(tweet_encoder)\n",
        "  x = Conv1D(filters=100, kernel_size=5, padding='valid', activation='relu',name = 'IWV_conv_2')(x)\n",
        "  x = Conv1D(filters=100, kernel_size=7, padding='valid', activation='relu',name = 'IWV_conv_3')(x)\n",
        "  x = GlobalMaxPooling1D(name='IWV_pool')(x)\n",
        "  x = Dense(64, activation=\"relu\",name='IWV_dense')(x)\n",
        "  x = Dense(1,name = 'IWV_out')(x)\n",
        "  output = Activation('sigmoid')(x)\n",
        "  model = Model(inputs=[tweet_input], outputs=[output])\n",
        "  model.compile(loss='binary_crossentropy', optimizer='adam', metrics=['accuracy'])\n",
        "  return model"
      ],
      "execution_count": null,
      "outputs": []
    },
    {
      "cell_type": "markdown",
      "metadata": {
        "id": "3ryRem9GrCk6"
      },
      "source": [
        "## Wang, X., Jiang, W. and Luo, Z., 2016, December. Combination of convolutional and recurrent neural network for sentiment analysis of short texts. In Proceedings of COLING 2016, the 26th International Conference on Computational Linguistics: Technical Papers (pp. 2428-2437)."
      ]
    },
    {
      "cell_type": "code",
      "metadata": {
        "id": "cuW7w0xdrDgR"
      },
      "source": [
        "def build_CRNN(emb_mat):\n",
        "  tweet_input = Input(shape=(x_train_seq.shape[1],), dtype='int32', name = 'CRNN_inp')\n",
        "  tweet_encoder = Embedding(emb_mat.shape[0], embedding_dim, weights=[emb_mat], input_length=max_len, trainable=False,name = 'CRNN_enc')(tweet_input)\n",
        "  embedding = Dropout(0.50)(tweet_encoder)\n",
        "\n",
        "  c1 = Conv1D(filters=200, kernel_size=4, padding='valid', activation='relu',name = 'CRNN_conv_1')(embedding)\n",
        "  p1 = MaxPooling1D(pool_size=2,name='CRNN_pool_1')(c1)\n",
        "\n",
        "  c2 = Conv1D(filters=200, kernel_size=5, padding='valid', activation='relu',name = 'CRNN_conv_2')(embedding)\n",
        "  p2 = MaxPooling1D(pool_size=2,name='CRNN_pool_2')(c2)\n",
        "\n",
        "  #merge = merge([p1, p2], mode='concat')\n",
        "  merge = concatenate([p1, p2],axis=1, name='CRNN_concat')\n",
        "  drop = Dropout(0.15,name='CRNN_drop_1')(merge)\n",
        "\n",
        "  rnn = CuDNNGRU(units = 100, name = 'CRNN_GRU')(drop)\n",
        "  x = Dense(400, activation=\"relu\",name='CRNN_dense')(rnn)\n",
        "  drop = Dropout(0.1, name = 'CRNN_drop_2')(x)\n",
        "  x = Dense(1,name = 'CRNN_out')(x)\n",
        "  output = Activation('sigmoid')(x)\n",
        "  model = Model(inputs=[tweet_input], outputs=[output])\n",
        "  model.compile(loss='binary_crossentropy', optimizer='adam', metrics=['accuracy'])\n",
        "  return model\n"
      ],
      "execution_count": null,
      "outputs": []
    },
    {
      "cell_type": "markdown",
      "metadata": {
        "id": "7hUyURkp6ZiM"
      },
      "source": [
        "## Wen, S. and Li, J., 2018, December. Recurrent Convolutional Neural Network with Attention for Twitter and Yelp Sentiment Classification: ARC Model for Sentiment Classification. In Proceedings of the 2018 International Conference on Algorithms, Computing and Artificial Intelligence (p. 49). ACM."
      ]
    },
    {
      "cell_type": "code",
      "metadata": {
        "id": "wKFBv6dm6aFr"
      },
      "source": [
        "def build_ARC(emb_mat):\n",
        "  tweet_input = Input(shape=(x_train_seq.shape[1],), dtype='int32', name = 'ARC_inp')\n",
        "  tweet_encoder = Embedding(emb_mat.shape[0], embedding_dim, weights=[emb_mat], input_length=max_len, trainable=False,name = 'ARC_enc')(tweet_input)\n",
        "\n",
        "  x1 = SpatialDropout1D(0.5)(tweet_encoder)\n",
        "  x_gru = Bidirectional(CuDNNGRU(64, return_sequences = True,name= 'ARC_BiGRU'))(x1)\n",
        "  x = AttentionWithContext()(x_gru)\n",
        "\n",
        "\n",
        "  x = Lambda(lambda t: tf.expand_dims(t, 2))(x)\n",
        "\n",
        "  x2 = Conv1D(100, kernel_size=3, padding='valid', kernel_initializer='he_uniform', name= 'ARC_CNN_1')(x)\n",
        "  x2 = Conv1D(100, kernel_size=5, padding='valid', kernel_initializer='he_uniform', name= 'ARC_CNN_2')(x2)\n",
        "  x2 = Conv1D(100, kernel_size=7, padding='valid', kernel_initializer='he_uniform', name= 'ARC_CNN_3')(x2)\n",
        "\n",
        "  max_pool1 = GlobalMaxPooling1D(name= 'ARC_pool')(x2)\n",
        "  x5 = Dense(64, activation=\"relu\",name='ARC_dense')(max_pool1)\n",
        "  output = Dense(1,activation='sigmoid')(x5)\n",
        "\n",
        "  model = Model(inputs=tweet_input, outputs=output)\n",
        "  model.compile(loss='binary_crossentropy', optimizer='adam', metrics=['accuracy'])\n",
        "  return model\n"
      ],
      "execution_count": null,
      "outputs": []
    },
    {
      "cell_type": "markdown",
      "metadata": {
        "id": "f8duDNxc9pat"
      },
      "source": [
        "## Yang, Z., Yang, D., Dyer, C., He, X., Smola, A. and Hovy, E., 2016. Hierarchical attention networks for document classification. In Proceedings of the 2016 Conference of the North American Chapter of the Association for Computational Linguistics: Human Language Technologies (pp. 1480-1489)."
      ]
    },
    {
      "cell_type": "code",
      "metadata": {
        "id": "kjojRVGh9q8a"
      },
      "source": [
        "def build_HAN():\n",
        "  #model = createHierarchicalAttentionModel(max_len, embWeights=embedding_matrix, embeddingSize = 100, vocabSize = embedding_matrix.shape[0])\n",
        "  model = createHierarchicalAttentionModel(max_len, embeddingSize = 100, vocabSize = embedding_matrix.shape[0])\n",
        "  #plot_model(model, show_shapes=True, to_file= path + 'HAN.png')\n",
        "  #filepath = path + \"HAN.hdf5\"\n",
        "  #checkpoint = ModelCheckpoint(filepath, monitor='val_acc', verbose=1, save_best_only=True, mode='max')\n",
        "  #early_stop = EarlyStopping(monitor = \"val_acc\", mode = \"max\", patience = 3)\n",
        "  return model"
      ],
      "execution_count": null,
      "outputs": []
    },
    {
      "cell_type": "markdown",
      "metadata": {
        "id": "B1n0q-m8Evn0"
      },
      "source": [
        "## Chatterjee A, Gupta U, Chinnakotla MK, Srikanth R, Galley M, Agrawal P. Understanding Emotions in Text Using Deep Learning and Big Data. Computers in Human Behavior. 2019 Apr 1;93:309-17."
      ]
    },
    {
      "cell_type": "code",
      "metadata": {
        "id": "icT34ho-E4bY"
      },
      "source": [
        "def build_SSBED(embeding_mat):\n",
        "  inp = Input(shape = (max_len,), name = 'SS-BED-inp')\n",
        "  emb1 = Embedding(embeding_mat.shape[0], embedding_dim, weights = [embeding_mat], trainable = False, name = 'SS-BED-embd_1')(inp)\n",
        "  emb2 = Embedding(embeding_mat.shape[0], embedding_dim, weights = [embeding_mat], trainable = False, name = 'SS-BED-embd_2')(inp)\n",
        "\n",
        "  x1 = CuDNNLSTM(64, return_sequences=True,name='SS-BED-LSTM_11')(emb1)\n",
        "  x1 = CuDNNLSTM(64, return_sequences=True,name='SS-BED-LSTM_12')(x1)\n",
        "  x1 = CuDNNLSTM(64, return_sequences=False,name='SS-BED-LSTM_13')(x1)\n",
        "\n",
        "  x2 = CuDNNLSTM(64, return_sequences=True,name='SS-BED-LSTM_21')(emb2)\n",
        "  x2 = CuDNNLSTM(64, return_sequences=True,name='SS-BED-LSTM_22')(x2)\n",
        "  x2 = CuDNNLSTM(64, return_sequences=False,name='SS-BED-LSTM_23')(x2)\n",
        "\n",
        "  merged = concatenate([x1, x2], axis=1)\n",
        "\n",
        "  merged = Dense(256)(merged)\n",
        "  merged = LeakyReLU()(merged)\n",
        "  merged = Dense(1)(merged)\n",
        "  output = Activation('sigmoid')(merged)\n",
        "  model = Model(inputs=[inp], outputs=[output])\n",
        "  model.compile(loss='binary_crossentropy', optimizer='adam', metrics=['accuracy'])\n",
        "  #plot_model(model, show_shapes=True, to_file= path + 'SS-BED.png')\n",
        "  #model.summary()\n",
        "  return model\n"
      ],
      "execution_count": null,
      "outputs": []
    },
    {
      "cell_type": "markdown",
      "metadata": {
        "id": "3WUNLr6DLEV9"
      },
      "source": [
        "## Standard CNN"
      ]
    },
    {
      "cell_type": "code",
      "metadata": {
        "id": "eSOWenCRf3Nw",
        "colab": {
          "base_uri": "https://localhost:8080/",
          "height": 918
        },
        "outputId": "a9cf59b3-d7a6-4c23-f7e9-e9e1c546a3a6"
      },
      "source": [
        "embedding_dim = 100\n",
        "#max_len = 45\n",
        "max_len = 100\n",
        "file_path = path + \"CNN-Appdata.hdf5\"\n",
        "check_point = ModelCheckpoint(file_path, monitor = \"val_acc\", verbose = 1,\n",
        "                              save_best_only = True, mode = \"max\")\n",
        "early_stop = EarlyStopping(monitor = \"val_acc\", mode = \"max\", patience = 5)\n",
        "m_name = 'CNN_App_'\n",
        "inp = Input(shape = (max_len,), name = m_name+'inp')\n",
        "embd = Embedding(embedding_matrix.shape[0], embedding_dim, weights = [embedding_matrix], trainable = True, name = 'our-embd_1')(inp)\n",
        "\n",
        "conv1 = layers.Conv1D(filters=64, kernel_size=4, activation='relu',name=m_name+'conv_1')(embd)\n",
        "pool1 = layers.GlobalMaxPooling1D(name=m_name+'pool_1')(conv1)\n",
        "\n",
        "dense1 = Dense(64, activation='relu',name=m_name+'dense')(pool1)\n",
        "x = Dense(1, activation = \"sigmoid\",name=m_name+'out')(dense1)\n",
        "model = Model(inputs = inp, outputs = x)\n",
        "model.compile(loss = \"binary_crossentropy\", optimizer = 'adam', metrics = [\"accuracy\"])\n",
        "# summarize\n",
        "print(model.summary())\n",
        "plot_model(model, show_shapes=True, to_file=path+'CNN_app.png')\n",
        "history = model.fit(x_train_seq, y_train, batch_size = 256, epochs = 50,  validation_data=(x_val_seq, y_validation), \n",
        "                        verbose = 1, callbacks = [check_point, early_stop])"
      ],
      "execution_count": null,
      "outputs": [
        {
          "output_type": "stream",
          "text": [
            "_________________________________________________________________\n",
            "Layer (type)                 Output Shape              Param #   \n",
            "=================================================================\n",
            "CNN_App_inp (InputLayer)     (None, 100)               0         \n",
            "_________________________________________________________________\n",
            "our-embd_1 (Embedding)       (None, 100, 100)          7865600   \n",
            "_________________________________________________________________\n",
            "CNN_App_conv_1 (Conv1D)      (None, 97, 64)            25664     \n",
            "_________________________________________________________________\n",
            "CNN_App_pool_1 (GlobalMaxPoo (None, 64)                0         \n",
            "_________________________________________________________________\n",
            "CNN_App_dense (Dense)        (None, 64)                4160      \n",
            "_________________________________________________________________\n",
            "CNN_App_out (Dense)          (None, 1)                 65        \n",
            "=================================================================\n",
            "Total params: 7,895,489\n",
            "Trainable params: 7,895,489\n",
            "Non-trainable params: 0\n",
            "_________________________________________________________________\n",
            "None\n",
            "Train on 196956 samples, validate on 24620 samples\n",
            "Epoch 1/50\n",
            "196956/196956 [==============================] - 10s 51us/step - loss: 0.2789 - acc: 0.8825 - val_loss: 0.2202 - val_acc: 0.9115\n",
            "\n",
            "Epoch 00001: val_acc improved from -inf to 0.91154, saving model to drive/app/Datasets/CNN-Appdata.hdf5\n",
            "Epoch 2/50\n",
            "196956/196956 [==============================] - 8s 43us/step - loss: 0.1846 - acc: 0.9299 - val_loss: 0.2254 - val_acc: 0.9126\n",
            "\n",
            "Epoch 00002: val_acc improved from 0.91154 to 0.91263, saving model to drive/app/Datasets/CNN-Appdata.hdf5\n",
            "Epoch 3/50\n",
            "196956/196956 [==============================] - 8s 43us/step - loss: 0.1453 - acc: 0.9473 - val_loss: 0.2122 - val_acc: 0.9205\n",
            "\n",
            "Epoch 00003: val_acc improved from 0.91263 to 0.92047, saving model to drive/app/Datasets/CNN-Appdata.hdf5\n",
            "Epoch 4/50\n",
            "196956/196956 [==============================] - 8s 43us/step - loss: 0.1097 - acc: 0.9626 - val_loss: 0.2361 - val_acc: 0.9121\n",
            "\n",
            "Epoch 00004: val_acc did not improve from 0.92047\n",
            "Epoch 5/50\n",
            "196956/196956 [==============================] - 8s 42us/step - loss: 0.0779 - acc: 0.9755 - val_loss: 0.2655 - val_acc: 0.9128\n",
            "\n",
            "Epoch 00005: val_acc did not improve from 0.92047\n",
            "Epoch 6/50\n",
            "196956/196956 [==============================] - 8s 42us/step - loss: 0.0552 - acc: 0.9830 - val_loss: 0.3093 - val_acc: 0.9106\n",
            "\n",
            "Epoch 00006: val_acc did not improve from 0.92047\n",
            "Epoch 7/50\n",
            "196956/196956 [==============================] - 8s 42us/step - loss: 0.0370 - acc: 0.9890 - val_loss: 0.4106 - val_acc: 0.8977\n",
            "\n",
            "Epoch 00007: val_acc did not improve from 0.92047\n",
            "Epoch 8/50\n",
            "196956/196956 [==============================] - 8s 42us/step - loss: 0.0265 - acc: 0.9923 - val_loss: 0.4193 - val_acc: 0.9036\n",
            "\n",
            "Epoch 00008: val_acc did not improve from 0.92047\n"
          ],
          "name": "stdout"
        }
      ]
    },
    {
      "cell_type": "markdown",
      "metadata": {
        "id": "drayrD-MQPKk"
      },
      "source": [
        "## LSTM"
      ]
    },
    {
      "cell_type": "code",
      "metadata": {
        "id": "r6jG9fPBQQsH",
        "colab": {
          "base_uri": "https://localhost:8080/",
          "height": 1000
        },
        "outputId": "5702ab34-4c27-4bc1-a029-a70e4afa0ea1"
      },
      "source": [
        "file_path = path + \"LSTM_APP.hdf5\"\n",
        "#max_len = 45\n",
        "max_len = 100\n",
        "check_point = ModelCheckpoint(file_path, monitor = \"val_acc\", verbose = 1,\n",
        "                              save_best_only = True, mode = \"max\")\n",
        "early_stop = EarlyStopping(monitor = \"val_acc\", mode = \"max\", patience = 5)\n",
        "\n",
        "inp = Input(shape = (max_len,), name = 'SS-BED-inp')\n",
        "emb1 = Embedding(embedding_matrix.shape[0], embedding_dim, weights = [embedding_matrix], trainable = False, name = 'SS-BED-embd_1')(inp)\n",
        "x1 = CuDNNLSTM(64, return_sequences=True,name='LSTM_1')(emb1)\n",
        "x1 = CuDNNLSTM(64, return_sequences=True,name='LSTM_2')(x1)\n",
        "x1 = CuDNNLSTM(64, return_sequences=False,name='LSTM_3')(x1)\n",
        "\n",
        "merged = Dense(256)(x1)\n",
        "merged = LeakyReLU(alpha=0.2)(merged)\n",
        "merged = Dense(1)(merged)\n",
        "output = Activation('sigmoid')(merged)\n",
        "model = Model(inputs=inp, outputs=output)\n",
        "model.compile(loss='binary_crossentropy', optimizer='adam', metrics=['accuracy'])\n",
        "plot_model(model, show_shapes=True, to_file= path + 'LSTM.png')\n",
        "model.summary()\n",
        "\n",
        "checkpoint = ModelCheckpoint(file_path, monitor='val_acc', verbose=1, save_best_only=True, mode='max')\n",
        "early_stop = EarlyStopping(monitor = \"val_acc\", mode = \"max\", patience = 3)\n",
        "\n",
        "model.fit(x_train_seq, y_train, batch_size=256, epochs=50, validation_data=(x_val_seq, y_validation), callbacks = [checkpoint, early_stop])"
      ],
      "execution_count": null,
      "outputs": [
        {
          "output_type": "stream",
          "text": [
            "_________________________________________________________________\n",
            "Layer (type)                 Output Shape              Param #   \n",
            "=================================================================\n",
            "SS-BED-inp (InputLayer)      (None, 100)               0         \n",
            "_________________________________________________________________\n",
            "SS-BED-embd_1 (Embedding)    (None, 100, 100)          7865600   \n",
            "_________________________________________________________________\n",
            "LSTM_1 (CuDNNLSTM)           (None, 100, 64)           42496     \n",
            "_________________________________________________________________\n",
            "LSTM_2 (CuDNNLSTM)           (None, 100, 64)           33280     \n",
            "_________________________________________________________________\n",
            "LSTM_3 (CuDNNLSTM)           (None, 64)                33280     \n",
            "_________________________________________________________________\n",
            "dense_3 (Dense)              (None, 256)               16640     \n",
            "_________________________________________________________________\n",
            "leaky_re_lu_2 (LeakyReLU)    (None, 256)               0         \n",
            "_________________________________________________________________\n",
            "dense_4 (Dense)              (None, 1)                 257       \n",
            "_________________________________________________________________\n",
            "activation_2 (Activation)    (None, 1)                 0         \n",
            "=================================================================\n",
            "Total params: 7,991,553\n",
            "Trainable params: 125,953\n",
            "Non-trainable params: 7,865,600\n",
            "_________________________________________________________________\n",
            "Train on 196956 samples, validate on 24620 samples\n",
            "Epoch 1/50\n",
            "196956/196956 [==============================] - 19s 94us/step - loss: 0.3442 - acc: 0.8476 - val_loss: 0.2759 - val_acc: 0.8860\n",
            "\n",
            "Epoch 00001: val_acc improved from -inf to 0.88599, saving model to drive/app/Datasets/LSTM_APP.hdf5\n",
            "Epoch 2/50\n",
            "196956/196956 [==============================] - 18s 90us/step - loss: 0.2556 - acc: 0.8954 - val_loss: 0.2396 - val_acc: 0.9016\n",
            "\n",
            "Epoch 00002: val_acc improved from 0.88599 to 0.90158, saving model to drive/app/Datasets/LSTM_APP.hdf5\n",
            "Epoch 3/50\n",
            "196956/196956 [==============================] - 18s 90us/step - loss: 0.2287 - acc: 0.9085 - val_loss: 0.2380 - val_acc: 0.9070\n",
            "\n",
            "Epoch 00003: val_acc improved from 0.90158 to 0.90703, saving model to drive/app/Datasets/LSTM_APP.hdf5\n",
            "Epoch 4/50\n",
            "196956/196956 [==============================] - 18s 90us/step - loss: 0.2126 - acc: 0.9153 - val_loss: 0.2223 - val_acc: 0.9113\n",
            "\n",
            "Epoch 00004: val_acc improved from 0.90703 to 0.91129, saving model to drive/app/Datasets/LSTM_APP.hdf5\n",
            "Epoch 5/50\n",
            "196956/196956 [==============================] - 18s 90us/step - loss: 0.2005 - acc: 0.9212 - val_loss: 0.2039 - val_acc: 0.9192\n",
            "\n",
            "Epoch 00005: val_acc improved from 0.91129 to 0.91921, saving model to drive/app/Datasets/LSTM_APP.hdf5\n",
            "Epoch 6/50\n",
            "196956/196956 [==============================] - 18s 90us/step - loss: 0.1897 - acc: 0.9258 - val_loss: 0.2048 - val_acc: 0.9213\n",
            "\n",
            "Epoch 00006: val_acc improved from 0.91921 to 0.92132, saving model to drive/app/Datasets/LSTM_APP.hdf5\n",
            "Epoch 7/50\n",
            "196956/196956 [==============================] - 18s 90us/step - loss: 0.1818 - acc: 0.9296 - val_loss: 0.2027 - val_acc: 0.9204\n",
            "\n",
            "Epoch 00007: val_acc did not improve from 0.92132\n",
            "Epoch 8/50\n",
            "196956/196956 [==============================] - 18s 90us/step - loss: 0.1740 - acc: 0.9331 - val_loss: 0.1959 - val_acc: 0.9225\n",
            "\n",
            "Epoch 00008: val_acc improved from 0.92132 to 0.92246, saving model to drive/app/Datasets/LSTM_APP.hdf5\n",
            "Epoch 9/50\n",
            "196956/196956 [==============================] - 18s 89us/step - loss: 0.1668 - acc: 0.9365 - val_loss: 0.1971 - val_acc: 0.9235\n",
            "\n",
            "Epoch 00009: val_acc improved from 0.92246 to 0.92352, saving model to drive/app/Datasets/LSTM_APP.hdf5\n",
            "Epoch 10/50\n",
            "196956/196956 [==============================] - 17s 89us/step - loss: 0.1599 - acc: 0.9391 - val_loss: 0.1951 - val_acc: 0.9250\n",
            "\n",
            "Epoch 00010: val_acc improved from 0.92352 to 0.92498, saving model to drive/app/Datasets/LSTM_APP.hdf5\n",
            "Epoch 11/50\n",
            "196956/196956 [==============================] - 18s 89us/step - loss: 0.1530 - acc: 0.9425 - val_loss: 0.2118 - val_acc: 0.9215\n",
            "\n",
            "Epoch 00011: val_acc did not improve from 0.92498\n",
            "Epoch 12/50\n",
            "196956/196956 [==============================] - 17s 89us/step - loss: 0.1465 - acc: 0.9449 - val_loss: 0.2010 - val_acc: 0.9237\n",
            "\n",
            "Epoch 00012: val_acc did not improve from 0.92498\n",
            "Epoch 13/50\n",
            "196956/196956 [==============================] - 17s 89us/step - loss: 0.1394 - acc: 0.9476 - val_loss: 0.2113 - val_acc: 0.9235\n",
            "\n",
            "Epoch 00013: val_acc did not improve from 0.92498\n"
          ],
          "name": "stdout"
        },
        {
          "output_type": "execute_result",
          "data": {
            "text/plain": [
              "<keras.callbacks.History at 0x7f23bb233eb8>"
            ]
          },
          "metadata": {
            "tags": []
          },
          "execution_count": 32
        }
      ]
    },
    {
      "cell_type": "markdown",
      "metadata": {
        "id": "rKxuWwz7tWyQ"
      },
      "source": [
        "# JSON Data sets"
      ]
    },
    {
      "cell_type": "code",
      "metadata": {
        "id": "wpmadR8UtXQx"
      },
      "source": [
        "import json\n",
        "from pandas import DataFrame\n",
        "path = 'drive/app/Datasets/'\n",
        "dataset_name = 'Apps_for_Android_5'\n",
        "#dataset_name = 'Kindle_Store_5'\n",
        "#dataset_name = 'Movies_and_TV_5'\n",
        "#dataset_name = 'Electronics_5'\n",
        "\n",
        "#dataset_name = 'CDs_and_Vinyl_5'\n",
        "#path = 'drive/app/Datasets/dataset-amazon/'\n",
        "\n",
        "col = ['text','rate','summary']\n",
        "texts, rates, sums = [],[],[]\n",
        "for line in open(path + dataset_name + '.json', 'r'):\n",
        "  row = json.loads(line)    \n",
        "  \n",
        "  texts.append(row[\"reviewText\"])\n",
        "  rates.append(row[\"overall\"])\n",
        "  sums.append(row[\"summary\"])\n",
        "  \n",
        "data = {'text':texts , 'rate':rates, 'summary':sums}\n",
        "df = DataFrame(data, columns = col)\n",
        "df.to_csv(path+ dataset_name+'.csv')\n",
        "\n",
        "#################  \n",
        "texts, rates = [],[]\n",
        "dataset_name = 'Dataset for Detection of Cyber-Trolls'\n",
        "for line in open(path + dataset_name + '.json', 'r'):\n",
        "  row = json.loads(line)\n",
        "  texts.append(row['content'])\n",
        "  rates.append(int(row['annotation']['label'][0]))\n",
        "\n",
        "col = ['text','rate']\n",
        "data = {'text':texts , 'rate':rates}\n",
        "df = DataFrame(data, columns = col)\n",
        "df.to_csv(path + dataset_name+'.csv')  \n",
        "print('Writing Complete!')"
      ],
      "execution_count": null,
      "outputs": []
    },
    {
      "cell_type": "markdown",
      "metadata": {
        "id": "C2vZUrxLRwGs"
      },
      "source": [
        "**Dataset for Detection of Cyber-Trolls**"
      ]
    },
    {
      "cell_type": "code",
      "metadata": {
        "id": "rfa2eNDkPQcC",
        "colab": {
          "base_uri": "https://localhost:8080/",
          "height": 51
        },
        "outputId": "ddfcd1dc-2738-4d98-ab9a-4c875415a105"
      },
      "source": [
        "dataset_name = 'Dataset for Detection of Cyber-Trolls'\n",
        "path = 'drive/app/Datasets/'\n",
        "csv = path+ dataset_name + '.csv'\n",
        "my_df = pd.read_csv(csv)\n",
        "\n",
        "#print(len(my_df[my_df.rate == 1]), my_df[my_df.rate == 0])\n",
        "df_majority = my_df[my_df.rate==0]\n",
        "df_minority = my_df[my_df.rate==1]\n",
        "\n",
        "print('Training class distributions summary: {}'.format(Counter(my_df.rate)))\n",
        "df_majority_downsampled = resample(df_majority, replace=False, n_samples=len(df_minority),random_state=123)\n",
        "df_downsampled = pd.concat([df_majority_downsampled, df_minority])\n",
        "df_downsampled.text=df_downsampled.text.astype(str)\n",
        "print('Training class distributions summary: {}'.format(Counter(df_downsampled.rate)))\n",
        "\n",
        "x = df_downsampled.text\n",
        "y = df_downsampled.rate"
      ],
      "execution_count": null,
      "outputs": [
        {
          "output_type": "stream",
          "text": [
            "Training class distributions summary: Counter({0: 12179, 1: 7822})\n",
            "Training class distributions summary: Counter({0: 7822, 1: 7822})\n"
          ],
          "name": "stdout"
        }
      ]
    },
    {
      "cell_type": "code",
      "metadata": {
        "id": "6TAJrWTmtXgW"
      },
      "source": [
        "import pandas as pd\n",
        "SEED = 2000\n",
        "#dataset_name = 'Apps_for_Android_5'\n",
        "#path = 'drive/app/Datasets/'\n",
        "path = 'drive/app/Datasets/dataset-amazon/'\n",
        "#dataset_name = 'Kindle_Store_5'\n",
        "#dataset_name = 'Movies_and_TV_5'\n",
        "#dataset_name = 'Electronics_5'\n",
        "dataset_name = 'CDs_and_Vinyl_5'\n",
        "\n",
        "csv = path+ dataset_name + '.csv'\n",
        "my_df = pd.read_csv(csv)\n",
        "\n",
        "\n",
        "############ Polarity Detection\n",
        "my_df = my_df[my_df.rate != 3]\n",
        "my_df['rate'] = my_df['rate'].replace(2, 0)\n",
        "my_df['rate'] = my_df['rate'].replace(1, 0)\n",
        "my_df['rate'] = my_df['rate'].replace(5, 1)\n",
        "my_df['rate'] = my_df['rate'].replace(4, 1)\n",
        "#my_df['rate'] = my_df['rate'].replace(3, 1)\n",
        "\n",
        "'''\n",
        "############ Subjectivity detection \n",
        "my_df['rate'] = my_df['rate'].replace(2, 1)\n",
        "my_df['rate'] = my_df['rate'].replace(5, 1)\n",
        "my_df['rate'] = my_df['rate'].replace(4, 1)\n",
        "my_df['rate'] = my_df['rate'].replace(3, 0)\n",
        "'''\n",
        "\n",
        "#print(len(my_df[my_df.rate == 1]), my_df[my_df.rate == 0])\n",
        "df_majority = my_df[my_df.rate==1]\n",
        "df_minority = my_df[my_df.rate==0]\n",
        "\n",
        "print('Training class distributions summary: {}'.format(Counter(my_df.rate)))\n",
        "df_majority_downsampled = resample(df_majority, replace=False, n_samples=len(df_minority),random_state=123)\n",
        "df_downsampled = pd.concat([df_majority_downsampled, df_minority])\n",
        "df_downsampled.text=df_downsampled.text.astype(str)\n",
        "print('Training class distributions summary: {}'.format(Counter(df_downsampled.rate)))\n",
        "\n",
        "x = df_downsampled.text\n",
        "y = df_downsampled.rate\n",
        "\n",
        "x_train, x_validation_and_test, y_train, y_validation_and_test = train_test_split(x, y, test_size=.2, random_state=SEED)\n",
        "x_validation, x_test, y_validation, y_test = train_test_split(x_validation_and_test, y_validation_and_test, test_size=.5, random_state=SEED)\n",
        "\n",
        "print(\"Train set has total {0} entries with {1:.2f}% negative, {2:.2f}% positive\".format(len(x_train),(len(x_train[y_train == 0]) / (len(x_train)*1.))*100,(len(x_train[y_train == 1]) / (len(x_train)*1.))*100))\n",
        "print(\"Validation set has total {0} entries with {1:.2f}% negative, {2:.2f}% positive\".format(len(x_validation),(len(x_validation[y_validation == 0]) / (len(x_validation)*1.))*100,(len(x_validation[y_validation == 1]) / (len(x_validation)*1.))*100))\n",
        "print(\"Test set has total {0} entries with {1:.2f}% negative, {2:.2f}% positive\".format(len(x_test),(len(x_test[y_test == 0]) / (len(x_test)*1.))*100,(len(x_test[y_test == 1]) / (len(x_test)*1.))*100))\n",
        "\n",
        "df_majority,df_minority = 1,1"
      ],
      "execution_count": null,
      "outputs": []
    },
    {
      "cell_type": "code",
      "metadata": {
        "id": "7lTOOcmxu-x7",
        "colab": {
          "base_uri": "https://localhost:8080/",
          "height": 34
        },
        "outputId": "23df9bea-ed20-4e33-9beb-18dc2e210a26"
      },
      "source": [
        "type(x_train)"
      ],
      "execution_count": null,
      "outputs": [
        {
          "output_type": "execute_result",
          "data": {
            "text/plain": [
              "pandas.core.series.Series"
            ]
          },
          "metadata": {
            "tags": []
          },
          "execution_count": 15
        }
      ]
    },
    {
      "cell_type": "markdown",
      "metadata": {
        "id": "kcteM2QtkeVe"
      },
      "source": [
        "# Parameter Tuning"
      ]
    },
    {
      "cell_type": "code",
      "metadata": {
        "id": "fumQPViaDEN_"
      },
      "source": [
        "#!pip install hyperas\n",
        "#!pip install hyperopt\n",
        "from __future__ import print_function\n",
        "from hyperopt import Trials, STATUS_OK, tpe\n",
        "from hyperas import optim\n",
        "from hyperas.distributions import choice, uniform\n",
        "from keras.models import Sequential\n",
        "from keras.layers.core import Dense, Dropout, Activation\n",
        "from keras.datasets import mnist\n",
        "from keras.utils import np_utils"
      ],
      "execution_count": null,
      "outputs": []
    },
    {
      "cell_type": "code",
      "metadata": {
        "id": "2vlVvH5WaUeR"
      },
      "source": [
        "def data():\n",
        "  import pandas as pd\n",
        "  SEED = 2000\n",
        "  path = 'drive/app/Datasets/'\n",
        "  csv = path+'Apps_data.csv'\n",
        "  my_df = pd.read_csv(csv)\n",
        "\n",
        "  my_df = my_df[my_df.rate != 3]\n",
        "\n",
        "  my_df['rate'] = my_df['rate'].replace(2, 0)\n",
        "  my_df['rate'] = my_df['rate'].replace(1, 0)\n",
        "  my_df['rate'] = my_df['rate'].replace(5, 1)\n",
        "  my_df['rate'] = my_df['rate'].replace(4, 1)\n",
        "  #my_df['rate'] = my_df['rate'].replace(3, 1)\n",
        "\n",
        "\n",
        "  #print(len(my_df[my_df.rate == 1]), my_df[my_df.rate == 0])\n",
        "  df_majority = my_df[my_df.rate==1]\n",
        "  df_minority = my_df[my_df.rate==0]\n",
        "\n",
        "  print('Training class distributions summary: {}'.format(Counter(my_df.rate)))\n",
        "  df_majority_downsampled = resample(df_majority, replace=False, n_samples=len(df_minority),random_state=123)\n",
        "  df_downsampled = pd.concat([df_majority_downsampled, df_minority])\n",
        "  df_downsampled.text=df_downsampled.text.astype(str)\n",
        "  print('Training class distributions summary: {}'.format(Counter(df_downsampled.rate)))\n",
        "\n",
        "  x = df_downsampled.text\n",
        "  y = df_downsampled.rate\n",
        "\n",
        "  x_train, x_validation_and_test, y_train, y_validation_and_test = train_test_split(x, y, test_size=.2, random_state=SEED)\n",
        "  x_validation, x_test, y_validation, y_test = train_test_split(x_validation_and_test, y_validation_and_test, test_size=.5, random_state=SEED)\n",
        "\n",
        "  print(\"Train set has total {0} entries with {1:.2f}% negative, {2:.2f}% positive\".format(len(x_train),(len(x_train[y_train == 0]) / (len(x_train)*1.))*100,(len(x_train[y_train == 1]) / (len(x_train)*1.))*100))\n",
        "  print(\"Validation set has total {0} entries with {1:.2f}% negative, {2:.2f}% positive\".format(len(x_validation),(len(x_validation[y_validation == 0]) / (len(x_validation)*1.))*100,(len(x_validation[y_validation == 1]) / (len(x_validation)*1.))*100))\n",
        "  print(\"Test set has total {0} entries with {1:.2f}% negative, {2:.2f}% positive\".format(len(x_test),(len(x_test[y_test == 0]) / (len(x_test)*1.))*100,(len(x_test[y_test == 1]) / (len(x_test)*1.))*100))\n",
        "  \n",
        "  tokenizer = Tokenizer(num_words=100000)\n",
        "  tokenizer.fit_on_texts(x_train)\n",
        "\n",
        "  print('tokenizer fitted!')\n",
        "  sequences = tokenizer.texts_to_sequences(x_train)\n",
        "\n",
        "  x_train_seq = pad_sequences(sequences, maxlen=100)\n",
        "  sequences_val = tokenizer.texts_to_sequences(x_test)\n",
        "  x_val_seq = pad_sequences(sequences_val, maxlen=100)\n",
        "  return x_train_seq, y_train, x_val_seq, y_test"
      ],
      "execution_count": null,
      "outputs": []
    },
    {
      "cell_type": "code",
      "metadata": {
        "id": "gboe5AN04FFY"
      },
      "source": [
        "def model(X_train, Y_train, X_test, Y_test):\n",
        "    file_path = path + \"our_model_APP.hdf5\"\n",
        "    check_point = ModelCheckpoint(file_path, monitor = \"val_acc\", verbose = 1,\n",
        "                                  save_best_only = True, mode = \"max\")\n",
        "    early_stop = EarlyStopping(monitor = \"val_acc\", mode = \"max\", patience = 5)\n",
        "    \n",
        "    \n",
        "    inp = Input(shape = (max_len,), name = 'our-inp')\n",
        "    embd1 = Embedding(embedding_matrix.shape[0], embedding_dim, weights = [embedding_matrix], trainable = True, name = 'our-embd_1')(inp)\n",
        "    embd2 = Embedding(embedding_matrix_glove.shape[0], embedding_dim, weights = [embedding_matrix_glove], trainable = True, name = 'our-embd_2')(inp)\n",
        "    x1 = SpatialDropout1D(spatial_dr, name = 'our-spdrop_1')(embd1)\n",
        "    \n",
        "    x_gru = Bidirectional(CuDNNGRU({{choice([32, 64, 128])}}, return_sequences = True))(x1)\n",
        "    x_gru = Dropout(dr)(x_gru)\n",
        "    x = AttentionWithContext()(x_gru)\n",
        "    x2 = Conv1D(conv_size, kernel_size=kernel_size1, padding='valid', kernel_initializer='he_uniform')(x_gru)\n",
        "    avg_pool1_gru = GlobalAveragePooling1D()(x2)\n",
        "    max_pool1_gru = GlobalMaxPooling1D()(x2)\n",
        "    \n",
        "    x3 = Conv1D(conv_size, kernel_size=kernel_size2, padding='valid', kernel_initializer='he_uniform')(x_gru)\n",
        "    avg_pool3_gru = GlobalAveragePooling1D()(x3)\n",
        "    max_pool3_gru = GlobalMaxPooling1D()(x3)\n",
        "    \n",
        "    x_lstm = Bidirectional(CuDNNLSTM({{choice([32, 64, 128])}}, return_sequences = True))(x1)\n",
        "    x_gru = Dropout(dr)(x_lstm)\n",
        "    x = AttentionWithContext()(x_lstm)\n",
        "    x1 = Conv1D(conv_size, kernel_size=kernel_size1, padding='valid', kernel_initializer='he_uniform')(x_lstm)\n",
        "    avg_pool1_lstm = GlobalAveragePooling1D()(x1)\n",
        "    max_pool1_lstm = GlobalMaxPooling1D()(x1)\n",
        "    \n",
        "    x3 = Conv1D(conv_size, kernel_size=kernel_size2, padding='valid', kernel_initializer='he_uniform')(x_lstm)\n",
        "    avg_pool3_lstm = GlobalAveragePooling1D()(x3)\n",
        "    max_pool3_lstm = GlobalMaxPooling1D()(x3)\n",
        "    \n",
        "    x = concatenate([avg_pool1_gru, max_pool1_gru, avg_pool3_gru, max_pool3_gru, avg_pool1_lstm, max_pool1_lstm,avg_pool3_lstm,max_pool3_lstm])#, x1])\n",
        "    x = BatchNormalization()(x)\n",
        "   \n",
        "    x = Dropout(dr)(Dense(dense_units, activation='relu') (x))\n",
        "    x = BatchNormalization()(x)\n",
        "    x = Dropout(dr)(x)\n",
        "    x = Dense(int(dense_units / 2), activation='relu') (x)\n",
        "    x = Dense(1, activation = \"sigmoid\")(x)\n",
        "    model = Model(inputs = inp, outputs = x)\n",
        "    model.compile(loss = \"binary_crossentropy\", optimizer = Adam(lr = lr, decay = lr_d), metrics = [\"accuracy\"])\n",
        "    model.fit(X_train, Y_train,\n",
        "              batch_size=32,\n",
        "              nb_epoch=1,\n",
        "              verbose=2,\n",
        "              validation_data=(X_test, Y_test))\n",
        "    score, acc = model.evaluate(X_test, Y_test, verbose=0)\n",
        "    print('Test accuracy:', acc)\n",
        "    return {'loss': -acc, 'status': STATUS_OK, 'model': model}"
      ],
      "execution_count": null,
      "outputs": []
    },
    {
      "cell_type": "code",
      "metadata": {
        "id": "wWkywAOp4I7B"
      },
      "source": [
        "\n",
        "best_run, best_model = optim.minimize(model=model,\n",
        "                                          data=data,\n",
        "                                          max_evals=10,\n",
        "                                          algo=tpe.suggest,\n",
        "                                          notebook_name='drive/app/Deep_Tweet', # This is important!\n",
        "                                          trials=Trials())"
      ],
      "execution_count": null,
      "outputs": []
    },
    {
      "cell_type": "markdown",
      "metadata": {
        "id": "raaam6alN97t"
      },
      "source": [
        "#**Stacking**"
      ]
    },
    {
      "cell_type": "code",
      "metadata": {
        "id": "mLCJZiMXP6Ej"
      },
      "source": [
        "import numpy as np\n",
        "import pandas as pd\n",
        "from keras.utils import to_categorical\n",
        "from sklearn.metrics import f1_score, classification_report, accuracy_score, confusion_matrix\n",
        "import numpy as np\n",
        "from numpy import dstack\n",
        "from sklearn.linear_model import LogisticRegression\n",
        "\n",
        "def load_all_models():\n",
        "  all_models = list()\n",
        "  for filename in model_names:\n",
        "    model = load_model('drive/app/'+filename)\n",
        "    print('>loaded %s' % filename)\n",
        "    all_models.append(model)\n",
        "  return all_models\n",
        "\n",
        "#members = load_all_models()\n",
        "#members = [loaded_our_model,loaded_SSBED_model,loaded_ARC_model,loaded_CRNN_model,loaded_IWV_model,loaded_ACBiLSTM_model]#,loaded_HAN_model\n",
        "#print('Loaded %d models' % len(members))\n",
        "\n",
        "\n",
        "#for model,i in zip(members,range(len(members))):\n",
        " #   pred = model.predict(x_test_seq)\n",
        "  #  print(pred)\n",
        "    \n",
        "# create stacked model input dataset as outputs from the ensemble\n",
        "def stacked_dataset(members, inputX):\n",
        "  stackX = None\n",
        "  for model,i in zip(members,range(len(members))):\n",
        "    if i != 30:\n",
        "      # make prediction\n",
        "      yhat = model.predict(inputX, verbose=0)\n",
        "    #else:\n",
        "     # yhat = model.predict([inputX,inputX,inputX], verbose=0)\n",
        "    # stack predictions into [rows, members, probabilities]\n",
        "    if stackX is None:\n",
        "      stackX = yhat\n",
        "    else:\n",
        "      stackX = dstack((stackX, yhat))\n",
        "  # flatten predictions to [rows, members x probabilities]\n",
        "  stackX = stackX.reshape((stackX.shape[0], stackX.shape[1]*stackX.shape[2]))\n",
        "  return stackX\n",
        "\n",
        "# fit a model based on the outputs from the ensemble members\n",
        "def fit_stacked_model(members, inputX, inputy):\n",
        "  # create dataset using ensemble\n",
        "  stackedX = stacked_dataset(members, inputX)\n",
        "  # fit standalone model\n",
        "  model = LogisticRegression()\n",
        "  model.fit(stackedX, inputy)\n",
        "  return model\n",
        "\n",
        "\n",
        "# fit stacked model using the ensemble\n",
        "\n",
        "###############################33\n",
        "#model = fit_stacked_model(members, x_test_seq, y_test)\n",
        "\n",
        "def stacked_prediction(members, model, inputX):\n",
        "  # create dataset using ensemble\n",
        "  stackedX = stacked_dataset(members, inputX)\n",
        "  # make a prediction\n",
        "  #yhat = model.predict(stackedX)\n",
        "  yhat = model.predict_proba(stackedX)\n",
        "  return yhat\n",
        "  \n",
        "# evaluate model on test set\n",
        "#################3333\n",
        "#yhat = stacked_prediction(members, model, x_test_seq)\n",
        "\n",
        "\n",
        "#acc = accuracy_score(y_test, yhat)\n",
        "#print('Stacked Test Accuracy: %.3f' % acc)"
      ],
      "execution_count": null,
      "outputs": []
    },
    {
      "cell_type": "markdown",
      "metadata": {
        "id": "88L5iu551hGo"
      },
      "source": [
        "# **Cross Validation**"
      ]
    },
    {
      "cell_type": "code",
      "metadata": {
        "id": "bJxR_HxLIvqE",
        "colab": {
          "base_uri": "https://localhost:8080/",
          "height": 34
        },
        "outputId": "b1d26d1b-87cd-491c-ece3-d083778499a1"
      },
      "source": [
        "my_df['review_len'] = df['text'].astype(str).apply(len)\n",
        "my_df['word_count'] = df['text'].apply(lambda x: len(str(x).split()))\n",
        "print(df.word_count.mean())"
      ],
      "execution_count": null,
      "outputs": [
        {
          "output_type": "stream",
          "text": [
            "16.251278052161858\n"
          ],
          "name": "stdout"
        }
      ]
    },
    {
      "cell_type": "code",
      "metadata": {
        "id": "pKVIg7jFRzfq"
      },
      "source": [
        "seed = 123\n",
        "max_len = 45\n",
        "bs = 1024\n",
        "ep = 15\n",
        "embedding_dim = 100\n",
        "\n",
        "tokenizer = Tokenizer(num_words=100000)\n",
        "\n",
        "kfold = StratifiedKFold(n_splits = 5, shuffle = True, random_state = seed)\n",
        "\n",
        "yhats_ssbed, y_test_lists_ssbed, fprs_ssbed, tprs_ssbed, aucs_ssbed = [],[],[],[],[]\n",
        "yhats_our, y_test_lists_our, fprs_our, tprs_our, aucs_our = [],[],[],[],[]\n",
        "yhats_han, y_test_lists_han, fprs_han, tprs_han, aucs_han = [],[],[],[],[]\n",
        "yhats_arc, y_test_lists_arc, fprs_arc, tprs_arc, aucs_arc = [],[],[],[],[]\n",
        "yhats_crnn, y_test_lists_crnn, fprs_crnn, tprs_crnn, aucs_crnn = [],[],[],[],[]\n",
        "yhats_iwv, y_test_lists_iwv, fprs_iwv, tprs_iwv, aucs_iwv = [],[],[],[],[]\n",
        "yhats_acbilstm, y_test_lists_acbilstm, fprs_acbilstm, tprs_acbilstm, aucs_acbilstm = [],[],[],[],[]\n",
        "yhats_stacked, y_test_lists_stacked, fprs_stacked, tprs_stacked, aucs_stacked = [],[],[],[],[]\n",
        "\n",
        "x = x.reset_index(drop = True)\n",
        "y = y.reset_index(drop = True)\n",
        "i = 0\n",
        "\n",
        "for train, test in kfold.split(x, y):\n",
        "  \n",
        "  print('Fold ', str(i+1))\n",
        "  print('##########################')\n",
        "  i += 1\n",
        "  x_train, y_train,  = x[train], y[train]\n",
        "  \n",
        "  tokenizer.fit_on_texts(x_train)\n",
        "  print('tokenizer fitted!')\n",
        "\n",
        "  embedding_matrix = create_embedding_matrix('drive/app/glove.twitter.27B.100d.txt',tokenizer.word_index, embedding_dim)\n",
        "  embedding_matrix_glove = create_embedding_matrix('drive/app/gensim_glove_vectors_100.txt',tokenizer.word_index, embedding_dim)\n",
        "  print('Embeddings creadted!')\n",
        "  \n",
        "  x_test, y_test,  = x[test], y[test]\n",
        "  sequences_test = tokenizer.texts_to_sequences(x_test)\n",
        "  x_test_seq = pad_sequences(sequences_test, maxlen=max_len)\n",
        "  \n",
        "  sequences = tokenizer.texts_to_sequences(x_train)\n",
        "  x_train_seq = pad_sequences(sequences, maxlen= max_len)\n",
        "  \n",
        "  ###################### SS-BED ################################################\n",
        "  start_time = time.time()\n",
        "  file_path = path + \"ssbed.hdf5\"\n",
        "  checkpoint = ModelCheckpoint(file_path, monitor='val_acc', verbose=1, save_best_only=True, mode='max')\n",
        "  early_stop = EarlyStopping(monitor = \"val_acc\", mode = \"max\", patience = 3)\n",
        "  \n",
        "  model_ssbed = build_SSBED(embedding_matrix_glove)\n",
        "  model_ssbed.fit(x_train_seq, y_train, batch_size = bs, epochs= ep, validation_split = 0.2, callbacks = [checkpoint, early_stop])\n",
        "  print('SS-BED Model Fitted!')\n",
        "  \n",
        "  y_test_lists_ssbed.append(y_test.tolist())\n",
        "  \n",
        "  yhat_ssbed = model_ssbed.predict(x_test_seq)\n",
        "  yhats_ssbed.append(yhat_ssbed)  \n",
        "  print('SS-BED Model Predicted!')\n",
        "  \n",
        "  fpr_ssbed, tpr_ssbed, threshold = roc_curve(y_test, yhat_ssbed)\n",
        "  roc_auc_ssbed = auc(fpr_ssbed, tpr_ssbed)\n",
        "  \n",
        "  fprs_ssbed.append(fpr_ssbed)\n",
        "  tprs_ssbed.append(tpr_ssbed)\n",
        "  aucs_ssbed.append(roc_auc_ssbed)\n",
        "  print('SS-BED Model Completed!')\n",
        "  end_time = time.time()\n",
        "  print('SS-BED execution time = ', str(round(end_time - start_time, 2)))\n",
        "  ######################## Our Model ###########################################\n",
        "  start_time = time.time()\n",
        "  file_path = path + \"our.hdf5\"\n",
        "  checkpoint = ModelCheckpoint(file_path, monitor='val_acc', verbose=1, save_best_only=True, mode='max')\n",
        "  model_our = build_model2(lr = 1e-3, lr_d = 1e-10, units = 128, spatial_dr = 0.5, kernel_size1 = 4, kernel_size2 = 6, dense_units = 64, dr = 0.2, conv_size = 32)\n",
        "  #model_our = build_model2(lr = 1e-3, lr_d = 1e-10, units = 128, spatial_dr = 0.5, kernel_size1 = 2, kernel_size2 = 3, dense_units = 64, dr = 0.2, conv_size = 8)\n",
        "  model_our.fit(x_train_seq, y_train, batch_size = bs, epochs= ep, validation_split = 0.2, callbacks = [checkpoint, early_stop])\n",
        "  print('Our Model Fitted!')\n",
        "  \n",
        "  yhat_our = model_our.predict(x_test_seq)\n",
        "  yhats_our.append(yhat_our)  \n",
        "  print('Our Model Predicted!')\n",
        "  \n",
        "  fpr_our, tpr_our, threshold = roc_curve(y_test, yhat_our)\n",
        "  roc_auc_our = auc(fpr_our, tpr_our)\n",
        "  \n",
        "  fprs_our.append(fpr_our)\n",
        "  tprs_our.append(tpr_our)\n",
        "  aucs_our.append(roc_auc_our)\n",
        "  print('Our Model Completed!')\n",
        "  end_time = time.time()\n",
        "  print('Our execution time = ', str(round(end_time - start_time, 2)))\n",
        "  ########################### HAN ##############################################\n",
        "  start_time = time.time()\n",
        "  x_train_seq_exp = np.expand_dims(x_train_seq, axis=1)\n",
        "  y_train_exp = np.expand_dims(y_train, axis=1)\n",
        "  x_test_seq_exp = np.expand_dims(x_test_seq, axis=1)\n",
        "  y_test_exp = np.expand_dims(y_test, axis=1)\n",
        "  \n",
        "  file_path = path + \"HAN.hdf5\"\n",
        "  checkpoint = ModelCheckpoint(file_path, monitor='val_acc', verbose=1, save_best_only=True, mode='max')\n",
        "  model_han = build_HAN()\n",
        "  model_han.fit(x_train_seq_exp, y_train_exp, batch_size=bs, epochs=ep, validation_split = 0.2, callbacks = [checkpoint,early_stop])\n",
        "  print('HAN Model Fitted!')\n",
        "  \n",
        "  yhat_han = model_han.predict(x_test_seq_exp)\n",
        "  yhats_han.append(yhat_han)  \n",
        "  print('HAN Model Predicted!')  \n",
        "  \n",
        "  fpr_han, tpr_han, threshold = roc_curve(y_test_exp, yhat_han)\n",
        "  roc_auc_han = auc(fpr_han, tpr_han)\n",
        "  \n",
        "  fprs_han.append(fpr_han)\n",
        "  tprs_han.append(tpr_han)\n",
        "  aucs_han.append(roc_auc_han)\n",
        "  print('HAN Model Completed!')\n",
        "  end_time = time.time()\n",
        "  print('HAN execution time = ', str(round(end_time - start_time, 2)))\n",
        "  ########################## ARC ############################################\n",
        "  start_time = time.time()\n",
        "  file_path = path + \"ARC.hdf5\"\n",
        "  checkpoint = ModelCheckpoint(file_path, monitor='val_acc', verbose=1, save_best_only=True, mode='max')\n",
        "  model_arc = build_ARC(embedding_matrix)\n",
        "  model_arc.fit(x_train_seq, y_train, batch_size = bs, epochs= ep, validation_split = 0.2, callbacks = [checkpoint, early_stop])\n",
        "  print('ARC Model Fitted!')\n",
        "  \n",
        "  yhat_arc = model_arc.predict(x_test_seq)\n",
        "  yhats_arc.append(yhat_arc)  \n",
        "  print('ARC Model Predicted!')\n",
        "  \n",
        "  fpr_arc, tpr_arc, threshold = roc_curve(y_test, yhat_arc)\n",
        "  roc_auc_arc = auc(fpr_arc, tpr_arc)\n",
        "  \n",
        "  fprs_arc.append(fpr_arc)\n",
        "  tprs_arc.append(tpr_arc)\n",
        "  aucs_arc.append(roc_auc_arc)\n",
        "  print('ARC Model Completed!')\n",
        "  end_time = time.time()\n",
        "  print('ARC execution time = ', str(round(end_time - start_time, 2)))\n",
        "  ########################## CRNN ############################################\n",
        "  start_time = time.time()\n",
        "  file_path = path + \"CRNN.hdf5\"\n",
        "  checkpoint = ModelCheckpoint(file_path, monitor='val_acc', verbose=1, save_best_only=True, mode='max')\n",
        "  model_crnn = build_CRNN(embedding_matrix)\n",
        "  model_crnn.fit(x_train_seq, y_train, batch_size = bs, epochs= ep, validation_split = 0.2, callbacks = [checkpoint, early_stop])\n",
        "  print('CRNN Model Fitted!')\n",
        "  \n",
        "  yhat_crnn = model_crnn.predict(x_test_seq)\n",
        "  yhats_crnn.append(yhat_crnn)  \n",
        "  print('CRNN Model Predicted!')\n",
        "  \n",
        "  fpr_crnn, tpr_crnn, threshold = roc_curve(y_test, yhat_crnn)\n",
        "  roc_auc_crnn = auc(fpr_crnn, tpr_crnn)\n",
        "  \n",
        "  fprs_crnn.append(fpr_crnn)\n",
        "  tprs_crnn.append(tpr_crnn)\n",
        "  aucs_crnn.append(roc_auc_crnn)\n",
        "  print('CRNN Model Completed!')  \n",
        "  end_time = time.time()\n",
        "  print('CRNN execution time = ', str(round(end_time - start_time, 2)))\n",
        "  ########################## IWV ############################################\n",
        "  start_time = time.time()\n",
        "  file_path = path + \"IWV.hdf5\"\n",
        "  checkpoint = ModelCheckpoint(file_path, monitor='val_acc', verbose=1, save_best_only=True, mode='max')\n",
        "  model_iwv = build_IWV(embedding_matrix)\n",
        "  model_iwv.fit(x_train_seq, y_train, batch_size = bs, epochs= ep, validation_split = 0.2, callbacks = [checkpoint, early_stop])\n",
        "  print('IWV Model Fitted!')\n",
        "  \n",
        "  yhat_iwv = model_iwv.predict(x_test_seq)\n",
        "  yhats_iwv.append(yhat_iwv)  \n",
        "  print('IWV Model Predicted!')\n",
        "  \n",
        "  fpr_iwv, tpr_iwv, threshold = roc_curve(y_test, yhat_iwv)\n",
        "  roc_auc_iwv = auc(fpr_iwv, tpr_iwv)\n",
        "  \n",
        "  fprs_iwv.append(fpr_iwv)\n",
        "  tprs_iwv.append(tpr_iwv)\n",
        "  aucs_iwv.append(roc_auc_iwv)\n",
        "  print('IWV Model Completed!')\n",
        "  end_time = time.time()\n",
        "  print('IWV execution time = ', str(round(end_time - start_time, 2)))\n",
        "  ########################## AC-BiLSTM ############################################\n",
        "  start_time = time.time()\n",
        "  file_path = path + \"AC_BiLSTM.hdf5\"\n",
        "  checkpoint = ModelCheckpoint(file_path, monitor='val_acc', verbose=1, save_best_only=True, mode='max')\n",
        "  model_acbilstm = build_ACBiLSTM(embedding_matrix)\n",
        "  model_acbilstm.fit(x_train_seq, y_train, batch_size = bs, epochs= ep, validation_split = 0.2, callbacks = [checkpoint, early_stop])\n",
        "  print('AC-BiLSTM Model Fitted!')\n",
        "  \n",
        "  yhat_acbilstm = model_acbilstm.predict(x_test_seq)\n",
        "  yhats_acbilstm.append(yhat_acbilstm)  \n",
        "  print('AC_BiLSTM Model Predicted!')\n",
        "  \n",
        "  fpr_acbilstm, tpr_acbilstm, threshold = roc_curve(y_test, yhat_acbilstm)\n",
        "  roc_auc_acbilstm = auc(fpr_acbilstm, tpr_acbilstm)\n",
        "  \n",
        "  fprs_acbilstm.append(fpr_acbilstm)\n",
        "  tprs_acbilstm.append(tpr_acbilstm)\n",
        "  aucs_acbilstm.append(roc_auc_acbilstm)\n",
        "  print('AC_BiLSTM Model Completed!')\n",
        "  end_time = time.time()\n",
        "  print('AC_BiLSTM execution time = ', str(round(end_time - start_time, 2)))\n",
        "  ############## Stacked Model #################################################\n",
        "  start_time = time.time()\n",
        "  members = [model_our, model_ssbed, model_arc, model_crnn, model_iwv,model_acbilstm]\n",
        "  model_stacked = fit_stacked_model(members, x_test_seq, y_test)\n",
        "  yhat_stacked = stacked_prediction(members, model_stacked, x_test_seq)\n",
        "  yhats_stacked.append(yhat_stacked[:,1])  \n",
        "  print('Stacked Model Predicted!')\n",
        "  \n",
        "  fpr_stacked, tpr_stacked, threshold = roc_curve(y_test, yhat_stacked[:,1])\n",
        "  roc_auc_stacked = auc(fpr_stacked, tpr_stacked)\n",
        "  \n",
        "  fprs_stacked.append(fpr_stacked)\n",
        "  tprs_stacked.append(tpr_stacked)\n",
        "  aucs_stacked.append(roc_auc_stacked)\n",
        "  print('Stacked Model Completed!')\n",
        "  end_time = time.time()\n",
        "  print('Stacked execution time = ', str(round(end_time - start_time, 2)))\n",
        "  ##############################################################################\n",
        "\n",
        "results = []\n",
        "yhat_list = [yhats_ssbed, yhats_our, yhats_han, yhats_arc, yhats_crnn, yhats_iwv, yhats_acbilstm, yhats_stacked]\n",
        "for yh in yhat_list:\n",
        "  for c,i in zip(yh,range(len(yh))):\n",
        "    labels = (c > 0.5).astype(np.int)\n",
        "    labels = labels.flatten().tolist()\n",
        "\n",
        "    data = []\n",
        "    cnf_matrix = confusion_matrix(y_test_lists_ssbed[i], labels)\n",
        "\n",
        "    FP = cnf_matrix.sum(axis=0) - np.diag(cnf_matrix)  \n",
        "    FN = cnf_matrix.sum(axis=1) - np.diag(cnf_matrix)\n",
        "    TP = np.diag(cnf_matrix)\n",
        "    TN = cnf_matrix.sum() - (FP + FN + TP)\n",
        "\n",
        "\n",
        "    FP = FP.astype(float)\n",
        "    FN = FN.astype(float)\n",
        "    TP = TP.astype(float)\n",
        "    TN = TN.astype(float)\n",
        "\n",
        "    # Sensitivity, hit rate, recall, or true positive rate\n",
        "    TPR = TP/(TP+FN)\n",
        "    # Specificity or true negative rate\n",
        "    TNR = TN/(TN+FP) \n",
        "    # Precision or positive predictive value\n",
        "    PPV = TP/(TP+FP)\n",
        "    # Negative predictive value\n",
        "    NPV = TN/(TN+FN)\n",
        "    # Fall out or false positive rate\n",
        "    FPR = FP/(FP+TN)\n",
        "    # False negative rate\n",
        "    FNR = FN/(TP+FN)\n",
        "    # False discovery rate\n",
        "    FDR = FP/(TP+FP)\n",
        "    # Overall accuracy\n",
        "    ACC = (TP+TN)/(TP+FP+FN+TN)\n",
        "    F1 = (2 * TPR * PPV)/(TPR + PPV)\n",
        "    data.append(TPR)\n",
        "    data.append(TNR)\n",
        "    data.append(PPV)\n",
        "    data.append(F1)\n",
        "    data.append(ACC)\n",
        "\n",
        "    results.append([round(d[0],4) for d in data])\n",
        "    results.append([round(d[1],4) for d in data])\n",
        "\n",
        "print(\"Recall, Specifity, Precision, F1, Accuracy\")\n",
        "#for r in results:\n",
        "  #print(r)\n",
        "model_names = ['SS-BED','Our', 'HAN','ARC', 'CRNN', 'IWV', 'ACBiLSTM' ,'Stacked']\n",
        "for j in range(8):\n",
        "  ssbed_pos = results[0 + j * 10]\n",
        "  ssbed_neg = results[1 + j * 10]\n",
        "  for i in range(2+j*10,10+j*10,2):\n",
        "    ssbed_pos = list(map(add, ssbed_pos, results[i]))\n",
        "    ssbed_neg = list(map(add, ssbed_neg, results[i+1]))\n",
        "  ssbed_pos = [round(x / float(len(ssbed_pos)),4) for x in ssbed_pos]\n",
        "  ssbed_neg = [round(x / float(len(ssbed_neg)),4) for x in ssbed_neg]\n",
        "\n",
        "  print(\"Results for \",model_names[j])\n",
        "  print(ssbed_pos)\n",
        "  print(ssbed_neg)\n",
        "#with open(path + dataset_name + \"-Results.txt\", \"w\") as filehandle:  \n",
        " #   filehandle.writelines(f\"{name} %s\\n\" %r for r,name in zip(results,classifiers_name))\n",
        "  "
      ],
      "execution_count": null,
      "outputs": []
    },
    {
      "cell_type": "code",
      "metadata": {
        "id": "5R_ewG2niwbK",
        "colab": {
          "base_uri": "https://localhost:8080/",
          "height": 551
        },
        "outputId": "c1dad740-83db-4ec7-9a79-b61d44b5a650"
      },
      "source": [
        "fpr_stacked, tpr_stacked = fprs_stacked[0], tprs_stacked[0]\n",
        "fpr_our, tpr_our = fprs_our[0], tprs_our[0]\n",
        "fpr_ssbed, tpr_ssbed = fprs_ssbed[0], tprs_ssbed[0]\n",
        "fpr_han, tpr_han = fprs_han[0], tprs_han[0]\n",
        "fpr_arc, tpr_arc = fprs_arc[0], tprs_arc[0]\n",
        "fpr_crnn, tpr_crnn = fprs_crnn[0], tprs_crnn[0]\n",
        "fpr_iwv, tpr_iwv = fprs_iwv[0], tprs_iwv[0]\n",
        "fpr_acbilstm, tpr_acbilstm = fprs_acbilstm[0], tprs_acbilstm[0]\n",
        "\n",
        "for i in range(1,5):\n",
        "  fpr_stacked = list(map(add, fpr_stacked, fprs_stacked[i]))\n",
        "  tpr_stacked = list(map(add, tpr_stacked, tprs_stacked[i]))\n",
        "  fpr_our = list(map(add, fpr_our, fprs_our[i]))\n",
        "  tpr_our = list(map(add, tpr_our, tprs_our[i]))\n",
        "  fpr_ssbed = list(map(add, fpr_ssbed, fprs_ssbed[i]))\n",
        "  tpr_ssbed = list(map(add, tpr_ssbed, tprs_ssbed[i]))\n",
        "  fpr_han = list(map(add, fpr_han, fprs_han[i]))\n",
        "  tpr_han = list(map(add, tpr_han, tprs_han[i]))\n",
        "  fpr_arc = list(map(add, fpr_arc, fprs_arc[i]))\n",
        "  tpr_arc = list(map(add, tpr_arc, tprs_arc[i]))\n",
        "  fpr_crnn = list(map(add, fpr_crnn, fprs_crnn[i]))\n",
        "  tpr_crnn = list(map(add, tpr_crnn, tprs_crnn[i]))\n",
        "  fpr_iwv = list(map(add, fpr_iwv, fprs_iwv[i]))\n",
        "  tpr_iwv = list(map(add, tpr_iwv, tprs_iwv[i]))\n",
        "  fpr_acbilstm = list(map(add, fpr_acbilstm, fprs_acbilstm[i]))\n",
        "  tpr_acbilstm = list(map(add, tpr_acbilstm, tprs_acbilstm[i]))\n",
        "\n",
        "fpr_stacked = [round(x/5.0 ,4) for x in fpr_stacked] \n",
        "tpr_stacked = [round(x/5.0 ,4) for x in tpr_stacked] \n",
        "\n",
        "fpr_our = [round(x/5.0 ,4) for x in fpr_our] \n",
        "tpr_our = [round(x/5.0 ,4) for x in tpr_our]\n",
        "\n",
        "fpr_ssbed = [round(x/5.0 ,4) for x in fpr_ssbed] \n",
        "tpr_ssbed = [round(x/5.0 ,4) for x in tpr_ssbed]\n",
        "\n",
        "fpr_han = [round(x/5.0 ,4) for x in fpr_han] \n",
        "tpr_han = [round(x/5.0 ,4) for x in tpr_han]\n",
        "\n",
        "fpr_arc = [round(x/5.0 ,4) for x in fpr_arc] \n",
        "tpr_arc = [round(x/5.0 ,4) for x in tpr_arc]\n",
        "\n",
        "fpr_crnn = [round(x/5.0 ,4) for x in fpr_crnn] \n",
        "tpr_crnn = [round(x/5.0 ,4) for x in tpr_crnn]\n",
        "\n",
        "fpr_iwv = [round(x/5.0 ,4) for x in fpr_iwv] \n",
        "tpr_iwv = [round(x/5.0 ,4) for x in tpr_iwv]\n",
        "\n",
        "fpr_acbilstm = [round(x/5.0 ,4) for x in fpr_acbilstm] \n",
        "tpr_acbilstm = [round(x/5.0 ,4) for x in tpr_acbilstm]\n",
        "\n",
        "auc_stacked = np.mean(aucs_stacked)\n",
        "auc_our = np.mean(aucs_our)\n",
        "auc_ssbed = np.mean(aucs_ssbed)\n",
        "auc_han = np.mean(aucs_han)\n",
        "auc_arc = np.mean(aucs_arc)\n",
        "auc_crnn = np.mean(aucs_crnn)\n",
        "auc_iwv = np.mean(aucs_iwv)\n",
        "auc_acbilstm = np.mean(aucs_acbilstm)\n",
        "\n",
        "fig, ax = plt.subplots(figsize=(8,7)) # create a new figure with a default 111 subplot\n",
        "ax.plot(fpr_stacked, tpr_stacked, label='Stacked Model (area = %0.4f)' % auc_stacked, linewidth=2, color = 'red')\n",
        "ax.plot(fpr_our, tpr_our, label='Our Model (area = %0.4f)' % auc_our, linewidth=2, color = 'red')\n",
        "ax.plot(fpr_ssbed, tpr_ssbed, label='SS-BED (area = %0.3f)' % auc_ssbed, linewidth=2, color = 'blue')\n",
        "ax.plot(fpr_han, tpr_han, label='HAN-BED (area = %0.3f)' % auc_han, linewidth=2, color = 'pink')\n",
        "ax.plot(fpr_arc, tpr_arc, label='ARC (area = %0.3f)' % auc_arc, linewidth=2, color = 'brown')\n",
        "ax.plot(fpr_crnn, tpr_crnn, label='CRNN (area = %0.3f)' % auc_crnn, linewidth=2, color = 'orange')\n",
        "ax.plot(fpr_iwv, tpr_iwv, label='IWV (area = %0.3f)' % auc_iwv, linewidth=2, color = 'cyan')\n",
        "ax.plot(fpr_acbilstm, tpr_acbilstm, label='AC-BiLSTM (area = %0.3f)' % auc_acbilstm, linewidth=2, color = 'green')\n",
        "ax.set_xlabel('False Positive Rate', fontsize=18)\n",
        "ax.set_ylabel('True Positive Rate')\n",
        "ax.set_title('Receiver operating characteristic')\n",
        "ax.legend(loc='lower left',  ncol = 2,bbox_to_anchor=(0.05, 0.0, 0.0, 0.0),framealpha= 0.2)\n",
        "\n",
        "axins = zoomed_inset_axes(ax, 2, loc = 'center right') # zoom-factor: 2.5, location: upper-left\n",
        "#axins.plot(fpr_stacked, tpr_stacked, label='Stacked Model (area = %0.3f)' % auc_stacked, linewidth=2, color = 'red')\n",
        "axins.plot(fpr_our, tpr_our, label='Our Model (area = %0.3f)' % auc_our, linewidth=2, color = 'red')\n",
        "axins.plot(fpr_ssbed, tpr_ssbed, label='SS-BED Model (area = %0.3f)' % auc_ssbed, linewidth=2, color = 'blue')\n",
        "axins.plot(fpr_han, tpr_han, label='HAN-BED Model (area = %0.3f)' % auc_han, linewidth=2, color = 'pink')\n",
        "axins.plot(fpr_arc, tpr_arc, label='ARC Model (area = %0.3f)' % auc_arc, linewidth=2, color = 'brown')\n",
        "axins.plot(fpr_crnn, tpr_crnn, label='CRNN Model (area = %0.3f)' % auc_crnn, linewidth=2, color = 'orange')\n",
        "axins.plot(fpr_iwv, tpr_iwv, label='IWV Model (area = %0.3f)' % auc_iwv, linewidth=2, color = 'cyan')\n",
        "axins.plot(fpr_acbilstm, tpr_acbilstm, label='AC-BiLSTM Model (area = %0.3f)' % auc_acbilstm, linewidth=2, color = 'green')\n",
        "\n",
        "axins.patch.set_facecolor('white')\n",
        "axins.patch.set_alpha(0.3)\n",
        "\n",
        "axins.spines['bottom'].set_color('0.7')\n",
        "axins.spines['bottom'].set_linewidth('1')\n",
        "axins.spines['bottom'].set_linestyle('--')\n",
        "axins.spines['top'].set_color('0.7')\n",
        "axins.spines['top'].set_linewidth('1')\n",
        "axins.spines['top'].set_linestyle('--')\n",
        "axins.spines['right'].set_color('0.7')\n",
        "axins.spines['right'].set_linewidth('1')\n",
        "axins.spines['right'].set_linestyle('--')\n",
        "axins.spines['left'].set_color('0.7')\n",
        "axins.spines['left'].set_linewidth('1') \n",
        "axins.spines['left'].set_linestyle('--')  \n",
        "\n",
        "x1, x2, y1, y2 = 0.02, 0.17, 0.8, 1 # specify the limits\n",
        "#x1, x2, y1, y2 = 0.2, 0.5, 0.6, 0.9 # specify the limits\n",
        "\n",
        "axins.set_xlim(x1, x2) # apply the x-limits\n",
        "axins.set_ylim(y1, y2) # apply the y-limits\n",
        "\n",
        "plt.yticks(visible=False)\n",
        "plt.xticks(visible=False)\n",
        "plt.grid(visible=False)\n",
        "\n",
        "from mpl_toolkits.axes_grid1.inset_locator import mark_inset\n",
        "mark_inset(ax, axins, loc1=1, loc2=3, fc=\"white\", ec=\"0.3\", alpha = 0.3, ls = '-.')\n",
        "\n",
        "#plt.savefig(path+ 'Self_Driver-AUC.png',dpi=300,bbox_inches = 'tight',pad_inches = 0.1)"
      ],
      "execution_count": null,
      "outputs": [
        {
          "output_type": "execute_result",
          "data": {
            "text/plain": [
              "(<mpl_toolkits.axes_grid1.inset_locator.BboxPatch at 0x7fd62ed4a550>,\n",
              " <mpl_toolkits.axes_grid1.inset_locator.BboxConnector at 0x7fd62ed4aa90>,\n",
              " <mpl_toolkits.axes_grid1.inset_locator.BboxConnector at 0x7fd62ed4ae48>)"
            ]
          },
          "metadata": {
            "tags": []
          },
          "execution_count": 73
        },
        {
          "output_type": "display_data",
          "data": {
            "image/png": "[encoded data removed]",
            "text/plain": [
              "<Figure size 576x504 with 2 Axes>"
            ]
          },
          "metadata": {
            "tags": []
          }
        }
      ]
    },
    {
      "cell_type": "code",
      "metadata": {
        "id": "qLz8yPFgiLIt"
      },
      "source": [
        "a = [[1,2,3],[4,5,6]]\n",
        "list(map(add,a[0],a[1]))"
      ],
      "execution_count": null,
      "outputs": []
    },
    {
      "cell_type": "markdown",
      "metadata": {
        "id": "h7H5eMfo6Pbm"
      },
      "source": [
        "# Seperate Fold Runs"
      ]
    },
    {
      "cell_type": "markdown",
      "metadata": {
        "id": "mV4Ocx46Mv9I"
      },
      "source": [
        "## Splitting dataset into 5 folds and saving them"
      ]
    },
    {
      "cell_type": "code",
      "metadata": {
        "id": "Jwp63Et8Wjjt",
        "colab": {
          "base_uri": "https://localhost:8080/"
        },
        "outputId": "381d95a0-234c-4a2e-c32d-71e48f3ad774"
      },
      "source": [
        "seed =123\n",
        "path = '/content/drive/My Drive/app/Datasets/'\n",
        "\n",
        "#path = 'drive/app/Datasets/'\n",
        "#path = 'drive/app/Datasets/dataset-amazon/'\n",
        "#path = 'drive/app/Datasets/Tweets/'\n",
        "#dataset_name = 'Kindle_Store_5'\n",
        "#dataset_name = 'Apps_for_Android_5'\n",
        "#dataset_name = 'Movies_and_TV_5'\n",
        "#dataset_name = 'Electronics_5'\n",
        "dataset_name = 'CDs_and_Vinyl_5'\n",
        "#dataset_name = 'clean_tweet'\n",
        "#dataset_name = 't4sa'\n",
        "\n",
        "csv = path+ dataset_name + '.csv'\n",
        "#my_df = pd.read_csv(csv)\n",
        "\n",
        "'''\n",
        "############ Polarity Detection\n",
        "my_df = my_df[my_df.rate != 3]\n",
        "my_df['rate'] = my_df['rate'].replace(2, 0)\n",
        "my_df['rate'] = my_df['rate'].replace(1, 0)\n",
        "my_df['rate'] = my_df['rate'].replace(5, 1)\n",
        "my_df['rate'] = my_df['rate'].replace(4, 1)\n",
        "#my_df['rate'] = my_df['rate'].replace(3, 1)\n",
        "'''\n",
        "'''\n",
        "############ Subjectivity detection \n",
        "my_df['rate'] = my_df['rate'].replace(2, 1)\n",
        "my_df['rate'] = my_df['rate'].replace(5, 1)\n",
        "my_df['rate'] = my_df['rate'].replace(4, 1)\n",
        "my_df['rate'] = my_df['rate'].replace(3, 0)\n",
        "\n",
        "\n",
        "#print(len(my_df[my_df.rate == 1]), my_df[my_df.rate == 0])\n",
        "df_majority = my_df[my_df.rate==1]\n",
        "df_minority = my_df[my_df.rate==0]\n",
        "\n",
        "print('Training class distributions summary: {}'.format(Counter(my_df.rate)))\n",
        "df_majority_downsampled = resample(df_majority, replace=False, n_samples=len(df_minority),random_state=123)\n",
        "df_downsampled = pd.concat([df_majority_downsampled, df_minority])\n",
        "df_downsampled.text=df_downsampled.text.astype(str)\n",
        "print('Training class distributions summary: {}'.format(Counter(df_downsampled.rate)))\n",
        "\n",
        "x = df_downsampled.text\n",
        "y = df_downsampled.rate\n",
        "'''\n",
        "kfold = StratifiedKFold(n_splits = 5, shuffle = True, random_state = seed)\n",
        "x = x.reset_index(drop = True)\n",
        "y = y.reset_index(drop = True)\n",
        "i = 0\n",
        "dfs_train, dfs_test = [],[]\n",
        "for train, test in kfold.split(x, y):\n",
        "  \n",
        "  print('Fold ', str(i+1))\n",
        "  print('##########################')  \n",
        "  x_train, y_train,  = x[train], y[train]\n",
        "  x_test, y_test,  = x[test], y[test]\n",
        "  \n",
        "  Data = {'x':x_train, 'y':y_train}\n",
        "  df = pd.DataFrame(Data)\n",
        "  dfs_train.append(df)  \n",
        "  \n",
        "  Data = {'x':x_test, 'y':y_test}\n",
        "  df = pd.DataFrame(Data)\n",
        "  dfs_test.append(df)  \n",
        "  \n",
        "  i += 1\n",
        "  \n",
        "min_len = len(dfs_train[0])\n",
        "max_len = len(dfs_train[4])\n",
        "i=1\n",
        "for d in dfs_train:\n",
        "  while len(d) > min_len:\n",
        "    d.drop(d.tail(1).index,inplace=True)\n",
        "    d.drop(d.head(1).index,inplace=True) \n",
        "  d.to_csv(path+ dataset_name+'train_'+str(i)+'.csv')\n",
        "  i+=1\n",
        "min_len = len(dfs_test[0])\n",
        "max_len = len(dfs_test[4])\n",
        "i=1\n",
        "for d in dfs_test:\n",
        "  while len(d) > min_len:\n",
        "    d.drop(d.tail(1).index,inplace=True)\n",
        "    d.drop(d.head(1).index,inplace=True) \n",
        "  d.to_csv(path+ dataset_name+'test_'+str(i)+'.csv')\n",
        "  i+=1\n",
        "\n",
        "  "
      ],
      "execution_count": null,
      "outputs": [
        {
          "output_type": "stream",
          "text": [
            "Fold  1\n",
            "##########################\n",
            "Fold  2\n",
            "##########################\n",
            "Fold  3\n",
            "##########################\n",
            "Fold  4\n",
            "##########################\n",
            "Fold  5\n",
            "##########################\n"
          ],
          "name": "stdout"
        }
      ]
    },
    {
      "cell_type": "markdown",
      "metadata": {
        "id": "8J4weDrkNAXQ"
      },
      "source": [
        "## Loading folds seperately"
      ]
    },
    {
      "cell_type": "code",
      "metadata": {
        "id": "yDKMblFmXwuf"
      },
      "source": [
        "#path = 'drive/app/Datasets/'\n",
        "path = '/content/drive/My Drive/app/Datasets/'\n",
        "\n",
        "#path = 'drive/app/Datasets/dataset-amazon/'\n",
        "#path = 'drive/app/Datasets/Tweets/'\n",
        "#dataset_name = 'clean_tweet'\n",
        "dataset_name = 'Apps_for_Android_5'\n",
        "#dataset_name = 'Kindle_Store_5'\n",
        "#dataset_name = 'Movies_and_TV_5'\n",
        "#dataset_name = 'Electronics_5'\n",
        "#dataset_name = 'CDs_and_Vinyl_5'\n",
        "\n",
        "\n",
        "#path = 'drive/app/Datasets/Tweets/'\n",
        "#dataset_name = 't4sa'\n",
        "\n",
        "\n",
        "fold_number = 5\n",
        "\n",
        "csv = path+ dataset_name+ 'train_'+str(fold_number)+ '.csv'\n",
        "my_df = pd.read_csv(csv)\n",
        "\n",
        "x_train, y_train = my_df.x, my_df.y\n",
        "\n",
        "csv = path+ dataset_name+ 'test_'+str(fold_number)+ '.csv'\n",
        "my_df = pd.read_csv(csv)\n",
        "\n",
        "x_test, y_test = my_df.x, my_df.y\n",
        "\n",
        "#Creating dummy dataframes for saving results in\n",
        "'''col = ['yhats_ssbed', 'fpr_ssbed','tpr_ssbed','roc_auc_ssbed',\\\n",
        "       'yhats_our','fpr_our','tpr_our','roc_auc_our',\\\n",
        "       'yhats_han','fpr_han','tpr_han','roc_auc_han',\\\n",
        "       'yhats_arc','fpr_arc','tpr_arc','roc_auc_arc',\\\n",
        "       'yhats_crnn','fpr_crnn','tpr_crnn','roc_auc_crnn',\\\n",
        "       'yhats_iwv','fpr_iwv','tpr_iwv','roc_auc_iwv',\\\n",
        "       'yhats_acbilstm','fpr_acbilstm','tpr_acbilstm','roc_auc_acbilstm',\\\n",
        "       'yhats_stacked','fpr_stacked','tpr_stacked','roc_auc_stacked']'''\n",
        "col = ['yhats_our','fpr_our','tpr_our','roc_auc_our']\n",
        "#df = pd.DataFrame(columns=col)\n",
        "#df.to_csv(path+ dataset_name+ '_results'+ '.csv',index=False)"
      ],
      "execution_count": null,
      "outputs": []
    },
    {
      "cell_type": "code",
      "metadata": {
        "id": "ljcRhGRnVQd2",
        "colab": {
          "base_uri": "https://localhost:8080/",
          "height": 204
        },
        "outputId": "24edf75b-a2fd-4692-f03d-491c40de01ce"
      },
      "source": [
        "#fold_number\n",
        "#results = pd.read_csv(csv)\n",
        "#len(max(sequences, key = lambda i: len(i)))\n",
        "csv = path+ dataset_name+ '_results'+ '.csv'\n",
        "results = pd.read_csv(csv)\n",
        "results\n",
        "#fold_number"
      ],
      "execution_count": null,
      "outputs": [
        {
          "output_type": "execute_result",
          "data": {
            "text/html": [
              "<div>\n",
              "<style scoped>\n",
              "    .dataframe tbody tr th:only-of-type {\n",
              "        vertical-align: middle;\n",
              "    }\n",
              "\n",
              "    .dataframe tbody tr th {\n",
              "        vertical-align: top;\n",
              "    }\n",
              "\n",
              "    .dataframe thead th {\n",
              "        text-align: right;\n",
              "    }\n",
              "</style>\n",
              "<table border=\"1\" class=\"dataframe\">\n",
              "  <thead>\n",
              "    <tr style=\"text-align: right;\">\n",
              "      <th></th>\n",
              "      <th>yhats_our</th>\n",
              "      <th>fpr_our</th>\n",
              "      <th>tpr_our</th>\n",
              "      <th>roc_auc_our</th>\n",
              "    </tr>\n",
              "  </thead>\n",
              "  <tbody>\n",
              "    <tr>\n",
              "      <th>0</th>\n",
              "      <td>[[0.2387249916791916], [0.9774684309959412], [...</td>\n",
              "      <td>[0.0, 0.0, 0.0, 5.389673385792821e-05, 5.38967...</td>\n",
              "      <td>[0.0, 5.389673385792821e-05, 0.003826668103912...</td>\n",
              "      <td>0.958700</td>\n",
              "    </tr>\n",
              "    <tr>\n",
              "      <th>1</th>\n",
              "      <td>[[0.89593106508255], [0.4267564117908478], [0....</td>\n",
              "      <td>[0.0, 0.0, 0.0, 0.0, 0.0, 0.0, 0.0, 5.38996388...</td>\n",
              "      <td>[0.0, 5.389963887241955e-05, 0.006360157386945...</td>\n",
              "      <td>0.953478</td>\n",
              "    </tr>\n",
              "    <tr>\n",
              "      <th>2</th>\n",
              "      <td>[[0.9941572546958923], [0.9038531184196472], [...</td>\n",
              "      <td>[0.0, 0.0, 0.0, 0.0, 0.0, 0.0, 0.0, 0.0, 0.0, ...</td>\n",
              "      <td>[0.0, 5.389963887241955e-05, 0.002263784832641...</td>\n",
              "      <td>0.954860</td>\n",
              "    </tr>\n",
              "    <tr>\n",
              "      <th>3</th>\n",
              "      <td>[[0.9192284345626831], [9.358298848383129e-05]...</td>\n",
              "      <td>[0.0, 0.0, 0.0, 5.389963887241955e-05, 5.38996...</td>\n",
              "      <td>[0.0, 5.389963887241955e-05, 0.000916293860831...</td>\n",
              "      <td>0.958558</td>\n",
              "    </tr>\n",
              "    <tr>\n",
              "      <th>4</th>\n",
              "      <td>[[0.996709942817688], [0.8867532014846802], [0...</td>\n",
              "      <td>[0.0, 0.0, 0.0, 0.0, 0.0, 0.0, 0.0, 0.0, 0.0, ...</td>\n",
              "      <td>[0.0, 5.389963887241955e-05, 0.019188271438581...</td>\n",
              "      <td>0.949959</td>\n",
              "    </tr>\n",
              "  </tbody>\n",
              "</table>\n",
              "</div>"
            ],
            "text/plain": [
              "                                           yhats_our  ... roc_auc_our\n",
              "0  [[0.2387249916791916], [0.9774684309959412], [...  ...    0.958700\n",
              "1  [[0.89593106508255], [0.4267564117908478], [0....  ...    0.953478\n",
              "2  [[0.9941572546958923], [0.9038531184196472], [...  ...    0.954860\n",
              "3  [[0.9192284345626831], [9.358298848383129e-05]...  ...    0.958558\n",
              "4  [[0.996709942817688], [0.8867532014846802], [0...  ...    0.949959\n",
              "\n",
              "[5 rows x 4 columns]"
            ]
          },
          "metadata": {
            "tags": []
          },
          "execution_count": 9
        }
      ]
    },
    {
      "cell_type": "code",
      "metadata": {
        "id": "BLR3t4s4RYS2"
      },
      "source": [
        "max_len = 100\n",
        "bs = 2048\n",
        "ep = 15\n",
        "embedding_dim = 100\n",
        "Epoch_time = time.time()\n",
        "csv = path+ dataset_name+ '_results'+ '.csv'\n",
        "early_stop = EarlyStopping(monitor = \"val_acc\", mode = \"max\", patience = 3)\n",
        "results = pd.read_csv(csv)\n",
        "print('Loading Results Complete!')\n",
        "\n",
        "tokenizer = Tokenizer(num_words=100000)\n",
        "tokenizer.fit_on_texts(x_train.astype(str))\n",
        "print('tokenizer fitted!')\n",
        "\n",
        "embedding_matrix = create_embedding_matrix('drive/app/glove.twitter.27B.100d.txt',tokenizer.word_index, embedding_dim)\n",
        "embedding_matrix_glove = create_embedding_matrix('drive/app/gensim_glove_vectors_100.txt',tokenizer.word_index, embedding_dim)\n",
        "print('Embeddings creadted!')\n",
        "\n",
        "sequences_test = tokenizer.texts_to_sequences(x_test.astype(str))\n",
        "x_test_seq = pad_sequences(sequences_test, maxlen=max_len)\n",
        "\n",
        "sequences = tokenizer.texts_to_sequences(x_train.astype(str))\n",
        "x_train_seq = pad_sequences(sequences, maxlen= max_len)\n",
        "\n",
        "###################### SS-BED ################################################\n",
        "'''start_time = time.time()\n",
        "file_path = path + \"ssbed.hdf5\"\n",
        "checkpoint = ModelCheckpoint(file_path, monitor='val_acc', verbose=1, save_best_only=True, mode='max')\n",
        "\n",
        "\n",
        "model_ssbed = build_SSBED(embedding_matrix_glove)\n",
        "model_ssbed.fit(x_train_seq, y_train, batch_size = bs, epochs= ep, validation_split = 0.2, callbacks = [checkpoint, early_stop])\n",
        "print('SS-BED Model Fitted!')\n",
        "\n",
        "yhat_ssbed = model_ssbed.predict(x_test_seq)\n",
        "print('SS-BED Model Predicted!')\n",
        "\n",
        "fpr_ssbed, tpr_ssbed, threshold = roc_curve(y_test, yhat_ssbed)\n",
        "roc_auc_ssbed = auc(fpr_ssbed, tpr_ssbed)\n",
        "\n",
        "print('SS-BED Model Completed!')\n",
        "end_time = time.time()\n",
        "print('SS-BED execution time = ', str(round(end_time - start_time, 2)))'''\n",
        "######################## Paper 2 ###############################################\n",
        "start_time = time.time()\n",
        "x_train_seq_exp = np.expand_dims(x_train_seq, axis=1)\n",
        "y_train_exp = np.expand_dims(y_train, axis=1)\n",
        "x_test_seq_exp = np.expand_dims(x_test_seq, axis=1)\n",
        "y_test_exp = np.expand_dims(y_test, axis=1)\n",
        "\n",
        "file_path = path + \"Paper_2.hdf5\"\n",
        "checkpoint = ModelCheckpoint(file_path, monitor='val_acc', verbose=1, save_best_only=True, mode='max')\n",
        "\n",
        "model_our = Paper_2_doc_branch(max_len, embeddingSize = 100, embWeights = embedding_matrix_glove, vocabSize = embedding_matrix.shape[0])\n",
        "model_our.fit([x_train_seq , x_train_seq_exp], y_train_exp, batch_size=bs, epochs=ep, validation_split = 0.2, callbacks = [checkpoint,early_stop])\n",
        "\n",
        "##model_our.fit([x_train_seq , x_train_seq_exp], [y_train_exp,y_train_exp,y_train_exp], batch_size=bs, epochs=ep, validation_split = 0.2, callbacks = [checkpoint,early_stop])\n",
        "\n",
        "doc_results = model_our.predict([x_test_seq,x_test_seq_exp])\n",
        "print('Paper_2_doc_branch Model Fitted!')\n",
        "\n",
        "checkpoint = ModelCheckpoint(file_path, monitor='val_acc', verbose=1, save_best_only=True, mode='max')\n",
        "model_our = Paper_2_sent_branch(max_len, embeddingSize = 100, embWeights = embedding_matrix_glove, vocabSize = embedding_matrix.shape[0])\n",
        "model_our.fit(x_train_seq_exp, y_train_exp, batch_size=bs, epochs=ep, validation_split = 0.2, callbacks = [checkpoint,early_stop])\n",
        "\n",
        "sent_results = model_our.predict(x_test_seq_exp)\n",
        "print('Paper_2_sent_branch Model Fitted!')\n",
        "\n",
        "checkpoint = ModelCheckpoint(file_path, monitor='val_acc', verbose=1, save_best_only=True, mode='max')\n",
        "model_our = Paper_2_word_branch(max_len, embeddingSize = 100, embWeights = embedding_matrix_glove, vocabSize = embedding_matrix.shape[0])\n",
        "model_our.fit(x_train_seq, y_train_exp, batch_size=bs, epochs=ep, validation_split = 0.2, callbacks = [checkpoint,early_stop])\n",
        "word_results = model_our.predict(x_test_seq)\n",
        "print('Paper_2_doc_branch Model Fitted!')\n",
        "\n",
        "yhat_our = np.concatenate([[word_results],[sent_results],[doc_results]])\n",
        "#yhat_our = sent_results\n",
        "############################## Late Fusion #####################################\n",
        "################################################################################\n",
        "#yhat_our = np.amax(yhat_our,axis=0)\n",
        "#yhat_our_DS = yhat_our\n",
        "#yhat_our = np.average(yhat_our,axis=0) \n",
        "yhat_our = np.prod(yhat_our,axis=0)\n",
        "#best = np.argmax([word_results[3][0],sent_results[3][0],doc_results[3][0]])\n",
        "#yhat_our = yhat_our[best]\n",
        "############################## ############### #################################\n",
        "################################################################################\n",
        "\n",
        "print('Paper_2 Model Predicted!')  \n",
        "\n",
        "\n",
        "fpr_our, tpr_our, threshold = roc_curve(y_test_exp, yhat_our)\n",
        "roc_auc_our = auc(fpr_our, tpr_our)\n",
        "\n",
        "print('Paper_2 Model Completed!')\n",
        "end_time = time.time()\n",
        "print('Paper_2 execution time = ', str(round(end_time - start_time, 2)))\n",
        "\n",
        "######################## Our Model ###########################################\n",
        "'''start_time = time.time()\n",
        "file_path = path + \"our.hdf5\"\n",
        "checkpoint = ModelCheckpoint(file_path, monitor='val_acc', verbose=1, save_best_only=True, mode='max')\n",
        "model_our = Paper_2(lr = 1e-3, lr_d = 1e-10, units = 128, spatial_dr = 0.5, kernel_size1 = 4, kernel_size2 = 6, dense_units = 64, dr = 0.2, conv_size = 32)\n",
        "model_our.fit(x_train_seq, y_train, batch_size = bs, epochs= ep, validation_split = 0.2, callbacks = [checkpoint, early_stop])\n",
        "print('Our Model Fitted!')\n",
        "\n",
        "yhat_our = model_our.predict(x_test_seq) \n",
        "print('Our Model Predicted!')\n",
        "\n",
        "fpr_our, tpr_our, threshold = roc_curve(y_test, yhat_our)\n",
        "roc_auc_our = auc(fpr_our, tpr_our)\n",
        "\n",
        "print('Our Model Completed!')\n",
        "end_time = time.time()\n",
        "print('Our execution time = ', str(round(end_time - start_time, 2)))\n",
        "'''\n",
        "########################### HAN ##############################################\n",
        "'''start_time = time.time()\n",
        "x_train_seq_exp = np.expand_dims(x_train_seq, axis=1)\n",
        "y_train_exp = np.expand_dims(y_train, axis=1)\n",
        "x_test_seq_exp = np.expand_dims(x_test_seq, axis=1)\n",
        "y_test_exp = np.expand_dims(y_test, axis=1)\n",
        "\n",
        "file_path = path + \"HAN.hdf5\"\n",
        "checkpoint = ModelCheckpoint(file_path, monitor='val_acc', verbose=1, save_best_only=True, mode='max')\n",
        "model_han = build_HAN()\n",
        "model_han.fit(x_train_seq_exp, y_train_exp, batch_size=bs, epochs=ep, validation_split = 0.2, callbacks = [checkpoint,early_stop])\n",
        "print('HAN Model Fitted!')\n",
        "\n",
        "yhat_han = model_han.predict(x_test_seq_exp)\n",
        " \n",
        "print('HAN Model Predicted!')  \n",
        "\n",
        "fpr_han, tpr_han, threshold = roc_curve(y_test_exp, yhat_han)\n",
        "roc_auc_han = auc(fpr_han, tpr_han)\n",
        "\n",
        "print('HAN Model Completed!')\n",
        "end_time = time.time()\n",
        "print('HAN execution time = ', str(round(end_time - start_time, 2)))'''\n",
        "########################## ARC ############################################\n",
        "'''start_time = time.time()\n",
        "file_path = path + \"ARC.hdf5\"\n",
        "checkpoint = ModelCheckpoint(file_path, monitor='val_acc', verbose=1, save_best_only=True, mode='max')\n",
        "model_arc = build_ARC(embedding_matrix)\n",
        "model_arc.fit(x_train_seq, y_train, batch_size = bs, epochs= ep, validation_split = 0.2, callbacks = [checkpoint, early_stop])\n",
        "print('ARC Model Fitted!')\n",
        "\n",
        "yhat_arc = model_arc.predict(x_test_seq)  \n",
        "print('ARC Model Predicted!')\n",
        "\n",
        "fpr_arc, tpr_arc, threshold = roc_curve(y_test, yhat_arc)\n",
        "roc_auc_arc = auc(fpr_arc, tpr_arc)\n",
        "\n",
        "print('ARC Model Completed!')\n",
        "end_time = time.time()\n",
        "print('ARC execution time = ', str(round(end_time - start_time, 2)))'''\n",
        "########################## CRNN ############################################\n",
        "'''start_time = time.time()\n",
        "file_path = path + \"CRNN.hdf5\"\n",
        "checkpoint = ModelCheckpoint(file_path, monitor='val_acc', verbose=1, save_best_only=True, mode='max')\n",
        "model_crnn = build_CRNN(embedding_matrix)\n",
        "model_crnn.fit(x_train_seq, y_train, batch_size = bs, epochs= ep, validation_split = 0.2, callbacks = [checkpoint, early_stop])\n",
        "print('CRNN Model Fitted!')\n",
        "\n",
        "yhat_crnn = model_crnn.predict(x_test_seq) \n",
        "print('CRNN Model Predicted!')\n",
        "\n",
        "fpr_crnn, tpr_crnn, threshold = roc_curve(y_test, yhat_crnn)\n",
        "roc_auc_crnn = auc(fpr_crnn, tpr_crnn)\n",
        "\n",
        "print('CRNN Model Completed!')  \n",
        "end_time = time.time()\n",
        "print('CRNN execution time = ', str(round(end_time - start_time, 2)))'''\n",
        "########################## IWV ############################################\n",
        "'''start_time = time.time()\n",
        "file_path = path + \"IWV.hdf5\"\n",
        "checkpoint = ModelCheckpoint(file_path, monitor='val_acc', verbose=1, save_best_only=True, mode='max')\n",
        "model_iwv = build_IWV(embedding_matrix)\n",
        "model_iwv.fit(x_train_seq, y_train, batch_size = bs, epochs= ep, validation_split = 0.2, callbacks = [checkpoint, early_stop])\n",
        "print('IWV Model Fitted!')\n",
        "\n",
        "yhat_iwv = model_iwv.predict(x_test_seq)\n",
        "print('IWV Model Predicted!')\n",
        "\n",
        "fpr_iwv, tpr_iwv, threshold = roc_curve(y_test, yhat_iwv)\n",
        "roc_auc_iwv = auc(fpr_iwv, tpr_iwv)\n",
        "print('IWV Model Completed!')\n",
        "\n",
        "end_time = time.time()\n",
        "print('IWV execution time = ', str(round(end_time - start_time, 2)))'''\n",
        "########################## AC-BiLSTM ############################################\n",
        "'''start_time = time.time()\n",
        "file_path = path + \"AC_BiLSTM.hdf5\"\n",
        "checkpoint = ModelCheckpoint(file_path, monitor='val_acc', verbose=1, save_best_only=True, mode='max')\n",
        "model_acbilstm = build_ACBiLSTM(embedding_matrix)\n",
        "model_acbilstm.fit(x_train_seq, y_train, batch_size = bs, epochs= ep, validation_split = 0.2, callbacks = [checkpoint, early_stop])\n",
        "print('AC-BiLSTM Model Fitted!')\n",
        "\n",
        "yhat_acbilstm = model_acbilstm.predict(x_test_seq)\n",
        "print('AC_BiLSTM Model Predicted!')\n",
        "\n",
        "fpr_acbilstm, tpr_acbilstm, threshold = roc_curve(y_test, yhat_acbilstm)\n",
        "roc_auc_acbilstm = auc(fpr_acbilstm, tpr_acbilstm)\n",
        "print('AC_BiLSTM Model Completed!')\n",
        "\n",
        "end_time = time.time()\n",
        "print('AC_BiLSTM execution time = ', str(round(end_time - start_time, 2)))'''\n",
        "############## Stacked Model #################################################\n",
        "'''start_time = time.time()\n",
        "members = [model_our, model_ssbed, model_arc, model_crnn, model_iwv,model_acbilstm]\n",
        "model_stacked = fit_stacked_model(members, x_test_seq, y_test)\n",
        "yhat_stacked = stacked_prediction(members, model_stacked, x_test_seq)\n",
        "#yhats_stacked.append(yhat_stacked[:,1])  \n",
        "print('Stacked Model Predicted!')\n",
        "\n",
        "fpr_stacked, tpr_stacked, threshold = roc_curve(y_test, yhat_stacked[:,1])\n",
        "roc_auc_stacked = auc(fpr_stacked, tpr_stacked)\n",
        "print('Stacked Model Completed!')\n",
        "\n",
        "end_time = time.time()\n",
        "print('Stacked execution time = ', str(round(end_time - start_time, 2)))'''\n",
        "##############################################################################\n",
        "'''results.loc[str(fold_number)] = [yhat_ssbed.tolist(),fpr_ssbed.tolist(),tpr_ssbed.tolist(),roc_auc_ssbed.tolist(),\\\n",
        "                                 yhat_our.tolist(),fpr_our.tolist(),tpr_our.tolist(),roc_auc_our.tolist(),\\\n",
        "                                 yhat_han.tolist(),fpr_han.tolist(),tpr_han.tolist(),roc_auc_han.tolist(),\\\n",
        "                                 yhat_arc.tolist(),fpr_arc.tolist(),tpr_arc.tolist(),roc_auc_arc.tolist(),\\\n",
        "                                 yhat_crnn.tolist(),fpr_crnn.tolist(),tpr_crnn.tolist(),roc_auc_crnn.tolist(),\\\n",
        "                                 yhat_iwv.tolist(),fpr_iwv.tolist(),tpr_iwv.tolist(),roc_auc_iwv.tolist(),\\\n",
        "                                 yhat_acbilstm.tolist(),fpr_acbilstm.tolist(),tpr_acbilstm.tolist(),roc_auc_acbilstm.tolist(),\\\n",
        "                                 yhat_stacked[:,1].tolist(),fpr_stacked.tolist(),tpr_stacked.tolist(),roc_auc_stacked.tolist()]'''\n",
        "                        \n",
        "results.loc[str(fold_number)] = [yhat_our.tolist(),fpr_our.tolist(),tpr_our.tolist(),roc_auc_our.tolist()]\n",
        "results.to_csv(path+ dataset_name+ '_results'+ '.csv',index=False)\n",
        "\n",
        "End_Epoch_time = time.time()\n",
        "print(str(round(End_Epoch_time - Epoch_time, 2)))"
      ],
      "execution_count": null,
      "outputs": []
    },
    {
      "cell_type": "code",
      "metadata": {
        "id": "2AcsTXbqmcwp"
      },
      "source": [
        "#yhat_our = np.concatenate([[word_results],[sent_results],[doc_results]])\n",
        "#yhat_our= np.prod(yhat_our,axis=0)\n",
        "#yhat_our.shape\n"
      ],
      "execution_count": null,
      "outputs": []
    },
    {
      "cell_type": "markdown",
      "metadata": {
        "id": "AqUBRCGYD3oE"
      },
      "source": [
        "## Testing"
      ]
    },
    {
      "cell_type": "code",
      "metadata": {
        "id": "AEkAUZ41SmQr"
      },
      "source": [
        "path = 'drive/app/Datasets/'\n",
        "#path = 'drive/app/Datasets/dataset-amazon/'\n",
        "#dataset_name = 'Kindle_Store_5'\n",
        "#dataset_name = 'Movies_and_TV_5'\n",
        "#dataset_name = 'Electronics_5'\n",
        "dataset_name = 'CDs_and_Vinyl_5'\n",
        "#path = 'drive/app/Datasets/Tweets/'\n",
        "#dataset_name = 'Apps_for_Android_5'\n",
        "\n",
        "col = ['y_test_1', 'y_test_2','y_test_3','y_test_4','y_test_5']\n",
        "y_test_df = pd.DataFrame(columns=col)\n",
        "for fold_number in range(1,6):\n",
        "  csv = path+ dataset_name+ 'test_'+str(fold_number)+ '.csv'\n",
        "  my_df = pd.read_csv(csv)\n",
        "  y_test = my_df.y\n",
        "  y_test_df['y_test_'+str(fold_number)] = y_test\n"
      ],
      "execution_count": null,
      "outputs": []
    },
    {
      "cell_type": "code",
      "metadata": {
        "id": "KymWBFka_6nw"
      },
      "source": [
        "#yhats_ssbed = results.yhats_ssbed\n",
        "yhats_our = results.yhats_our\n",
        "#yhats_han = results.yhats_han\n",
        "#yhats_arc = results.yhats_arc\n",
        "#yhats_crnn = results.yhats_crnn\n",
        "#yhats_iwv = results.yhats_iwv\n",
        "#yhats_acbilstm = results.yhats_acbilstm\n",
        "#yhats_stacked = results.yhats_stacked"
      ],
      "execution_count": null,
      "outputs": []
    },
    {
      "cell_type": "code",
      "metadata": {
        "id": "1HGZEN9YU-eT",
        "colab": {
          "base_uri": "https://localhost:8080/",
          "height": 170
        },
        "outputId": "02594e99-8484-46ad-81ad-04aef68573d8"
      },
      "source": [
        "\n",
        "results = []\n",
        "#yhat_list = [yhats_ssbed, yhats_our, yhats_han, yhats_arc, yhats_crnn, yhats_iwv, yhats_acbilstm, yhats_stacked]\n",
        "yhat_list = [yhats_our]\n",
        "for yh in yhat_list:\n",
        "  for c,i in zip(yh,range(len(yh))):\n",
        "    c = literal_eval(c)\n",
        "    print(i+1)\n",
        "    c = np.asarray(c, dtype=np.float32)\n",
        "    labels = (c > 0.5).astype(np.int)\n",
        "    labels = labels.flatten().tolist()\n",
        "\n",
        "    data = []\n",
        "    cnf_matrix = confusion_matrix(y_test_df['y_test_'+str(i+1)][:len(labels)], labels)\n",
        "\n",
        "    FP = cnf_matrix.sum(axis=0) - np.diag(cnf_matrix)  \n",
        "    FN = cnf_matrix.sum(axis=1) - np.diag(cnf_matrix)\n",
        "    TP = np.diag(cnf_matrix)\n",
        "    TN = cnf_matrix.sum() - (FP + FN + TP)\n",
        "\n",
        "\n",
        "    FP = FP.astype(float)\n",
        "    FN = FN.astype(float)\n",
        "    TP = TP.astype(float)\n",
        "    TN = TN.astype(float)\n",
        "\n",
        "    # Sensitivity, hit rate, recall, or true positive rate\n",
        "    TPR = TP/(TP+FN)\n",
        "    # Specificity or true negative rate\n",
        "    TNR = TN/(TN+FP) \n",
        "    # Precision or positive predictive value\n",
        "    PPV = TP/(TP+FP)\n",
        "    # Negative predictive value\n",
        "    NPV = TN/(TN+FN)\n",
        "    # Fall out or false positive rate\n",
        "    FPR = FP/(FP+TN)\n",
        "    # False negative rate\n",
        "    FNR = FN/(TP+FN)\n",
        "    # False discovery rate\n",
        "    FDR = FP/(TP+FP)\n",
        "    # Overall accuracy\n",
        "    ACC = (TP+TN)/(TP+FP+FN+TN)\n",
        "    F1 = (2 * TPR * PPV)/(TPR + PPV)\n",
        "    data.append(TPR)\n",
        "    data.append(TNR)\n",
        "    data.append(PPV)\n",
        "    data.append(F1)\n",
        "    data.append(ACC)\n",
        "\n",
        "    results.append([round(d[0],4) for d in data])\n",
        "    results.append([round(d[1],4) for d in data])\n",
        "\n",
        "print(\"Recall, Specifity, Precision, F1, Accuracy\")\n",
        "#for r in results:\n",
        "#print(r)\n",
        "#model_names = ['SS-BED','Our', 'HAN','ARC', 'CRNN', 'IWV', 'ACBiLSTM' ,'Stacked']\n",
        "model_names = ['Our']\n",
        "#for j in range(8):\n",
        "for j in range(1):\n",
        "  ssbed_pos = results[0 + j * 10]\n",
        "  ssbed_neg = results[1 + j * 10]\n",
        "  for i in range(2+j*10,10+j*10,2):\n",
        "    ssbed_pos = list(map(add, ssbed_pos, results[i]))\n",
        "    ssbed_neg = list(map(add, ssbed_neg, results[i+1]))\n",
        "  ssbed_pos = [round(x / float(len(ssbed_pos)),4) for x in ssbed_pos]\n",
        "  ssbed_neg = [round(x / float(len(ssbed_neg)),4) for x in ssbed_neg]\n",
        "\n",
        "  print(\"Results for \",model_names[j])\n",
        "  print(ssbed_pos)\n",
        "  print(ssbed_neg)"
      ],
      "execution_count": null,
      "outputs": [
        {
          "output_type": "stream",
          "text": [
            "1\n",
            "2\n",
            "3\n",
            "4\n",
            "5\n",
            "Recall, Specifity, Precision, F1, Accuracy\n",
            "Results for  Our\n",
            "[0.9392, 0.7903, 0.8204, 0.8745, 0.8647]\n",
            "[0.7903, 0.9392, 0.9313, 0.8526, 0.8647]\n"
          ],
          "name": "stdout"
        }
      ]
    },
    {
      "cell_type": "code",
      "metadata": {
        "id": "HcIlzdlDqpFx",
        "colab": {
          "base_uri": "https://localhost:8080/",
          "height": 34
        },
        "outputId": "058cc8a5-2c01-43ac-d787-69aac5b1cd3c"
      },
      "source": [
        "yhats_our.shape[0]"
      ],
      "execution_count": null,
      "outputs": [
        {
          "output_type": "execute_result",
          "data": {
            "text/plain": [
              "5"
            ]
          },
          "metadata": {
            "tags": []
          },
          "execution_count": 34
        }
      ]
    },
    {
      "cell_type": "code",
      "metadata": {
        "id": "7U-iZTz96mKo",
        "colab": {
          "base_uri": "https://localhost:8080/",
          "height": 501
        },
        "outputId": "a3552299-5e5b-4a89-b8b2-3bd7cc1a125f"
      },
      "source": [
        "fpr_stacked, tpr_stacked = literal_eval(results.fpr_stacked[0]), literal_eval(results.tpr_stacked[0])\n",
        "fpr_our, tpr_our = literal_eval(results.fpr_our[0]), literal_eval(results.tpr_our[0])\n",
        "fpr_ssbed, tpr_ssbed = literal_eval(results.fpr_ssbed[0]), literal_eval(results.tpr_ssbed[0])\n",
        "fpr_han, tpr_han = literal_eval(results.fpr_han[0]), literal_eval(results.tpr_han[0])\n",
        "fpr_arc, tpr_arc = literal_eval(results.fpr_arc[0]), literal_eval(results.tpr_arc[0])\n",
        "fpr_crnn, tpr_crnn = literal_eval(results.fpr_crnn[0]), literal_eval(results.tpr_crnn[0])\n",
        "fpr_iwv, tpr_iwv = literal_eval(results.fpr_iwv[0]), literal_eval(results.tpr_iwv[0])\n",
        "fpr_acbilstm, tpr_acbilstm = literal_eval(results.fpr_acbilstm[0]), literal_eval(results.tpr_acbilstm[0])\n",
        "\n",
        "for i in range(1,5):\n",
        "  fpr_stacked = list(map(add, fpr_stacked, literal_eval(results.fpr_stacked[i])))\n",
        "  tpr_stacked = list(map(add, tpr_stacked, literal_eval(results.tpr_stacked[i])))\n",
        "  fpr_our = list(map(add, fpr_our, literal_eval(results.fpr_our[i])))\n",
        "  tpr_our = list(map(add, tpr_our, literal_eval(results.tpr_our[i])))\n",
        "  fpr_ssbed = list(map(add, fpr_ssbed, literal_eval(results.fpr_ssbed[i])))\n",
        "  tpr_ssbed = list(map(add, tpr_ssbed, literal_eval(results.tpr_ssbed[i])))\n",
        "  fpr_han = list(map(add, fpr_han, literal_eval(results.fpr_han[i])))\n",
        "  tpr_han = list(map(add, tpr_han, literal_eval(results.tpr_han[i])))\n",
        "  fpr_arc = list(map(add, fpr_arc, literal_eval(results.fpr_arc[i])))\n",
        "  tpr_arc = list(map(add, tpr_arc,  literal_eval(results.tpr_arc[i])))\n",
        "  fpr_crnn = list(map(add, fpr_crnn, literal_eval(results.fpr_crnn[i])))\n",
        "  tpr_crnn = list(map(add, tpr_crnn, literal_eval(results.tpr_crnn[i])))\n",
        "  fpr_iwv = list(map(add, fpr_iwv, literal_eval(results.fpr_iwv[i])))\n",
        "  tpr_iwv = list(map(add, tpr_iwv, literal_eval(results.tpr_iwv[i])))\n",
        "  fpr_acbilstm = list(map(add, fpr_acbilstm, literal_eval(results.fpr_acbilstm[i])))\n",
        "  tpr_acbilstm = list(map(add, tpr_acbilstm, literal_eval(results.tpr_acbilstm[i])))\n",
        "\n",
        "fpr_stacked = [round(x/5.0 ,4) for x in fpr_stacked] \n",
        "tpr_stacked = [round(x/5.0 ,4) for x in tpr_stacked] \n",
        "\n",
        "fpr_our = [round(x/5.0 ,4) for x in fpr_our] \n",
        "tpr_our = [round(x/5.0 ,4) for x in tpr_our]\n",
        "\n",
        "fpr_ssbed = [round(x/5.0 ,4) for x in fpr_ssbed] \n",
        "tpr_ssbed = [round(x/5.0 ,4) for x in tpr_ssbed]\n",
        "\n",
        "fpr_han = [round(x/5.0 ,4) for x in fpr_han] \n",
        "tpr_han = [round(x/5.0 ,4) for x in tpr_han]\n",
        "\n",
        "fpr_arc = [round(x/5.0 ,4) for x in fpr_arc] \n",
        "tpr_arc = [round(x/5.0 ,4) for x in tpr_arc]\n",
        "\n",
        "fpr_crnn = [round(x/5.0 ,4) for x in fpr_crnn] \n",
        "tpr_crnn = [round(x/5.0 ,4) for x in tpr_crnn]\n",
        "\n",
        "fpr_iwv = [round(x/5.0 ,4) for x in fpr_iwv] \n",
        "tpr_iwv = [round(x/5.0 ,4) for x in tpr_iwv]\n",
        "\n",
        "fpr_acbilstm = [round(x/5.0 ,4) for x in fpr_acbilstm] \n",
        "tpr_acbilstm = [round(x/5.0 ,4) for x in tpr_acbilstm]\n",
        "\n",
        "aucs_stacked,aucs_our,aucs_ssbed,aucs_han,aucs_arc,aucs_crnn,aucs_iwv,aucs_acbilstm = [],[],[],[],[],[],[],[]\n",
        "for i in range(5):\n",
        "  aucs_stacked.append(float(results.roc_auc_stacked[i]))\n",
        "  aucs_our.append(float(results.roc_auc_our[i]))\n",
        "  aucs_ssbed.append(float(results.roc_auc_ssbed[i]))\n",
        "  aucs_han.append(float(results.roc_auc_han[i]))\n",
        "  aucs_arc.append(float(results.roc_auc_arc[i]))\n",
        "  aucs_crnn.append(float(results.roc_auc_crnn[i]))\n",
        "  aucs_iwv.append(float(results.roc_auc_iwv[i]))\n",
        "  aucs_acbilstm.append(float(results.roc_auc_acbilstm[i]))\n",
        "  \n",
        "auc_stacked = np.mean(aucs_stacked)\n",
        "auc_our = np.mean(aucs_our)\n",
        "auc_ssbed = np.mean(aucs_ssbed)\n",
        "auc_han = np.mean(aucs_han)\n",
        "auc_arc = np.mean(aucs_arc)\n",
        "auc_crnn = np.mean(aucs_crnn)\n",
        "auc_iwv = np.mean(aucs_iwv)\n",
        "auc_acbilstm = np.mean(aucs_acbilstm)\n",
        "\n",
        "fig, ax = plt.subplots(figsize=(8,7)) # create a new figure with a default 111 subplot\n",
        "#ax.plot(fpr_stacked, tpr_stacked, label='Stacked Model (area = %0.f)' % auc_stacked, linewidth=2, color = 'red')\n",
        "ax.plot(fpr_our, tpr_our, label='Our Model (area = %0.3f)' % auc_our, linewidth=2, color = 'red')\n",
        "ax.plot(fpr_ssbed, tpr_ssbed, label='SS-BED (area = %0.3f)' % auc_ssbed, linewidth=2, color = 'blue')\n",
        "ax.plot(fpr_han, tpr_han, label='HAN-BED (area = %0.3f)' % auc_han, linewidth=2, color = 'pink')\n",
        "ax.plot(fpr_arc, tpr_arc, label='ARC (area = %0.3f)' % auc_arc, linewidth=2, color = 'brown')\n",
        "ax.plot(fpr_crnn, tpr_crnn, label='CRNN (area = %0.3f)' % auc_crnn, linewidth=2, color = 'orange')\n",
        "ax.plot(fpr_iwv, tpr_iwv, label='IWV (area = %0.3f)' % auc_iwv, linewidth=2, color = 'cyan')\n",
        "ax.plot(fpr_acbilstm, tpr_acbilstm, label='AC-BiLSTM (area = %0.3f)' % auc_acbilstm, linewidth=2, color = 'green')\n",
        "ax.set_xlabel('False Positive Rate', fontsize=18)\n",
        "ax.set_ylabel('True Positive Rate')\n",
        "ax.set_title('Receiver operating characteristic')\n",
        "ax.legend(loc='lower left',  ncol = 2,bbox_to_anchor=(0.05, 0.0, 0.0, 0.0),framealpha= 0.2)\n",
        "\n",
        "axins = zoomed_inset_axes(ax, 2, loc = 'center right') # zoom-factor: 2.5, location: upper-left\n",
        "#axins.plot(fpr_stacked, tpr_stacked, label='Stacked Model (area = %0.3f)' % auc_stacked, linewidth=2, color = 'red')\n",
        "axins.plot(fpr_our, tpr_our, label='Our Model (area = %0.3f)' % auc_our, linewidth=2, color = 'red')\n",
        "axins.plot(fpr_ssbed, tpr_ssbed, label='SS-BED Model (area = %0.3f)' % auc_ssbed, linewidth=2, color = 'blue')\n",
        "axins.plot(fpr_han, tpr_han, label='HAN-BED Model (area = %0.3f)' % auc_han, linewidth=2, color = 'pink')\n",
        "axins.plot(fpr_arc, tpr_arc, label='ARC Model (area = %0.3f)' % auc_arc, linewidth=2, color = 'brown')\n",
        "axins.plot(fpr_crnn, tpr_crnn, label='CRNN Model (area = %0.3f)' % auc_crnn, linewidth=2, color = 'orange')\n",
        "axins.plot(fpr_iwv, tpr_iwv, label='IWV Model (area = %0.3f)' % auc_iwv, linewidth=2, color = 'cyan')\n",
        "axins.plot(fpr_acbilstm, tpr_acbilstm, label='AC-BiLSTM Model (area = %0.3f)' % auc_acbilstm, linewidth=2, color = 'green')\n",
        "\n",
        "axins.patch.set_facecolor('white')\n",
        "axins.patch.set_alpha(0.3)\n",
        "\n",
        "axins.spines['bottom'].set_color('0.7')\n",
        "axins.spines['bottom'].set_linewidth('1')\n",
        "axins.spines['bottom'].set_linestyle('--')\n",
        "axins.spines['top'].set_color('0.7')\n",
        "axins.spines['top'].set_linewidth('1')\n",
        "axins.spines['top'].set_linestyle('--')\n",
        "axins.spines['right'].set_color('0.7')\n",
        "axins.spines['right'].set_linewidth('1')\n",
        "axins.spines['right'].set_linestyle('--')\n",
        "axins.spines['left'].set_color('0.7')\n",
        "axins.spines['left'].set_linewidth('1') \n",
        "axins.spines['left'].set_linestyle('--')  \n",
        "\n",
        "x1, x2, y1, y2 = 0.0, 0.2, 0.8, 1 # specify the limits\n",
        "#x1, x2, y1, y2 = 0.2, 0.5, 0.6, 0.9 # specify the limits\n",
        "\n",
        "axins.set_xlim(x1, x2) # apply the x-limits\n",
        "axins.set_ylim(y1, y2) # apply the y-limits\n",
        "\n",
        "plt.yticks(visible=False)\n",
        "plt.xticks(visible=False)\n",
        "plt.grid(visible=False)\n",
        "\n",
        "from mpl_toolkits.axes_grid1.inset_locator import mark_inset\n",
        "mark_inset(ax, axins, loc1=1, loc2=3, fc=\"white\", ec=\"0.3\", alpha = 0.3, ls = '-.')\n",
        "\n",
        "plt.savefig(path+ 't4sa-AUC.png',dpi=300,bbox_inches = 'tight',pad_inches = 0.1)"
      ],
      "execution_count": null,
      "outputs": [
        {
          "output_type": "display_data",
          "data": {
            "image/png": "[encoded data removed]",
            "text/plain": [
              "<Figure size 576x504 with 2 Axes>"
            ]
          },
          "metadata": {
            "tags": []
          }
        }
      ]
    },
    {
      "cell_type": "code",
      "metadata": {
        "id": "w2slBlkIwBt_",
        "colab": {
          "base_uri": "https://localhost:8080/",
          "height": 34
        },
        "outputId": "751f3df2-d6dc-4612-9b06-e60afdde2197"
      },
      "source": [
        "path+ dataset_name"
      ],
      "execution_count": null,
      "outputs": [
        {
          "output_type": "execute_result",
          "data": {
            "text/plain": [
              "'drive/app/Datasets/Tweets/clean_tweet'"
            ]
          },
          "metadata": {
            "tags": []
          },
          "execution_count": 25
        }
      ]
    }
  ]
}